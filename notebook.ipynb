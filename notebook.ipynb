{
 "cells": [
  {
   "cell_type": "markdown",
   "metadata": {},
   "source": [
    "# TP1: Metodología Box-Jenkins y Suavizado Exponencial ETS"
   ]
  },
  {
   "cell_type": "markdown",
   "metadata": {},
   "source": [
    "# 1. Configuración inicial y carga de datos"
   ]
  },
  {
   "cell_type": "markdown",
   "metadata": {},
   "source": [
    "### 1.1 Instalación y carga de librerías"
   ]
  },
  {
   "cell_type": "code",
   "execution_count": 37,
   "metadata": {
    "vscode": {
     "languageId": "r"
    }
   },
   "outputs": [],
   "source": [
    "# Instalar paquetes si no están disponibles\n",
    "# if(!require(readxl)) install.packages(\"readxl\")\n",
    "# if(!require(forecast)) install.packages(\"forecast\")\n",
    "# if(!require(tseries)) install.packages(\"tseries\")\n",
    "# if(!require(ggplot2)) install.packages(\"ggplot2\")\n",
    "# if(!require(dplyr)) install.packages(\"dplyr\")\n",
    "# if(!require(zoo)) install.packages(\"zoo\")\n",
    "\n",
    "# Cargar librerías necesarias\n",
    "library(readxl)\n",
    "library(forecast)\n",
    "library(tseries)\n",
    "library(ggplot2)\n",
    "library(dplyr)\n",
    "library(zoo)\n",
    "\n",
    "# Definir ruta del proyecto\n",
    "project_path <- \"C:/Users/trico/OneDrive/UBA/Series de tiempo/TP1\"\n",
    "\n",
    "# 2.1) Cargar función de diagnóstico de residuos\n",
    "source(file.path(project_path, \"corr_res.R\"))\n",
    "\n",
    "# Configurar opciones\n",
    "options(scipen = 999)  # Evitar notación científica\n",
    "par(bg = \"white\")      # Fondo blanco para gráficos base"
   ]
  },
  {
   "cell_type": "markdown",
   "metadata": {},
   "source": [
    "### 1.2 Lectura de datos"
   ]
  },
  {
   "cell_type": "code",
   "execution_count": 38,
   "metadata": {
    "vscode": {
     "languageId": "r"
    }
   },
   "outputs": [
    {
     "data": {
      "text/html": [
       "<table class=\"dataframe\">\n",
       "<caption>A tibble: 5 × 6</caption>\n",
       "<thead>\n",
       "\t<tr><th scope=col>Periodo</th><th scope=col>EMAE</th><th scope=col>IPC</th><th scope=col>M2N</th><th scope=col>M2R</th><th scope=col>TASA</th></tr>\n",
       "\t<tr><th scope=col>&lt;chr&gt;</th><th scope=col>&lt;dbl&gt;</th><th scope=col>&lt;dbl&gt;</th><th scope=col>&lt;dbl&gt;</th><th scope=col>&lt;dbl&gt;</th><th scope=col>&lt;dbl&gt;</th></tr>\n",
       "</thead>\n",
       "<tbody>\n",
       "\t<tr><td>2004M01</td><td>98.44894</td><td>77.33982</td><td>66006023</td><td>66006023</td><td>4.57</td></tr>\n",
       "\t<tr><td>2004M02</td><td>98.17701</td><td>77.18623</td><td>67545780</td><td>67680182</td><td>4.03</td></tr>\n",
       "\t<tr><td>2004M03</td><td>97.80754</td><td>77.32858</td><td>68027349</td><td>68037235</td><td>3.69</td></tr>\n",
       "\t<tr><td>2004M04</td><td>95.04287</td><td>77.62270</td><td>70499728</td><td>70242804</td><td>3.48</td></tr>\n",
       "\t<tr><td>2004M05</td><td>96.89273</td><td>77.75169</td><td>72987490</td><td>72600858</td><td>3.54</td></tr>\n",
       "</tbody>\n",
       "</table>\n"
      ],
      "text/latex": [
       "A tibble: 5 × 6\n",
       "\\begin{tabular}{llllll}\n",
       " Periodo & EMAE & IPC & M2N & M2R & TASA\\\\\n",
       " <chr> & <dbl> & <dbl> & <dbl> & <dbl> & <dbl>\\\\\n",
       "\\hline\n",
       "\t 2004M01 & 98.44894 & 77.33982 & 66006023 & 66006023 & 4.57\\\\\n",
       "\t 2004M02 & 98.17701 & 77.18623 & 67545780 & 67680182 & 4.03\\\\\n",
       "\t 2004M03 & 97.80754 & 77.32858 & 68027349 & 68037235 & 3.69\\\\\n",
       "\t 2004M04 & 95.04287 & 77.62270 & 70499728 & 70242804 & 3.48\\\\\n",
       "\t 2004M05 & 96.89273 & 77.75169 & 72987490 & 72600858 & 3.54\\\\\n",
       "\\end{tabular}\n"
      ],
      "text/markdown": [
       "\n",
       "A tibble: 5 × 6\n",
       "\n",
       "| Periodo &lt;chr&gt; | EMAE &lt;dbl&gt; | IPC &lt;dbl&gt; | M2N &lt;dbl&gt; | M2R &lt;dbl&gt; | TASA &lt;dbl&gt; |\n",
       "|---|---|---|---|---|---|\n",
       "| 2004M01 | 98.44894 | 77.33982 | 66006023 | 66006023 | 4.57 |\n",
       "| 2004M02 | 98.17701 | 77.18623 | 67545780 | 67680182 | 4.03 |\n",
       "| 2004M03 | 97.80754 | 77.32858 | 68027349 | 68037235 | 3.69 |\n",
       "| 2004M04 | 95.04287 | 77.62270 | 70499728 | 70242804 | 3.48 |\n",
       "| 2004M05 | 96.89273 | 77.75169 | 72987490 | 72600858 | 3.54 |\n",
       "\n"
      ],
      "text/plain": [
       "  Periodo EMAE     IPC      M2N      M2R      TASA\n",
       "1 2004M01 98.44894 77.33982 66006023 66006023 4.57\n",
       "2 2004M02 98.17701 77.18623 67545780 67680182 4.03\n",
       "3 2004M03 97.80754 77.32858 68027349 68037235 3.69\n",
       "4 2004M04 95.04287 77.62270 70499728 70242804 3.48\n",
       "5 2004M05 96.89273 77.75169 72987490 72600858 3.54"
      ]
     },
     "metadata": {},
     "output_type": "display_data"
    },
    {
     "data": {
      "text/html": [
       "<table class=\"dataframe\">\n",
       "<caption>A tibble: 5 × 6</caption>\n",
       "<thead>\n",
       "\t<tr><th scope=col>Periodo</th><th scope=col>IMACEC</th><th scope=col>M2N</th><th scope=col>IPC</th><th scope=col>M2R</th><th scope=col>TASA</th></tr>\n",
       "\t<tr><th scope=col>&lt;dttm&gt;</th><th scope=col>&lt;dbl&gt;</th><th scope=col>&lt;dbl&gt;</th><th scope=col>&lt;dbl&gt;</th><th scope=col>&lt;dbl&gt;</th><th scope=col>&lt;dbl&gt;</th></tr>\n",
       "</thead>\n",
       "<tbody>\n",
       "\t<tr><td>2004-01-01</td><td>56.95508</td><td>22880.17</td><td>46.12519</td><td>22880.17</td><td>6.107525</td></tr>\n",
       "\t<tr><td>2004-02-01</td><td>54.85665</td><td>22853.76</td><td>46.12926</td><td>22851.74</td><td>6.407674</td></tr>\n",
       "\t<tr><td>2004-03-01</td><td>61.86300</td><td>23231.16</td><td>46.32336</td><td>23131.78</td><td>6.943765</td></tr>\n",
       "\t<tr><td>2004-04-01</td><td>60.63709</td><td>23852.51</td><td>46.49362</td><td>23663.49</td><td>6.637812</td></tr>\n",
       "\t<tr><td>2004-05-01</td><td>60.08506</td><td>23705.82</td><td>46.73653</td><td>23395.73</td><td>6.957272</td></tr>\n",
       "</tbody>\n",
       "</table>\n"
      ],
      "text/latex": [
       "A tibble: 5 × 6\n",
       "\\begin{tabular}{llllll}\n",
       " Periodo & IMACEC & M2N & IPC & M2R & TASA\\\\\n",
       " <dttm> & <dbl> & <dbl> & <dbl> & <dbl> & <dbl>\\\\\n",
       "\\hline\n",
       "\t 2004-01-01 & 56.95508 & 22880.17 & 46.12519 & 22880.17 & 6.107525\\\\\n",
       "\t 2004-02-01 & 54.85665 & 22853.76 & 46.12926 & 22851.74 & 6.407674\\\\\n",
       "\t 2004-03-01 & 61.86300 & 23231.16 & 46.32336 & 23131.78 & 6.943765\\\\\n",
       "\t 2004-04-01 & 60.63709 & 23852.51 & 46.49362 & 23663.49 & 6.637812\\\\\n",
       "\t 2004-05-01 & 60.08506 & 23705.82 & 46.73653 & 23395.73 & 6.957272\\\\\n",
       "\\end{tabular}\n"
      ],
      "text/markdown": [
       "\n",
       "A tibble: 5 × 6\n",
       "\n",
       "| Periodo &lt;dttm&gt; | IMACEC &lt;dbl&gt; | M2N &lt;dbl&gt; | IPC &lt;dbl&gt; | M2R &lt;dbl&gt; | TASA &lt;dbl&gt; |\n",
       "|---|---|---|---|---|---|\n",
       "| 2004-01-01 | 56.95508 | 22880.17 | 46.12519 | 22880.17 | 6.107525 |\n",
       "| 2004-02-01 | 54.85665 | 22853.76 | 46.12926 | 22851.74 | 6.407674 |\n",
       "| 2004-03-01 | 61.86300 | 23231.16 | 46.32336 | 23131.78 | 6.943765 |\n",
       "| 2004-04-01 | 60.63709 | 23852.51 | 46.49362 | 23663.49 | 6.637812 |\n",
       "| 2004-05-01 | 60.08506 | 23705.82 | 46.73653 | 23395.73 | 6.957272 |\n",
       "\n"
      ],
      "text/plain": [
       "  Periodo    IMACEC   M2N      IPC      M2R      TASA    \n",
       "1 2004-01-01 56.95508 22880.17 46.12519 22880.17 6.107525\n",
       "2 2004-02-01 54.85665 22853.76 46.12926 22851.74 6.407674\n",
       "3 2004-03-01 61.86300 23231.16 46.32336 23131.78 6.943765\n",
       "4 2004-04-01 60.63709 23852.51 46.49362 23663.49 6.637812\n",
       "5 2004-05-01 60.08506 23705.82 46.73653 23395.73 6.957272"
      ]
     },
     "metadata": {},
     "output_type": "display_data"
    }
   ],
   "source": [
    "# Leer datos de Argentina (skip=1 para eliminar sólo el título)\n",
    "datos_arg <- read_excel(\n",
    "  file.path(project_path, \"Datos Argentina.xlsx\"),\n",
    "  skip      = 1,\n",
    "  col_names = c(\"Periodo\",\"EMAE\",\"IPC\",\"M2N\",\"M2R\",\"TASA\")\n",
    ")\n",
    "\n",
    "# Leer datos de Chile (skip=3 para saltar título, línea en blanco y cabecera)\n",
    "datos_chi <- read_excel(\n",
    "  file.path(project_path, \"Datos Chile.xlsx\"),\n",
    "  skip      = 3,\n",
    "  col_names = c(\"Periodo\",\"IMACEC\",\"M2N\",\"IPC\",\"M2R\",\"TASA\")\n",
    ")\n",
    "\n",
    "# Mostrar primeras filas para verificar\n",
    "head(datos_arg, 5)\n",
    "head(datos_chi, 5)"
   ]
  },
  {
   "cell_type": "markdown",
   "metadata": {},
   "source": [
    "# 2. Preparación de series temporales\n",
    "\n"
   ]
  },
  {
   "cell_type": "markdown",
   "metadata": {},
   "source": [
    "### 2.1 Creación de series temporales y diferencias logarítmicas"
   ]
  },
  {
   "cell_type": "code",
   "execution_count": 39,
   "metadata": {
    "vscode": {
     "languageId": "r"
    }
   },
   "outputs": [],
   "source": [
    "datos_arg$Fecha <- as.Date(as.yearmon(gsub(\"M\",\"-\", datos_arg$Periodo), \"%Y-%m\"))\n",
    "datos_chi$Fecha <- as.Date(as.numeric(datos_chi$Periodo), origin=\"1899-12-30\")\n",
    "\n",
    "# Crear objetos ts (enero-2004 en adelante)\n",
    "ts_emae     <- ts(datos_arg$EMAE,     start=c(2004,1), frequency=12)\n",
    "ts_ipc_arg  <- ts(datos_arg$IPC,      start=c(2004,1), frequency=12)\n",
    "ts_m2_arg   <- ts(datos_arg$M2N,      start=c(2004,1), frequency=12)\n",
    "ts_tasa_arg <- ts(datos_arg$TASA,     start=c(2004,1), frequency=12)\n",
    "\n",
    "ts_imacec   <- ts(datos_chi$IMACEC,   start=c(2004,1), frequency=12)\n",
    "ts_ipc_chi  <- ts(datos_chi$IPC,      start=c(2004,1), frequency=12)\n",
    "ts_m2_chi   <- ts(datos_chi$M2N,      start=c(2004,1), frequency=12)\n",
    "ts_tasa_chi <- ts(datos_chi$TASA,     start=c(2004,1), frequency=12)"
   ]
  },
  {
   "cell_type": "code",
   "execution_count": 40,
   "metadata": {
    "vscode": {
     "languageId": "r"
    }
   },
   "outputs": [],
   "source": [
    "# Calcular diferencias logarítmicas de cada serie temporal previamente creada\n",
    "\n",
    "# Función para calcular la diferencia logarítmica \n",
    "# (aproxima la tasa de crecimiento)\n",
    "calcular_diff_log <- function(x) diff(log(x))\n",
    "\n",
    "# --- Series de Argentina ---\n",
    "# Dif. log EMAE (Act. Económica) Arg\n",
    "dl_emae     <- calcular_diff_log(ts_emae)     \n",
    "# Dif. log IPC (Precios) Arg\n",
    "dl_ipc_arg  <- calcular_diff_log(ts_ipc_arg)  \n",
    "# Dif. log M2 (Agregado Monetario) Arg\n",
    "dl_m2_arg   <- calcular_diff_log(ts_m2_arg)   \n",
    "# Dif. log TASA (Interés) Arg\n",
    "dl_tasa_arg <- calcular_diff_log(ts_tasa_arg) \n",
    "\n",
    "# --- Series de Chile ---\n",
    "# Dif. log IMACEC (Act. Económica) Chi\n",
    "dl_imacec   <- calcular_diff_log(ts_imacec)   \n",
    "# Dif. log IPC (Precios) Chi\n",
    "dl_ipc_chi  <- calcular_diff_log(ts_ipc_chi)  \n",
    "# Dif. log M2 (Agregado Monetario) Chi\n",
    "dl_m2_chi   <- calcular_diff_log(ts_m2_chi)   \n",
    "# Dif. log TASA (Interés) Chi\n",
    "dl_tasa_chi <- calcular_diff_log(ts_tasa_chi) \n",
    "\n",
    "# Definir ventanas de entrenamiento para cada serie diferenciada\n",
    "# Período de entrenamiento: hasta diciembre 2022\n",
    "\n",
    "# --- Ventanas de Entrenamiento - Argentina ---\n",
    "# EMAE Arg (entrenamiento)\n",
    "dl_emae_train     <- window(dl_emae,     end = c(2022, 12)) \n",
    "# IPC Arg (entrenamiento)\n",
    "dl_ipc_arg_train  <- window(dl_ipc_arg,  end = c(2022, 12)) \n",
    "# M2 Arg (entrenamiento)\n",
    "dl_m2_arg_train   <- window(dl_m2_arg,   end = c(2022, 12)) \n",
    "# TASA Arg (entrenamiento)\n",
    "dl_tasa_arg_train <- window(dl_tasa_arg, end = c(2022, 12)) \n",
    "\n",
    "# --- Ventanas de Entrenamiento - Chile ---\n",
    "# IMACEC Chi (entrenamiento)\n",
    "dl_imacec_train   <- window(dl_imacec,   end = c(2022, 12)) \n",
    "# IPC Chi (entrenamiento)\n",
    "dl_ipc_chi_train  <- window(dl_ipc_chi,  end = c(2022, 12)) \n",
    "# M2 Chi (entrenamiento)\n",
    "dl_m2_chi_train   <- window(dl_m2_chi,   end = c(2022, 12)) \n",
    "# TASA Chi (entrenamiento)\n",
    "dl_tasa_chi_train <- window(dl_tasa_chi, end = c(2022, 12)) "
   ]
  },
  {
   "cell_type": "markdown",
   "metadata": {},
   "source": [
    "# 3. Estimacion de modelos"
   ]
  },
  {
   "cell_type": "markdown",
   "metadata": {},
   "source": [
    "## Argentina"
   ]
  },
  {
   "cell_type": "markdown",
   "metadata": {},
   "source": [
    "### 3.1 Estimacion EMAE - Arg"
   ]
  },
  {
   "cell_type": "code",
   "execution_count": 41,
   "metadata": {
    "vscode": {
     "languageId": "r"
    }
   },
   "outputs": [
    {
     "data": {
      "text/plain": [
       "Series: dl_emae_train \n",
       "ARIMA(4,0,0)(0,1,1)[12] \n",
       "\n",
       "Coefficients:\n",
       "         ar1      ar2     ar3     ar4     sma1\n",
       "      0.1087  -0.1193  0.0291  0.0151  -0.9549\n",
       "s.e.  0.0681   0.0683  0.0684  0.0682   0.1140\n",
       "\n",
       "sigma^2 = 0.0003779:  log likelihood = 531.23\n",
       "AIC=-1050.45   AICc=-1050.05   BIC=-1030.23\n",
       "\n",
       "Training set error measures:\n",
       "                       ME       RMSE        MAE      MPE    MAPE     MASE\n",
       "Training set -0.001823165 0.01869647 0.01109177 97.38346 245.977 0.651687\n",
       "                    ACF1\n",
       "Training set -0.01225977"
      ]
     },
     "metadata": {},
     "output_type": "display_data"
    },
    {
     "data": {
      "text/html": [
       "<table class=\"dataframe\">\n",
       "<caption>A matrix: 26 × 3 of type chr</caption>\n",
       "<thead>\n",
       "\t<tr><th scope=col>lag</th><th scope=col>Estadistico Q</th><th scope=col>p-value</th></tr>\n",
       "</thead>\n",
       "<tbody>\n",
       "\t<tr><td>1 </td><td>0.0346 </td><td>NA    </td></tr>\n",
       "\t<tr><td>2 </td><td>0.061  </td><td>NA    </td></tr>\n",
       "\t<tr><td>3 </td><td>0.1154 </td><td>NA    </td></tr>\n",
       "\t<tr><td>4 </td><td>0.1463 </td><td>NA    </td></tr>\n",
       "\t<tr><td>5 </td><td>0.3813 </td><td>NA    </td></tr>\n",
       "\t<tr><td>6 </td><td>1.2043 </td><td>0.2725</td></tr>\n",
       "\t<tr><td>7 </td><td>2.1663 </td><td>0.3385</td></tr>\n",
       "\t<tr><td>8 </td><td>2.2652 </td><td>0.5192</td></tr>\n",
       "\t<tr><td>9 </td><td>5.9686 </td><td>0.2015</td></tr>\n",
       "\t<tr><td>10</td><td>6.6301 </td><td>0.2496</td></tr>\n",
       "\t<tr><td>11</td><td>9.0891 </td><td>0.1686</td></tr>\n",
       "\t<tr><td>12</td><td>9.485  </td><td>0.2197</td></tr>\n",
       "\t<tr><td>13</td><td>9.919  </td><td>0.2708</td></tr>\n",
       "\t<tr><td>14</td><td>10.0237</td><td>0.3486</td></tr>\n",
       "\t<tr><td>15</td><td>10.0605</td><td>0.4352</td></tr>\n",
       "\t<tr><td>16</td><td>10.2931</td><td>0.5042</td></tr>\n",
       "\t<tr><td>17</td><td>10.4991</td><td>0.5723</td></tr>\n",
       "\t<tr><td>18</td><td>10.5606</td><td>0.6476</td></tr>\n",
       "\t<tr><td>19</td><td>10.638 </td><td>0.7142</td></tr>\n",
       "\t<tr><td>20</td><td>14.2656</td><td>0.5055</td></tr>\n",
       "\t<tr><td>21</td><td>15.0308</td><td>0.5224</td></tr>\n",
       "\t<tr><td>22</td><td>15.052 </td><td>0.5917</td></tr>\n",
       "\t<tr><td>23</td><td>17.1968</td><td>0.5096</td></tr>\n",
       "\t<tr><td>24</td><td>20.1316</td><td>0.3867</td></tr>\n",
       "\t<tr><td>25</td><td>21.3206</td><td>0.3785</td></tr>\n",
       "\t<tr><td>26</td><td>21.3396</td><td>0.4384</td></tr>\n",
       "</tbody>\n",
       "</table>\n"
      ],
      "text/latex": [
       "A matrix: 26 × 3 of type chr\n",
       "\\begin{tabular}{lll}\n",
       " lag & Estadistico Q & p-value\\\\\n",
       "\\hline\n",
       "\t 1  & 0.0346  & NA    \\\\\n",
       "\t 2  & 0.061   & NA    \\\\\n",
       "\t 3  & 0.1154  & NA    \\\\\n",
       "\t 4  & 0.1463  & NA    \\\\\n",
       "\t 5  & 0.3813  & NA    \\\\\n",
       "\t 6  & 1.2043  & 0.2725\\\\\n",
       "\t 7  & 2.1663  & 0.3385\\\\\n",
       "\t 8  & 2.2652  & 0.5192\\\\\n",
       "\t 9  & 5.9686  & 0.2015\\\\\n",
       "\t 10 & 6.6301  & 0.2496\\\\\n",
       "\t 11 & 9.0891  & 0.1686\\\\\n",
       "\t 12 & 9.485   & 0.2197\\\\\n",
       "\t 13 & 9.919   & 0.2708\\\\\n",
       "\t 14 & 10.0237 & 0.3486\\\\\n",
       "\t 15 & 10.0605 & 0.4352\\\\\n",
       "\t 16 & 10.2931 & 0.5042\\\\\n",
       "\t 17 & 10.4991 & 0.5723\\\\\n",
       "\t 18 & 10.5606 & 0.6476\\\\\n",
       "\t 19 & 10.638  & 0.7142\\\\\n",
       "\t 20 & 14.2656 & 0.5055\\\\\n",
       "\t 21 & 15.0308 & 0.5224\\\\\n",
       "\t 22 & 15.052  & 0.5917\\\\\n",
       "\t 23 & 17.1968 & 0.5096\\\\\n",
       "\t 24 & 20.1316 & 0.3867\\\\\n",
       "\t 25 & 21.3206 & 0.3785\\\\\n",
       "\t 26 & 21.3396 & 0.4384\\\\\n",
       "\\end{tabular}\n"
      ],
      "text/markdown": [
       "\n",
       "A matrix: 26 × 3 of type chr\n",
       "\n",
       "| lag | Estadistico Q | p-value |\n",
       "|---|---|---|\n",
       "| 1  | 0.0346  | NA     |\n",
       "| 2  | 0.061   | NA     |\n",
       "| 3  | 0.1154  | NA     |\n",
       "| 4  | 0.1463  | NA     |\n",
       "| 5  | 0.3813  | NA     |\n",
       "| 6  | 1.2043  | 0.2725 |\n",
       "| 7  | 2.1663  | 0.3385 |\n",
       "| 8  | 2.2652  | 0.5192 |\n",
       "| 9  | 5.9686  | 0.2015 |\n",
       "| 10 | 6.6301  | 0.2496 |\n",
       "| 11 | 9.0891  | 0.1686 |\n",
       "| 12 | 9.485   | 0.2197 |\n",
       "| 13 | 9.919   | 0.2708 |\n",
       "| 14 | 10.0237 | 0.3486 |\n",
       "| 15 | 10.0605 | 0.4352 |\n",
       "| 16 | 10.2931 | 0.5042 |\n",
       "| 17 | 10.4991 | 0.5723 |\n",
       "| 18 | 10.5606 | 0.6476 |\n",
       "| 19 | 10.638  | 0.7142 |\n",
       "| 20 | 14.2656 | 0.5055 |\n",
       "| 21 | 15.0308 | 0.5224 |\n",
       "| 22 | 15.052  | 0.5917 |\n",
       "| 23 | 17.1968 | 0.5096 |\n",
       "| 24 | 20.1316 | 0.3867 |\n",
       "| 25 | 21.3206 | 0.3785 |\n",
       "| 26 | 21.3396 | 0.4384 |\n",
       "\n"
      ],
      "text/plain": [
       "      lag Estadistico Q p-value\n",
       " [1,] 1   0.0346        NA     \n",
       " [2,] 2   0.061         NA     \n",
       " [3,] 3   0.1154        NA     \n",
       " [4,] 4   0.1463        NA     \n",
       " [5,] 5   0.3813        NA     \n",
       " [6,] 6   1.2043        0.2725 \n",
       " [7,] 7   2.1663        0.3385 \n",
       " [8,] 8   2.2652        0.5192 \n",
       " [9,] 9   5.9686        0.2015 \n",
       "[10,] 10  6.6301        0.2496 \n",
       "[11,] 11  9.0891        0.1686 \n",
       "[12,] 12  9.485         0.2197 \n",
       "[13,] 13  9.919         0.2708 \n",
       "[14,] 14  10.0237       0.3486 \n",
       "[15,] 15  10.0605       0.4352 \n",
       "[16,] 16  10.2931       0.5042 \n",
       "[17,] 17  10.4991       0.5723 \n",
       "[18,] 18  10.5606       0.6476 \n",
       "[19,] 19  10.638        0.7142 \n",
       "[20,] 20  14.2656       0.5055 \n",
       "[21,] 21  15.0308       0.5224 \n",
       "[22,] 22  15.052        0.5917 \n",
       "[23,] 23  17.1968       0.5096 \n",
       "[24,] 24  20.1316       0.3867 \n",
       "[25,] 25  21.3206       0.3785 \n",
       "[26,] 26  21.3396       0.4384 "
      ]
     },
     "metadata": {},
     "output_type": "display_data"
    }
   ],
   "source": [
    "# --- Forzar estructura de IMACEC Chile (ARIMA(4,0,0)(0,1,1)[12]) a EMAE Argentina ---\n",
    "# Objetivo: Aplicar manualmente la estructura que funcionó razonablemente bien\n",
    "#           para IMACEC Chile a la serie EMAE Argentina, para ver si mejora\n",
    "#           el pronóstico plano del modelo ARIMA(0,0,2) original.\n",
    "# Método: Usar Arima() con órdenes específicos.\n",
    "# Se sobrescribe 'model_emae_arg'.\n",
    "\n",
    "library(forecast) # Asegurar que esté cargado\n",
    "\n",
    "# Especificar órdenes del modelo IMACEC\n",
    "p_emae <- 4; d_emae <- 0; q_emae <- 0\n",
    "P_emae <- 0; D_emae <- 1; Q_emae <- 1\n",
    "\n",
    "# Ajustar el modelo Arima con la estructura forzada\n",
    "model_emae_arg <- Arima( # Sobrescribe la variable original\n",
    "  dl_emae_train, \n",
    "  order = c(p_emae, d_emae, q_emae), \n",
    "  seasonal = list(order = c(P_emae, D_emae, Q_emae), period = 12),\n",
    "  method = \"ML\" # Usar Máxima Verosimilitud (o CSS-ML si ML falla)\n",
    ")\n",
    "\n",
    "# Resumen del modelo EMAE con estructura forzada\n",
    "summary(model_emae_arg)\n",
    "\n",
    "# Diagnóstico de residuos del modelo forzado\n",
    "# Verificar si, casualmente, los residuos son aceptables con esta estructura.\n",
    "# p_q = p + q + P + Q = 4 + 0 + 0 + 1 = 5\n",
    "corr_res(\n",
    "  model_emae_arg,\n",
    "  lags = 26, \n",
    "  p_q = p_emae + q_emae + P_emae + Q_emae \n",
    ")\n",
    "\n",
    "# Si este modelo parece razonable y los residuos son aceptables (o al menos\n",
    "# no peores que el original), se podría usar para un nuevo pronóstico."
   ]
  },
  {
   "cell_type": "markdown",
   "metadata": {},
   "source": [
    "### 3.2 Estimacion IPC - Arg"
   ]
  },
  {
   "cell_type": "code",
   "execution_count": 42,
   "metadata": {
    "vscode": {
     "languageId": "r"
    }
   },
   "outputs": [
    {
     "data": {
      "text/plain": [
       "Series: dl_ipc_arg_train \n",
       "ARIMA(4,0,0)(0,1,1)[12] \n",
       "\n",
       "Coefficients:\n",
       "         ar1     ar2     ar3     ar4    sma1\n",
       "      0.3679  0.2780  0.0969  0.0488  -0.856\n",
       "s.e.  0.0685  0.0736  0.0730  0.0708   0.063\n",
       "\n",
       "sigma^2 = 0.0001413:  log likelihood = 642.32\n",
       "AIC=-1272.64   AICc=-1272.24   BIC=-1252.42\n",
       "\n",
       "Training set error measures:\n",
       "                      ME       RMSE         MAE       MPE     MAPE      MASE\n",
       "Training set 0.001757023 0.01143277 0.008247509 -71.94889 116.2751 0.6116138\n",
       "                    ACF1\n",
       "Training set -0.01916242"
      ]
     },
     "metadata": {},
     "output_type": "display_data"
    },
    {
     "data": {
      "text/html": [
       "<table class=\"dataframe\">\n",
       "<caption>A matrix: 26 × 3 of type chr</caption>\n",
       "<thead>\n",
       "\t<tr><th scope=col>lag</th><th scope=col>Estadistico Q</th><th scope=col>p-value</th></tr>\n",
       "</thead>\n",
       "<tbody>\n",
       "\t<tr><td>1 </td><td>0.0845 </td><td>NA    </td></tr>\n",
       "\t<tr><td>2 </td><td>0.1354 </td><td>NA    </td></tr>\n",
       "\t<tr><td>3 </td><td>0.1356 </td><td>NA    </td></tr>\n",
       "\t<tr><td>4 </td><td>0.1482 </td><td>NA    </td></tr>\n",
       "\t<tr><td>5 </td><td>3.2706 </td><td>NA    </td></tr>\n",
       "\t<tr><td>6 </td><td>3.2751 </td><td>0.0703</td></tr>\n",
       "\t<tr><td>7 </td><td>3.4891 </td><td>0.1747</td></tr>\n",
       "\t<tr><td>8 </td><td>6.589  </td><td>0.0862</td></tr>\n",
       "\t<tr><td>9 </td><td>7.6141 </td><td>0.1068</td></tr>\n",
       "\t<tr><td>10</td><td>8.2915 </td><td>0.1409</td></tr>\n",
       "\t<tr><td>11</td><td>8.8072 </td><td>0.1847</td></tr>\n",
       "\t<tr><td>12</td><td>8.8271 </td><td>0.2653</td></tr>\n",
       "\t<tr><td>13</td><td>8.8878 </td><td>0.3519</td></tr>\n",
       "\t<tr><td>14</td><td>9.5621 </td><td>0.3871</td></tr>\n",
       "\t<tr><td>15</td><td>10.3193</td><td>0.4129</td></tr>\n",
       "\t<tr><td>16</td><td>11.9051</td><td>0.3708</td></tr>\n",
       "\t<tr><td>17</td><td>12.5267</td><td>0.4044</td></tr>\n",
       "\t<tr><td>18</td><td>14.5423</td><td>0.3368</td></tr>\n",
       "\t<tr><td>19</td><td>14.5443</td><td>0.41  </td></tr>\n",
       "\t<tr><td>20</td><td>14.5445</td><td>0.4847</td></tr>\n",
       "\t<tr><td>21</td><td>15.9298</td><td>0.4579</td></tr>\n",
       "\t<tr><td>22</td><td>17.0108</td><td>0.4536</td></tr>\n",
       "\t<tr><td>23</td><td>17.5285</td><td>0.4871</td></tr>\n",
       "\t<tr><td>24</td><td>25.1595</td><td>0.1554</td></tr>\n",
       "\t<tr><td>25</td><td>25.3377</td><td>0.1888</td></tr>\n",
       "\t<tr><td>26</td><td>25.3842</td><td>0.2309</td></tr>\n",
       "</tbody>\n",
       "</table>\n"
      ],
      "text/latex": [
       "A matrix: 26 × 3 of type chr\n",
       "\\begin{tabular}{lll}\n",
       " lag & Estadistico Q & p-value\\\\\n",
       "\\hline\n",
       "\t 1  & 0.0845  & NA    \\\\\n",
       "\t 2  & 0.1354  & NA    \\\\\n",
       "\t 3  & 0.1356  & NA    \\\\\n",
       "\t 4  & 0.1482  & NA    \\\\\n",
       "\t 5  & 3.2706  & NA    \\\\\n",
       "\t 6  & 3.2751  & 0.0703\\\\\n",
       "\t 7  & 3.4891  & 0.1747\\\\\n",
       "\t 8  & 6.589   & 0.0862\\\\\n",
       "\t 9  & 7.6141  & 0.1068\\\\\n",
       "\t 10 & 8.2915  & 0.1409\\\\\n",
       "\t 11 & 8.8072  & 0.1847\\\\\n",
       "\t 12 & 8.8271  & 0.2653\\\\\n",
       "\t 13 & 8.8878  & 0.3519\\\\\n",
       "\t 14 & 9.5621  & 0.3871\\\\\n",
       "\t 15 & 10.3193 & 0.4129\\\\\n",
       "\t 16 & 11.9051 & 0.3708\\\\\n",
       "\t 17 & 12.5267 & 0.4044\\\\\n",
       "\t 18 & 14.5423 & 0.3368\\\\\n",
       "\t 19 & 14.5443 & 0.41  \\\\\n",
       "\t 20 & 14.5445 & 0.4847\\\\\n",
       "\t 21 & 15.9298 & 0.4579\\\\\n",
       "\t 22 & 17.0108 & 0.4536\\\\\n",
       "\t 23 & 17.5285 & 0.4871\\\\\n",
       "\t 24 & 25.1595 & 0.1554\\\\\n",
       "\t 25 & 25.3377 & 0.1888\\\\\n",
       "\t 26 & 25.3842 & 0.2309\\\\\n",
       "\\end{tabular}\n"
      ],
      "text/markdown": [
       "\n",
       "A matrix: 26 × 3 of type chr\n",
       "\n",
       "| lag | Estadistico Q | p-value |\n",
       "|---|---|---|\n",
       "| 1  | 0.0845  | NA     |\n",
       "| 2  | 0.1354  | NA     |\n",
       "| 3  | 0.1356  | NA     |\n",
       "| 4  | 0.1482  | NA     |\n",
       "| 5  | 3.2706  | NA     |\n",
       "| 6  | 3.2751  | 0.0703 |\n",
       "| 7  | 3.4891  | 0.1747 |\n",
       "| 8  | 6.589   | 0.0862 |\n",
       "| 9  | 7.6141  | 0.1068 |\n",
       "| 10 | 8.2915  | 0.1409 |\n",
       "| 11 | 8.8072  | 0.1847 |\n",
       "| 12 | 8.8271  | 0.2653 |\n",
       "| 13 | 8.8878  | 0.3519 |\n",
       "| 14 | 9.5621  | 0.3871 |\n",
       "| 15 | 10.3193 | 0.4129 |\n",
       "| 16 | 11.9051 | 0.3708 |\n",
       "| 17 | 12.5267 | 0.4044 |\n",
       "| 18 | 14.5423 | 0.3368 |\n",
       "| 19 | 14.5443 | 0.41   |\n",
       "| 20 | 14.5445 | 0.4847 |\n",
       "| 21 | 15.9298 | 0.4579 |\n",
       "| 22 | 17.0108 | 0.4536 |\n",
       "| 23 | 17.5285 | 0.4871 |\n",
       "| 24 | 25.1595 | 0.1554 |\n",
       "| 25 | 25.3377 | 0.1888 |\n",
       "| 26 | 25.3842 | 0.2309 |\n",
       "\n"
      ],
      "text/plain": [
       "      lag Estadistico Q p-value\n",
       " [1,] 1   0.0845        NA     \n",
       " [2,] 2   0.1354        NA     \n",
       " [3,] 3   0.1356        NA     \n",
       " [4,] 4   0.1482        NA     \n",
       " [5,] 5   3.2706        NA     \n",
       " [6,] 6   3.2751        0.0703 \n",
       " [7,] 7   3.4891        0.1747 \n",
       " [8,] 8   6.589         0.0862 \n",
       " [9,] 9   7.6141        0.1068 \n",
       "[10,] 10  8.2915        0.1409 \n",
       "[11,] 11  8.8072        0.1847 \n",
       "[12,] 12  8.8271        0.2653 \n",
       "[13,] 13  8.8878        0.3519 \n",
       "[14,] 14  9.5621        0.3871 \n",
       "[15,] 15  10.3193       0.4129 \n",
       "[16,] 16  11.9051       0.3708 \n",
       "[17,] 17  12.5267       0.4044 \n",
       "[18,] 18  14.5423       0.3368 \n",
       "[19,] 19  14.5443       0.41   \n",
       "[20,] 20  14.5445       0.4847 \n",
       "[21,] 21  15.9298       0.4579 \n",
       "[22,] 22  17.0108       0.4536 \n",
       "[23,] 23  17.5285       0.4871 \n",
       "[24,] 24  25.1595       0.1554 \n",
       "[25,] 25  25.3377       0.1888 \n",
       "[26,] 26  25.3842       0.2309 "
      ]
     },
     "metadata": {},
     "output_type": "display_data"
    }
   ],
   "source": [
    "# --- Forzar estructura de IMACEC Chile (ARIMA(4,0,0)(0,1,1)[12]) a IPC Argentina ---\n",
    "# Objetivo: Aplicar manualmente la estructura estacional que funcionó\n",
    "#           razonablemente bien para IMACEC Chile a la serie IPC Argentina.\n",
    "#           Se sobrescribe el modelo anterior 'model_ipc_arg'.\n",
    "# Método: Usar Arima() con órdenes específicos.\n",
    "\n",
    "library(forecast) # Asegurar que esté cargado\n",
    "\n",
    "# Especificar órdenes del modelo IMACEC\n",
    "p_ipc <- 4; d_ipc <- 0; q_ipc <- 0\n",
    "P_ipc <- 0; D_ipc <- 1; Q_ipc <- 1\n",
    "\n",
    "# Ajustar el modelo Arima con la estructura forzada\n",
    "model_ipc_arg <- Arima( # Sobrescribe la variable original\n",
    "  dl_ipc_arg_train,\n",
    "  order = c(p_ipc, d_ipc, q_ipc),\n",
    "  seasonal = list(order = c(P_ipc, D_ipc, Q_ipc), period = 12),\n",
    "  method = \"ML\" # Usar Máxima Verosimilitud (o CSS-ML si ML falla)\n",
    ")\n",
    "\n",
    "# Resumen del modelo IPC con estructura forzada\n",
    "summary(model_ipc_arg)\n",
    "\n",
    "# Diagnóstico de residuos del modelo forzado\n",
    "# Verificar si, con esta estructura estacional, los residuos son aceptables.\n",
    "# p_q = p + q + P + Q = 4 + 0 + 0 + 1 = 5\n",
    "corr_res(\n",
    "  model_ipc_arg,\n",
    "  lags = 26,\n",
    "  p_q = p_ipc + q_ipc + P_ipc + Q_ipc\n",
    ")\n",
    "\n",
    "# Este modelo ahora reemplaza al que fue ajustado previamente por auto.arima.\n",
    "# Se debe evaluar si esta estructura forzada ofrece una mejora o no."
   ]
  },
  {
   "cell_type": "markdown",
   "metadata": {},
   "source": [
    "### 3.3 Estimacion Agregado Monetario M2 - Arg"
   ]
  },
  {
   "cell_type": "code",
   "execution_count": 43,
   "metadata": {
    "vscode": {
     "languageId": "r"
    }
   },
   "outputs": [
    {
     "data": {
      "text/plain": [
       "Series: dl_m2_arg_train \n",
       "ARIMA(1,0,3)(0,1,1)[12] \n",
       "\n",
       "Coefficients:\n",
       "         ar1      ma1     ma2     ma3     sma1\n",
       "      0.4413  -0.5379  0.1384  0.2232  -0.7324\n",
       "s.e.  0.1692   0.1667  0.0750  0.0681   0.0763\n",
       "\n",
       "sigma^2 = 0.0007583:  log likelihood = 465.01\n",
       "AIC=-918.03   AICc=-917.62   BIC=-897.8\n",
       "\n",
       "Training set error measures:\n",
       "                      ME       RMSE        MAE      MPE     MAPE      MASE\n",
       "Training set 0.001957972 0.02648678 0.01896444 29.44979 123.7712 0.7872241\n",
       "                     ACF1\n",
       "Training set 0.0001170077"
      ]
     },
     "metadata": {},
     "output_type": "display_data"
    },
    {
     "data": {
      "text/html": [
       "<table class=\"dataframe\">\n",
       "<caption>A matrix: 26 × 3 of type chr</caption>\n",
       "<thead>\n",
       "\t<tr><th scope=col>lag</th><th scope=col>Estadistico Q</th><th scope=col>p-value</th></tr>\n",
       "</thead>\n",
       "<tbody>\n",
       "\t<tr><td>1 </td><td>0      </td><td>NA    </td></tr>\n",
       "\t<tr><td>2 </td><td>0.0727 </td><td>NA    </td></tr>\n",
       "\t<tr><td>3 </td><td>0.0993 </td><td>NA    </td></tr>\n",
       "\t<tr><td>4 </td><td>0.3763 </td><td>NA    </td></tr>\n",
       "\t<tr><td>5 </td><td>2.6168 </td><td>NA    </td></tr>\n",
       "\t<tr><td>6 </td><td>3.5595 </td><td>0.0592</td></tr>\n",
       "\t<tr><td>7 </td><td>6.1193 </td><td>0.0469</td></tr>\n",
       "\t<tr><td>8 </td><td>6.2378 </td><td>0.1006</td></tr>\n",
       "\t<tr><td>9 </td><td>6.3923 </td><td>0.1717</td></tr>\n",
       "\t<tr><td>10</td><td>8.4749 </td><td>0.1319</td></tr>\n",
       "\t<tr><td>11</td><td>8.4878 </td><td>0.2045</td></tr>\n",
       "\t<tr><td>12</td><td>9.6977 </td><td>0.2064</td></tr>\n",
       "\t<tr><td>13</td><td>9.7836 </td><td>0.2805</td></tr>\n",
       "\t<tr><td>14</td><td>10.4911</td><td>0.3122</td></tr>\n",
       "\t<tr><td>15</td><td>10.8051</td><td>0.3729</td></tr>\n",
       "\t<tr><td>16</td><td>16.7212</td><td>0.1164</td></tr>\n",
       "\t<tr><td>17</td><td>16.8194</td><td>0.1565</td></tr>\n",
       "\t<tr><td>18</td><td>16.8657</td><td>0.2055</td></tr>\n",
       "\t<tr><td>19</td><td>18.792 </td><td>0.1731</td></tr>\n",
       "\t<tr><td>20</td><td>20.1031</td><td>0.168 </td></tr>\n",
       "\t<tr><td>21</td><td>21.4509</td><td>0.1618</td></tr>\n",
       "\t<tr><td>22</td><td>21.4514</td><td>0.2067</td></tr>\n",
       "\t<tr><td>23</td><td>21.7464</td><td>0.2434</td></tr>\n",
       "\t<tr><td>24</td><td>21.9172</td><td>0.2884</td></tr>\n",
       "\t<tr><td>25</td><td>21.9172</td><td>0.345 </td></tr>\n",
       "\t<tr><td>26</td><td>22.7519</td><td>0.3573</td></tr>\n",
       "</tbody>\n",
       "</table>\n"
      ],
      "text/latex": [
       "A matrix: 26 × 3 of type chr\n",
       "\\begin{tabular}{lll}\n",
       " lag & Estadistico Q & p-value\\\\\n",
       "\\hline\n",
       "\t 1  & 0       & NA    \\\\\n",
       "\t 2  & 0.0727  & NA    \\\\\n",
       "\t 3  & 0.0993  & NA    \\\\\n",
       "\t 4  & 0.3763  & NA    \\\\\n",
       "\t 5  & 2.6168  & NA    \\\\\n",
       "\t 6  & 3.5595  & 0.0592\\\\\n",
       "\t 7  & 6.1193  & 0.0469\\\\\n",
       "\t 8  & 6.2378  & 0.1006\\\\\n",
       "\t 9  & 6.3923  & 0.1717\\\\\n",
       "\t 10 & 8.4749  & 0.1319\\\\\n",
       "\t 11 & 8.4878  & 0.2045\\\\\n",
       "\t 12 & 9.6977  & 0.2064\\\\\n",
       "\t 13 & 9.7836  & 0.2805\\\\\n",
       "\t 14 & 10.4911 & 0.3122\\\\\n",
       "\t 15 & 10.8051 & 0.3729\\\\\n",
       "\t 16 & 16.7212 & 0.1164\\\\\n",
       "\t 17 & 16.8194 & 0.1565\\\\\n",
       "\t 18 & 16.8657 & 0.2055\\\\\n",
       "\t 19 & 18.792  & 0.1731\\\\\n",
       "\t 20 & 20.1031 & 0.168 \\\\\n",
       "\t 21 & 21.4509 & 0.1618\\\\\n",
       "\t 22 & 21.4514 & 0.2067\\\\\n",
       "\t 23 & 21.7464 & 0.2434\\\\\n",
       "\t 24 & 21.9172 & 0.2884\\\\\n",
       "\t 25 & 21.9172 & 0.345 \\\\\n",
       "\t 26 & 22.7519 & 0.3573\\\\\n",
       "\\end{tabular}\n"
      ],
      "text/markdown": [
       "\n",
       "A matrix: 26 × 3 of type chr\n",
       "\n",
       "| lag | Estadistico Q | p-value |\n",
       "|---|---|---|\n",
       "| 1  | 0       | NA     |\n",
       "| 2  | 0.0727  | NA     |\n",
       "| 3  | 0.0993  | NA     |\n",
       "| 4  | 0.3763  | NA     |\n",
       "| 5  | 2.6168  | NA     |\n",
       "| 6  | 3.5595  | 0.0592 |\n",
       "| 7  | 6.1193  | 0.0469 |\n",
       "| 8  | 6.2378  | 0.1006 |\n",
       "| 9  | 6.3923  | 0.1717 |\n",
       "| 10 | 8.4749  | 0.1319 |\n",
       "| 11 | 8.4878  | 0.2045 |\n",
       "| 12 | 9.6977  | 0.2064 |\n",
       "| 13 | 9.7836  | 0.2805 |\n",
       "| 14 | 10.4911 | 0.3122 |\n",
       "| 15 | 10.8051 | 0.3729 |\n",
       "| 16 | 16.7212 | 0.1164 |\n",
       "| 17 | 16.8194 | 0.1565 |\n",
       "| 18 | 16.8657 | 0.2055 |\n",
       "| 19 | 18.792  | 0.1731 |\n",
       "| 20 | 20.1031 | 0.168  |\n",
       "| 21 | 21.4509 | 0.1618 |\n",
       "| 22 | 21.4514 | 0.2067 |\n",
       "| 23 | 21.7464 | 0.2434 |\n",
       "| 24 | 21.9172 | 0.2884 |\n",
       "| 25 | 21.9172 | 0.345  |\n",
       "| 26 | 22.7519 | 0.3573 |\n",
       "\n"
      ],
      "text/plain": [
       "      lag Estadistico Q p-value\n",
       " [1,] 1   0             NA     \n",
       " [2,] 2   0.0727        NA     \n",
       " [3,] 3   0.0993        NA     \n",
       " [4,] 4   0.3763        NA     \n",
       " [5,] 5   2.6168        NA     \n",
       " [6,] 6   3.5595        0.0592 \n",
       " [7,] 7   6.1193        0.0469 \n",
       " [8,] 8   6.2378        0.1006 \n",
       " [9,] 9   6.3923        0.1717 \n",
       "[10,] 10  8.4749        0.1319 \n",
       "[11,] 11  8.4878        0.2045 \n",
       "[12,] 12  9.6977        0.2064 \n",
       "[13,] 13  9.7836        0.2805 \n",
       "[14,] 14  10.4911       0.3122 \n",
       "[15,] 15  10.8051       0.3729 \n",
       "[16,] 16  16.7212       0.1164 \n",
       "[17,] 17  16.8194       0.1565 \n",
       "[18,] 18  16.8657       0.2055 \n",
       "[19,] 19  18.792        0.1731 \n",
       "[20,] 20  20.1031       0.168  \n",
       "[21,] 21  21.4509       0.1618 \n",
       "[22,] 22  21.4514       0.2067 \n",
       "[23,] 23  21.7464       0.2434 \n",
       "[24,] 24  21.9172       0.2884 \n",
       "[25,] 25  21.9172       0.345  \n",
       "[26,] 26  22.7519       0.3573 "
      ]
     },
     "metadata": {},
     "output_type": "display_data"
    }
   ],
   "source": [
    "# --- Modelo Final Seleccionado para M2 Argentina ---\n",
    "# Objetivo: Encontrar el mejor modelo ARIMA usando auto.arima según TP.\n",
    "# Método: auto.arima guiado (D=1 forzado, criterio BIC, con aproximaciones).\n",
    "# Muestra: Enero 2004 - Diciembre 2022 (completa según TP).\n",
    "\n",
    "# Ejecución de auto.arima con los parámetros definidos\n",
    "model_m2_arg <- auto.arima(\n",
    "  dl_m2_arg_train,\n",
    "  seasonal = TRUE,       # Permitir búsqueda estacional (P, Q)\n",
    "  D = 1,                 # Forzar diferencia estacional D=1 (basado en ACF/PACF)\n",
    "  stepwise = FALSE,      # Búsqueda más exhaustiva (no por pasos)\n",
    "  approximation = TRUE,  # Usar aproximaciones (más rápido)\n",
    "  ic = \"bic\"             # Criterio de selección: BIC\n",
    ")\n",
    "\n",
    "# Resumen del modelo seleccionado: ARIMA(1,0,3)(0,1,1)[12]\n",
    "summary(model_m2_arg)\n",
    "\n",
    "# Diagnóstico de residuos del modelo final\n",
    "# Se espera que sea mayormente ruido blanco, excepto por lag 7.\n",
    "# p_q: grados de libertad (p + q + P + Q)\n",
    "corr_res(\n",
    "  model_m2_arg,\n",
    "  lags = 26, \n",
    "  p_q = sum(model_m2_arg$arma[c(1, 2, 3, 4)]) \n",
    ")\n",
    "\n",
    "# Nota Importante: \n",
    "# Este modelo (ARIMA(1,0,3)(0,1,1)[12]) es el mejor obtenido siguiendo las \n",
    "# directrices del TP (auto.arima guiado en muestra completa). Sin embargo, \n",
    "# el test de Ljung-Box muestra autocorrelación residual significativa en \n",
    "# el lag 7 (p-value ≈ 0.047). Esta limitación se documentará en el informe.\n",
    "# Se procederá con este modelo para los pronósticos."
   ]
  },
  {
   "cell_type": "markdown",
   "metadata": {},
   "source": [
    "### 3.3 Estimacion Tasa de interes - Arg"
   ]
  },
  {
   "cell_type": "code",
   "execution_count": 44,
   "metadata": {
    "vscode": {
     "languageId": "r"
    }
   },
   "outputs": [
    {
     "data": {
      "text/plain": [
       "Series: dl_tasa_arg_train \n",
       "ARIMA(4,0,0)(0,1,1)[12] \n",
       "\n",
       "Coefficients:\n",
       "         ar1      ar2     ar3     ar4    sma1\n",
       "      0.5637  -0.2021  0.0070  0.0732  -1.000\n",
       "s.e.  0.0681   0.0781  0.0781  0.0682   0.094\n",
       "\n",
       "sigma^2 = 0.002731:  log likelihood = 314.22\n",
       "AIC=-616.43   AICc=-616.03   BIC=-596.21\n",
       "\n",
       "Training set error measures:\n",
       "                      ME       RMSE        MAE MPE MAPE      MASE         ACF1\n",
       "Training set 0.001583406 0.05026569 0.03361232 NaN  Inf 0.5223795 -0.005378132"
      ]
     },
     "metadata": {},
     "output_type": "display_data"
    },
    {
     "data": {
      "text/html": [
       "<table class=\"dataframe\">\n",
       "<caption>A matrix: 26 × 3 of type chr</caption>\n",
       "<thead>\n",
       "\t<tr><th scope=col>lag</th><th scope=col>Estadistico Q</th><th scope=col>p-value</th></tr>\n",
       "</thead>\n",
       "<tbody>\n",
       "\t<tr><td>1 </td><td>0.0067 </td><td>NA    </td></tr>\n",
       "\t<tr><td>2 </td><td>0.0067 </td><td>NA    </td></tr>\n",
       "\t<tr><td>3 </td><td>0.0852 </td><td>NA    </td></tr>\n",
       "\t<tr><td>4 </td><td>0.5813 </td><td>NA    </td></tr>\n",
       "\t<tr><td>5 </td><td>1.5438 </td><td>NA    </td></tr>\n",
       "\t<tr><td>6 </td><td>1.6629 </td><td>0.1972</td></tr>\n",
       "\t<tr><td>7 </td><td>4.3407 </td><td>0.1141</td></tr>\n",
       "\t<tr><td>8 </td><td>4.727  </td><td>0.1929</td></tr>\n",
       "\t<tr><td>9 </td><td>4.8562 </td><td>0.3024</td></tr>\n",
       "\t<tr><td>10</td><td>5.2552 </td><td>0.3855</td></tr>\n",
       "\t<tr><td>11</td><td>5.8239 </td><td>0.4432</td></tr>\n",
       "\t<tr><td>12</td><td>6.9065 </td><td>0.4387</td></tr>\n",
       "\t<tr><td>13</td><td>7.0852 </td><td>0.5275</td></tr>\n",
       "\t<tr><td>14</td><td>7.6963 </td><td>0.565 </td></tr>\n",
       "\t<tr><td>15</td><td>9.1374 </td><td>0.5191</td></tr>\n",
       "\t<tr><td>16</td><td>9.2831 </td><td>0.5958</td></tr>\n",
       "\t<tr><td>17</td><td>9.3288 </td><td>0.6746</td></tr>\n",
       "\t<tr><td>18</td><td>16.8167</td><td>0.2078</td></tr>\n",
       "\t<tr><td>19</td><td>16.9706</td><td>0.2578</td></tr>\n",
       "\t<tr><td>20</td><td>18.2691</td><td>0.2488</td></tr>\n",
       "\t<tr><td>21</td><td>19.195 </td><td>0.2587</td></tr>\n",
       "\t<tr><td>22</td><td>19.4157</td><td>0.3052</td></tr>\n",
       "\t<tr><td>23</td><td>23.8456</td><td>0.1602</td></tr>\n",
       "\t<tr><td>24</td><td>24.6894</td><td>0.171 </td></tr>\n",
       "\t<tr><td>25</td><td>24.9092</td><td>0.2049</td></tr>\n",
       "\t<tr><td>26</td><td>25.0228</td><td>0.2462</td></tr>\n",
       "</tbody>\n",
       "</table>\n"
      ],
      "text/latex": [
       "A matrix: 26 × 3 of type chr\n",
       "\\begin{tabular}{lll}\n",
       " lag & Estadistico Q & p-value\\\\\n",
       "\\hline\n",
       "\t 1  & 0.0067  & NA    \\\\\n",
       "\t 2  & 0.0067  & NA    \\\\\n",
       "\t 3  & 0.0852  & NA    \\\\\n",
       "\t 4  & 0.5813  & NA    \\\\\n",
       "\t 5  & 1.5438  & NA    \\\\\n",
       "\t 6  & 1.6629  & 0.1972\\\\\n",
       "\t 7  & 4.3407  & 0.1141\\\\\n",
       "\t 8  & 4.727   & 0.1929\\\\\n",
       "\t 9  & 4.8562  & 0.3024\\\\\n",
       "\t 10 & 5.2552  & 0.3855\\\\\n",
       "\t 11 & 5.8239  & 0.4432\\\\\n",
       "\t 12 & 6.9065  & 0.4387\\\\\n",
       "\t 13 & 7.0852  & 0.5275\\\\\n",
       "\t 14 & 7.6963  & 0.565 \\\\\n",
       "\t 15 & 9.1374  & 0.5191\\\\\n",
       "\t 16 & 9.2831  & 0.5958\\\\\n",
       "\t 17 & 9.3288  & 0.6746\\\\\n",
       "\t 18 & 16.8167 & 0.2078\\\\\n",
       "\t 19 & 16.9706 & 0.2578\\\\\n",
       "\t 20 & 18.2691 & 0.2488\\\\\n",
       "\t 21 & 19.195  & 0.2587\\\\\n",
       "\t 22 & 19.4157 & 0.3052\\\\\n",
       "\t 23 & 23.8456 & 0.1602\\\\\n",
       "\t 24 & 24.6894 & 0.171 \\\\\n",
       "\t 25 & 24.9092 & 0.2049\\\\\n",
       "\t 26 & 25.0228 & 0.2462\\\\\n",
       "\\end{tabular}\n"
      ],
      "text/markdown": [
       "\n",
       "A matrix: 26 × 3 of type chr\n",
       "\n",
       "| lag | Estadistico Q | p-value |\n",
       "|---|---|---|\n",
       "| 1  | 0.0067  | NA     |\n",
       "| 2  | 0.0067  | NA     |\n",
       "| 3  | 0.0852  | NA     |\n",
       "| 4  | 0.5813  | NA     |\n",
       "| 5  | 1.5438  | NA     |\n",
       "| 6  | 1.6629  | 0.1972 |\n",
       "| 7  | 4.3407  | 0.1141 |\n",
       "| 8  | 4.727   | 0.1929 |\n",
       "| 9  | 4.8562  | 0.3024 |\n",
       "| 10 | 5.2552  | 0.3855 |\n",
       "| 11 | 5.8239  | 0.4432 |\n",
       "| 12 | 6.9065  | 0.4387 |\n",
       "| 13 | 7.0852  | 0.5275 |\n",
       "| 14 | 7.6963  | 0.565  |\n",
       "| 15 | 9.1374  | 0.5191 |\n",
       "| 16 | 9.2831  | 0.5958 |\n",
       "| 17 | 9.3288  | 0.6746 |\n",
       "| 18 | 16.8167 | 0.2078 |\n",
       "| 19 | 16.9706 | 0.2578 |\n",
       "| 20 | 18.2691 | 0.2488 |\n",
       "| 21 | 19.195  | 0.2587 |\n",
       "| 22 | 19.4157 | 0.3052 |\n",
       "| 23 | 23.8456 | 0.1602 |\n",
       "| 24 | 24.6894 | 0.171  |\n",
       "| 25 | 24.9092 | 0.2049 |\n",
       "| 26 | 25.0228 | 0.2462 |\n",
       "\n"
      ],
      "text/plain": [
       "      lag Estadistico Q p-value\n",
       " [1,] 1   0.0067        NA     \n",
       " [2,] 2   0.0067        NA     \n",
       " [3,] 3   0.0852        NA     \n",
       " [4,] 4   0.5813        NA     \n",
       " [5,] 5   1.5438        NA     \n",
       " [6,] 6   1.6629        0.1972 \n",
       " [7,] 7   4.3407        0.1141 \n",
       " [8,] 8   4.727         0.1929 \n",
       " [9,] 9   4.8562        0.3024 \n",
       "[10,] 10  5.2552        0.3855 \n",
       "[11,] 11  5.8239        0.4432 \n",
       "[12,] 12  6.9065        0.4387 \n",
       "[13,] 13  7.0852        0.5275 \n",
       "[14,] 14  7.6963        0.565  \n",
       "[15,] 15  9.1374        0.5191 \n",
       "[16,] 16  9.2831        0.5958 \n",
       "[17,] 17  9.3288        0.6746 \n",
       "[18,] 18  16.8167       0.2078 \n",
       "[19,] 19  16.9706       0.2578 \n",
       "[20,] 20  18.2691       0.2488 \n",
       "[21,] 21  19.195        0.2587 \n",
       "[22,] 22  19.4157       0.3052 \n",
       "[23,] 23  23.8456       0.1602 \n",
       "[24,] 24  24.6894       0.171  \n",
       "[25,] 25  24.9092       0.2049 \n",
       "[26,] 26  25.0228       0.2462 "
      ]
     },
     "metadata": {},
     "output_type": "display_data"
    }
   ],
   "source": [
    "# --- Forzar estructura de IMACEC Chile (ARIMA(4,0,0)(0,1,1)[12]) a TASA Argentina ---\n",
    "# Objetivo: Aplicar manualmente la estructura estacional que funcionó\n",
    "#           razonablemente bien para IMACEC Chile a la serie TASA Argentina.\n",
    "#           Se sobrescribe el modelo anterior 'model_tasa_arg'.\n",
    "# Método: Usar Arima() con órdenes específicos.\n",
    "\n",
    "library(forecast) # Asegurar que esté cargado\n",
    "\n",
    "# Especificar órdenes del modelo IMACEC\n",
    "p_tasa <- 4; d_tasa <- 0; q_tasa <- 0\n",
    "P_tasa <- 0; D_tasa <- 1; Q_tasa <- 1\n",
    "\n",
    "# Ajustar el modelo Arima con la estructura forzada\n",
    "model_tasa_arg <- Arima( # Sobrescribe la variable original\n",
    "  dl_tasa_arg_train,\n",
    "  order = c(p_tasa, d_tasa, q_tasa),\n",
    "  seasonal = list(order = c(P_tasa, D_tasa, Q_tasa), period = 12),\n",
    "  method = \"ML\" # Usar Máxima Verosimilitud (o CSS-ML si ML falla)\n",
    ")\n",
    "\n",
    "# Resumen del modelo TASA con estructura forzada\n",
    "summary(model_tasa_arg)\n",
    "\n",
    "# Diagnóstico de residuos del modelo forzado\n",
    "# Verificar si, con esta estructura estacional, los residuos son aceptables.\n",
    "# p_q = p + q + P + Q = 4 + 0 + 0 + 1 = 5\n",
    "corr_res(\n",
    "  model_tasa_arg,\n",
    "  lags = 26,\n",
    "  p_q = p_tasa + q_tasa + P_tasa + Q_tasa\n",
    ")\n",
    "\n",
    "# Este modelo ahora reemplaza al que fue ajustado previamente por auto.arima.\n",
    "# Se debe evaluar si esta estructura forzada ofrece una mejora o no."
   ]
  },
  {
   "cell_type": "markdown",
   "metadata": {},
   "source": [
    "## Chile"
   ]
  },
  {
   "cell_type": "markdown",
   "metadata": {},
   "source": [
    "### 3.4 Estimacion IMACEC - Chile"
   ]
  },
  {
   "cell_type": "code",
   "execution_count": null,
   "metadata": {
    "vscode": {
     "languageId": "r"
    }
   },
   "outputs": [
    {
     "data": {
      "text/plain": [
       "Series: dl_imacec_train \n",
       "ARIMA(4,0,2)(0,1,1)[12] \n",
       "\n",
       "Coefficients:\n",
       "          ar1      ar2      ar3      ar4     ma1     ma2     sma1\n",
       "      -0.4197  -0.8794  -0.0076  -0.2577  0.4300  0.8152  -0.7246\n",
       "s.e.   0.1025   0.1012   0.0763   0.0710  0.0829  0.0808   0.0548\n",
       "\n",
       "sigma^2 = 0.0002896:  log likelihood = 569.88\n",
       "AIC=-1123.76   AICc=-1123.06   BIC=-1096.8\n",
       "\n",
       "Training set error measures:\n",
       "                        ME       RMSE        MAE       MPE     MAPE      MASE\n",
       "Training set -0.0007144392 0.01629115 0.01096072 -11.04126 58.97048 0.7717417\n",
       "                     ACF1\n",
       "Training set -0.005197869"
      ]
     },
     "metadata": {},
     "output_type": "display_data"
    },
    {
     "name": "stdout",
     "output_type": "stream",
     "text": [
      "Calculando p_q como: 7 (arma) + 0 (drift) = 7 \n"
     ]
    },
    {
     "data": {
      "text/html": [
       "<table class=\"dataframe\">\n",
       "<caption>A matrix: 35 × 3 of type chr</caption>\n",
       "<thead>\n",
       "\t<tr><th scope=col>lag</th><th scope=col>Estadistico Q</th><th scope=col>p-value</th></tr>\n",
       "</thead>\n",
       "<tbody>\n",
       "\t<tr><td>1 </td><td>0.0062 </td><td>NA    </td></tr>\n",
       "\t<tr><td>2 </td><td>0.027  </td><td>NA    </td></tr>\n",
       "\t<tr><td>3 </td><td>0.0734 </td><td>NA    </td></tr>\n",
       "\t<tr><td>4 </td><td>0.3094 </td><td>NA    </td></tr>\n",
       "\t<tr><td>5 </td><td>0.3115 </td><td>NA    </td></tr>\n",
       "\t<tr><td>6 </td><td>0.5671 </td><td>NA    </td></tr>\n",
       "\t<tr><td>7 </td><td>1.7542 </td><td>NA    </td></tr>\n",
       "\t<tr><td>8 </td><td>1.7653 </td><td>0.184 </td></tr>\n",
       "\t<tr><td>9 </td><td>2.1483 </td><td>0.3416</td></tr>\n",
       "\t<tr><td>10</td><td>2.3481 </td><td>0.5034</td></tr>\n",
       "\t<tr><td>11</td><td>2.8836 </td><td>0.5775</td></tr>\n",
       "\t<tr><td>12</td><td>3.5488 </td><td>0.616 </td></tr>\n",
       "\t<tr><td>13</td><td>7.138  </td><td>0.3083</td></tr>\n",
       "\t<tr><td>14</td><td>8.084  </td><td>0.3252</td></tr>\n",
       "\t<tr><td>15</td><td>8.1231 </td><td>0.4215</td></tr>\n",
       "\t<tr><td>16</td><td>8.1246 </td><td>0.5216</td></tr>\n",
       "\t<tr><td>17</td><td>11.01  </td><td>0.3567</td></tr>\n",
       "\t<tr><td>18</td><td>11.851 </td><td>0.3749</td></tr>\n",
       "\t<tr><td>19</td><td>12.3747</td><td>0.4161</td></tr>\n",
       "\t<tr><td>20</td><td>13.3143</td><td>0.4238</td></tr>\n",
       "\t<tr><td>21</td><td>14.826 </td><td>0.3902</td></tr>\n",
       "\t<tr><td>22</td><td>15.2004</td><td>0.4371</td></tr>\n",
       "\t<tr><td>23</td><td>15.3192</td><td>0.5014</td></tr>\n",
       "\t<tr><td>24</td><td>16.0066</td><td>0.5234</td></tr>\n",
       "\t<tr><td>25</td><td>21.1397</td><td>0.2724</td></tr>\n",
       "\t<tr><td>26</td><td>21.1397</td><td>0.3291</td></tr>\n",
       "\t<tr><td>27</td><td>21.4741</td><td>0.3697</td></tr>\n",
       "\t<tr><td>28</td><td>22.1111</td><td>0.3931</td></tr>\n",
       "\t<tr><td>29</td><td>24.6121</td><td>0.316 </td></tr>\n",
       "\t<tr><td>30</td><td>25.498 </td><td>0.3251</td></tr>\n",
       "\t<tr><td>31</td><td>25.5125</td><td>0.3784</td></tr>\n",
       "\t<tr><td>32</td><td>26.5181</td><td>0.3804</td></tr>\n",
       "\t<tr><td>33</td><td>27.4922</td><td>0.3839</td></tr>\n",
       "\t<tr><td>34</td><td>28.461 </td><td>0.3875</td></tr>\n",
       "\t<tr><td>35</td><td>29.6446</td><td>0.3804</td></tr>\n",
       "</tbody>\n",
       "</table>\n"
      ],
      "text/latex": [
       "A matrix: 35 × 3 of type chr\n",
       "\\begin{tabular}{lll}\n",
       " lag & Estadistico Q & p-value\\\\\n",
       "\\hline\n",
       "\t 1  & 0.0062  & NA    \\\\\n",
       "\t 2  & 0.027   & NA    \\\\\n",
       "\t 3  & 0.0734  & NA    \\\\\n",
       "\t 4  & 0.3094  & NA    \\\\\n",
       "\t 5  & 0.3115  & NA    \\\\\n",
       "\t 6  & 0.5671  & NA    \\\\\n",
       "\t 7  & 1.7542  & NA    \\\\\n",
       "\t 8  & 1.7653  & 0.184 \\\\\n",
       "\t 9  & 2.1483  & 0.3416\\\\\n",
       "\t 10 & 2.3481  & 0.5034\\\\\n",
       "\t 11 & 2.8836  & 0.5775\\\\\n",
       "\t 12 & 3.5488  & 0.616 \\\\\n",
       "\t 13 & 7.138   & 0.3083\\\\\n",
       "\t 14 & 8.084   & 0.3252\\\\\n",
       "\t 15 & 8.1231  & 0.4215\\\\\n",
       "\t 16 & 8.1246  & 0.5216\\\\\n",
       "\t 17 & 11.01   & 0.3567\\\\\n",
       "\t 18 & 11.851  & 0.3749\\\\\n",
       "\t 19 & 12.3747 & 0.4161\\\\\n",
       "\t 20 & 13.3143 & 0.4238\\\\\n",
       "\t 21 & 14.826  & 0.3902\\\\\n",
       "\t 22 & 15.2004 & 0.4371\\\\\n",
       "\t 23 & 15.3192 & 0.5014\\\\\n",
       "\t 24 & 16.0066 & 0.5234\\\\\n",
       "\t 25 & 21.1397 & 0.2724\\\\\n",
       "\t 26 & 21.1397 & 0.3291\\\\\n",
       "\t 27 & 21.4741 & 0.3697\\\\\n",
       "\t 28 & 22.1111 & 0.3931\\\\\n",
       "\t 29 & 24.6121 & 0.316 \\\\\n",
       "\t 30 & 25.498  & 0.3251\\\\\n",
       "\t 31 & 25.5125 & 0.3784\\\\\n",
       "\t 32 & 26.5181 & 0.3804\\\\\n",
       "\t 33 & 27.4922 & 0.3839\\\\\n",
       "\t 34 & 28.461  & 0.3875\\\\\n",
       "\t 35 & 29.6446 & 0.3804\\\\\n",
       "\\end{tabular}\n"
      ],
      "text/markdown": [
       "\n",
       "A matrix: 35 × 3 of type chr\n",
       "\n",
       "| lag | Estadistico Q | p-value |\n",
       "|---|---|---|\n",
       "| 1  | 0.0062  | NA     |\n",
       "| 2  | 0.027   | NA     |\n",
       "| 3  | 0.0734  | NA     |\n",
       "| 4  | 0.3094  | NA     |\n",
       "| 5  | 0.3115  | NA     |\n",
       "| 6  | 0.5671  | NA     |\n",
       "| 7  | 1.7542  | NA     |\n",
       "| 8  | 1.7653  | 0.184  |\n",
       "| 9  | 2.1483  | 0.3416 |\n",
       "| 10 | 2.3481  | 0.5034 |\n",
       "| 11 | 2.8836  | 0.5775 |\n",
       "| 12 | 3.5488  | 0.616  |\n",
       "| 13 | 7.138   | 0.3083 |\n",
       "| 14 | 8.084   | 0.3252 |\n",
       "| 15 | 8.1231  | 0.4215 |\n",
       "| 16 | 8.1246  | 0.5216 |\n",
       "| 17 | 11.01   | 0.3567 |\n",
       "| 18 | 11.851  | 0.3749 |\n",
       "| 19 | 12.3747 | 0.4161 |\n",
       "| 20 | 13.3143 | 0.4238 |\n",
       "| 21 | 14.826  | 0.3902 |\n",
       "| 22 | 15.2004 | 0.4371 |\n",
       "| 23 | 15.3192 | 0.5014 |\n",
       "| 24 | 16.0066 | 0.5234 |\n",
       "| 25 | 21.1397 | 0.2724 |\n",
       "| 26 | 21.1397 | 0.3291 |\n",
       "| 27 | 21.4741 | 0.3697 |\n",
       "| 28 | 22.1111 | 0.3931 |\n",
       "| 29 | 24.6121 | 0.316  |\n",
       "| 30 | 25.498  | 0.3251 |\n",
       "| 31 | 25.5125 | 0.3784 |\n",
       "| 32 | 26.5181 | 0.3804 |\n",
       "| 33 | 27.4922 | 0.3839 |\n",
       "| 34 | 28.461  | 0.3875 |\n",
       "| 35 | 29.6446 | 0.3804 |\n",
       "\n"
      ],
      "text/plain": [
       "      lag Estadistico Q p-value\n",
       " [1,] 1   0.0062        NA     \n",
       " [2,] 2   0.027         NA     \n",
       " [3,] 3   0.0734        NA     \n",
       " [4,] 4   0.3094        NA     \n",
       " [5,] 5   0.3115        NA     \n",
       " [6,] 6   0.5671        NA     \n",
       " [7,] 7   1.7542        NA     \n",
       " [8,] 8   1.7653        0.184  \n",
       " [9,] 9   2.1483        0.3416 \n",
       "[10,] 10  2.3481        0.5034 \n",
       "[11,] 11  2.8836        0.5775 \n",
       "[12,] 12  3.5488        0.616  \n",
       "[13,] 13  7.138         0.3083 \n",
       "[14,] 14  8.084         0.3252 \n",
       "[15,] 15  8.1231        0.4215 \n",
       "[16,] 16  8.1246        0.5216 \n",
       "[17,] 17  11.01         0.3567 \n",
       "[18,] 18  11.851        0.3749 \n",
       "[19,] 19  12.3747       0.4161 \n",
       "[20,] 20  13.3143       0.4238 \n",
       "[21,] 21  14.826        0.3902 \n",
       "[22,] 22  15.2004       0.4371 \n",
       "[23,] 23  15.3192       0.5014 \n",
       "[24,] 24  16.0066       0.5234 \n",
       "[25,] 25  21.1397       0.2724 \n",
       "[26,] 26  21.1397       0.3291 \n",
       "[27,] 27  21.4741       0.3697 \n",
       "[28,] 28  22.1111       0.3931 \n",
       "[29,] 29  24.6121       0.316  \n",
       "[30,] 30  25.498        0.3251 \n",
       "[31,] 31  25.5125       0.3784 \n",
       "[32,] 32  26.5181       0.3804 \n",
       "[33,] 33  27.4922       0.3839 \n",
       "[34,] 34  28.461        0.3875 \n",
       "[35,] 35  29.6446       0.3804 "
      ]
     },
     "metadata": {},
     "output_type": "display_data"
    }
   ],
   "source": [
    "model_imacec_chi <- Arima(\n",
    "  y        = dl_imacec_train,\n",
    "  order    = c(4, 0, 2),          \n",
    "  seasonal = list(order = c(0, 1, 1), period = 12),  \n",
    "  include.drift = FALSE,          \n",
    "  method   = \"ML\"                 \n",
    ")\n",
    "\n",
    "# Resumen del modelo\n",
    "summary(model_imacec_chi)\n",
    "\n",
    "# Cálculo del número de parámetros para el test de Ljung-Box\n",
    "num_arma_params <- sum(model_imacec_chi$arma[c(1, 2, 3, 4)])  # p + q + P + Q\n",
    "drift_present   <- as.integer(\"drift\" %in% names(model_imacec_chi$coef))\n",
    "grados_libertad_q <- num_arma_params + drift_present\n",
    "\n",
    "cat(\"Calculando p_q como:\", num_arma_params, \"(arma) +\", drift_present, \"(drift) =\",\n",
    "    grados_libertad_q, \"\\n\")\n",
    "\n",
    "# Diagnóstico de residuos\n",
    "corr_res(\n",
    "  xreg = model_imacec_chi,\n",
    "  lags = 35,\n",
    "  p_q  = grados_libertad_q\n",
    ")\n"
   ]
  },
  {
   "cell_type": "markdown",
   "metadata": {},
   "source": [
    "### 3.4 Estimacion IPC - Chile"
   ]
  },
  {
   "cell_type": "code",
   "execution_count": 46,
   "metadata": {
    "vscode": {
     "languageId": "r"
    }
   },
   "outputs": [
    {
     "data": {
      "text/plain": [
       "Series: dl_ipc_chi_train \n",
       "Regression with ARIMA(1,0,3) errors \n",
       "\n",
       "Coefficients:\n",
       "         ar1      ma1      ma2     ma3  intercept     mes2    mes3    mes4\n",
       "      0.6414  -0.1686  -0.1053  0.2357     0.0026  -0.0008  0.0028  0.0012\n",
       "s.e.  0.1142   0.1178   0.0799  0.0738     0.0009   0.0009  0.0010  0.0010\n",
       "        mes5    mes6    mes7    mes8    mes9   mes10    mes11    mes12\n",
       "      0.0008  0.0008  0.0017  0.0008  0.0031  0.0021  -0.0016  -0.0023\n",
       "s.e.  0.0011  0.0011  0.0011  0.0011  0.0011  0.0010   0.0010   0.0009\n",
       "\n",
       "sigma^2 = 0.00001063:  log likelihood = 985.66\n",
       "AIC=-1937.31   AICc=-1934.38   BIC=-1879.09\n",
       "\n",
       "Training set error measures:\n",
       "                         ME        RMSE        MAE  MPE MAPE      MASE\n",
       "Training set 0.000007898392 0.003144032 0.00244792 -Inf  Inf 0.6471467\n",
       "                    ACF1\n",
       "Training set 0.003165542"
      ]
     },
     "metadata": {},
     "output_type": "display_data"
    },
    {
     "data": {
      "text/html": [
       "<table class=\"dataframe\">\n",
       "<caption>A matrix: 26 × 3 of type chr</caption>\n",
       "<thead>\n",
       "\t<tr><th scope=col>lag</th><th scope=col>Estadistico Q</th><th scope=col>p-value</th></tr>\n",
       "</thead>\n",
       "<tbody>\n",
       "\t<tr><td>1 </td><td>0.0023 </td><td>NA    </td></tr>\n",
       "\t<tr><td>2 </td><td>0.0023 </td><td>0.9614</td></tr>\n",
       "\t<tr><td>3 </td><td>0.0057 </td><td>0.9971</td></tr>\n",
       "\t<tr><td>4 </td><td>0.1733 </td><td>0.9818</td></tr>\n",
       "\t<tr><td>5 </td><td>0.3221 </td><td>0.9883</td></tr>\n",
       "\t<tr><td>6 </td><td>0.5492 </td><td>0.9902</td></tr>\n",
       "\t<tr><td>7 </td><td>2.7268 </td><td>0.8423</td></tr>\n",
       "\t<tr><td>8 </td><td>3.0772 </td><td>0.8778</td></tr>\n",
       "\t<tr><td>9 </td><td>3.3514 </td><td>0.9104</td></tr>\n",
       "\t<tr><td>10</td><td>13.4256</td><td>0.1443</td></tr>\n",
       "\t<tr><td>11</td><td>17.4103</td><td>0.0658</td></tr>\n",
       "\t<tr><td>12</td><td>17.4143</td><td>0.0962</td></tr>\n",
       "\t<tr><td>13</td><td>19.5701</td><td>0.0757</td></tr>\n",
       "\t<tr><td>14</td><td>19.5907</td><td>0.1059</td></tr>\n",
       "\t<tr><td>15</td><td>22.2152</td><td>0.0743</td></tr>\n",
       "\t<tr><td>16</td><td>22.2771</td><td>0.1007</td></tr>\n",
       "\t<tr><td>17</td><td>26.5174</td><td>0.0472</td></tr>\n",
       "\t<tr><td>18</td><td>30.0237</td><td>0.0262</td></tr>\n",
       "\t<tr><td>19</td><td>30.1427</td><td>0.0361</td></tr>\n",
       "\t<tr><td>20</td><td>30.6438</td><td>0.0442</td></tr>\n",
       "\t<tr><td>21</td><td>31.5818</td><td>0.048 </td></tr>\n",
       "\t<tr><td>22</td><td>31.6783</td><td>0.0631</td></tr>\n",
       "\t<tr><td>23</td><td>33.8689</td><td>0.0507</td></tr>\n",
       "\t<tr><td>24</td><td>34.2514</td><td>0.0616</td></tr>\n",
       "\t<tr><td>25</td><td>34.4995</td><td>0.0762</td></tr>\n",
       "\t<tr><td>26</td><td>39.5403</td><td>0.0325</td></tr>\n",
       "</tbody>\n",
       "</table>\n"
      ],
      "text/latex": [
       "A matrix: 26 × 3 of type chr\n",
       "\\begin{tabular}{lll}\n",
       " lag & Estadistico Q & p-value\\\\\n",
       "\\hline\n",
       "\t 1  & 0.0023  & NA    \\\\\n",
       "\t 2  & 0.0023  & 0.9614\\\\\n",
       "\t 3  & 0.0057  & 0.9971\\\\\n",
       "\t 4  & 0.1733  & 0.9818\\\\\n",
       "\t 5  & 0.3221  & 0.9883\\\\\n",
       "\t 6  & 0.5492  & 0.9902\\\\\n",
       "\t 7  & 2.7268  & 0.8423\\\\\n",
       "\t 8  & 3.0772  & 0.8778\\\\\n",
       "\t 9  & 3.3514  & 0.9104\\\\\n",
       "\t 10 & 13.4256 & 0.1443\\\\\n",
       "\t 11 & 17.4103 & 0.0658\\\\\n",
       "\t 12 & 17.4143 & 0.0962\\\\\n",
       "\t 13 & 19.5701 & 0.0757\\\\\n",
       "\t 14 & 19.5907 & 0.1059\\\\\n",
       "\t 15 & 22.2152 & 0.0743\\\\\n",
       "\t 16 & 22.2771 & 0.1007\\\\\n",
       "\t 17 & 26.5174 & 0.0472\\\\\n",
       "\t 18 & 30.0237 & 0.0262\\\\\n",
       "\t 19 & 30.1427 & 0.0361\\\\\n",
       "\t 20 & 30.6438 & 0.0442\\\\\n",
       "\t 21 & 31.5818 & 0.048 \\\\\n",
       "\t 22 & 31.6783 & 0.0631\\\\\n",
       "\t 23 & 33.8689 & 0.0507\\\\\n",
       "\t 24 & 34.2514 & 0.0616\\\\\n",
       "\t 25 & 34.4995 & 0.0762\\\\\n",
       "\t 26 & 39.5403 & 0.0325\\\\\n",
       "\\end{tabular}\n"
      ],
      "text/markdown": [
       "\n",
       "A matrix: 26 × 3 of type chr\n",
       "\n",
       "| lag | Estadistico Q | p-value |\n",
       "|---|---|---|\n",
       "| 1  | 0.0023  | NA     |\n",
       "| 2  | 0.0023  | 0.9614 |\n",
       "| 3  | 0.0057  | 0.9971 |\n",
       "| 4  | 0.1733  | 0.9818 |\n",
       "| 5  | 0.3221  | 0.9883 |\n",
       "| 6  | 0.5492  | 0.9902 |\n",
       "| 7  | 2.7268  | 0.8423 |\n",
       "| 8  | 3.0772  | 0.8778 |\n",
       "| 9  | 3.3514  | 0.9104 |\n",
       "| 10 | 13.4256 | 0.1443 |\n",
       "| 11 | 17.4103 | 0.0658 |\n",
       "| 12 | 17.4143 | 0.0962 |\n",
       "| 13 | 19.5701 | 0.0757 |\n",
       "| 14 | 19.5907 | 0.1059 |\n",
       "| 15 | 22.2152 | 0.0743 |\n",
       "| 16 | 22.2771 | 0.1007 |\n",
       "| 17 | 26.5174 | 0.0472 |\n",
       "| 18 | 30.0237 | 0.0262 |\n",
       "| 19 | 30.1427 | 0.0361 |\n",
       "| 20 | 30.6438 | 0.0442 |\n",
       "| 21 | 31.5818 | 0.048  |\n",
       "| 22 | 31.6783 | 0.0631 |\n",
       "| 23 | 33.8689 | 0.0507 |\n",
       "| 24 | 34.2514 | 0.0616 |\n",
       "| 25 | 34.4995 | 0.0762 |\n",
       "| 26 | 39.5403 | 0.0325 |\n",
       "\n"
      ],
      "text/plain": [
       "      lag Estadistico Q p-value\n",
       " [1,] 1   0.0023        NA     \n",
       " [2,] 2   0.0023        0.9614 \n",
       " [3,] 3   0.0057        0.9971 \n",
       " [4,] 4   0.1733        0.9818 \n",
       " [5,] 5   0.3221        0.9883 \n",
       " [6,] 6   0.5492        0.9902 \n",
       " [7,] 7   2.7268        0.8423 \n",
       " [8,] 8   3.0772        0.8778 \n",
       " [9,] 9   3.3514        0.9104 \n",
       "[10,] 10  13.4256       0.1443 \n",
       "[11,] 11  17.4103       0.0658 \n",
       "[12,] 12  17.4143       0.0962 \n",
       "[13,] 13  19.5701       0.0757 \n",
       "[14,] 14  19.5907       0.1059 \n",
       "[15,] 15  22.2152       0.0743 \n",
       "[16,] 16  22.2771       0.1007 \n",
       "[17,] 17  26.5174       0.0472 \n",
       "[18,] 18  30.0237       0.0262 \n",
       "[19,] 19  30.1427       0.0361 \n",
       "[20,] 20  30.6438       0.0442 \n",
       "[21,] 21  31.5818       0.048  \n",
       "[22,] 22  31.6783       0.0631 \n",
       "[23,] 23  33.8689       0.0507 \n",
       "[24,] 24  34.2514       0.0616 \n",
       "[25,] 25  34.4995       0.0762 \n",
       "[26,] 26  39.5403       0.0325 "
      ]
     },
     "metadata": {},
     "output_type": "display_data"
    }
   ],
   "source": [
    "# IPC Chile: Ajuste sencillo con auto.arima y dummies mensuales\n",
    "\n",
    "# 1. Modelización simple con variables indicadoras (dummies) mensuales\n",
    "library(forecast)\n",
    "\n",
    "# 2. Crear dummies mensuales (alternativa a modelado estacional)\n",
    "mes <- factor(cycle(dl_ipc_chi_train))\n",
    "xreg_mes <- model.matrix(~ mes)[ , -1]  # elimina la primera columna (intercepto)\n",
    "\n",
    "# 3. Ajuste automático del modelo (simple)\n",
    "model_ipc_chi_reg <- auto.arima(\n",
    "  dl_ipc_chi_train,\n",
    "  xreg = xreg_mes,      # regresores externos para estacionalidad\n",
    "  seasonal = TRUE,     # desactivar componente SARIMA\n",
    "  d = 0                # mostrar modelos probados\n",
    ")\n",
    "\n",
    "# 4. Resumen del modelo final\n",
    "summary(model_ipc_chi_reg)\n",
    "\n",
    "# 5. Verificar ruido blanco en residuos\n",
    "p_q <- sum(model_ipc_chi_reg$arma[c(1,3)])  # p+q del modelo\n",
    "corr_res(model_ipc_chi_reg, lags = 26, p_q = p_q)"
   ]
  },
  {
   "cell_type": "markdown",
   "metadata": {},
   "source": [
    "### 3.5 Estimacion Agregado Monetario M2 - Chile"
   ]
  },
  {
   "cell_type": "code",
   "execution_count": 47,
   "metadata": {
    "vscode": {
     "languageId": "r"
    }
   },
   "outputs": [
    {
     "data": {
      "text/plain": [
       "Series: dl_m2_chi_train \n",
       "ARIMA(0,1,1)(2,0,0)[12] \n",
       "\n",
       "Coefficients:\n",
       "          ma1    sar1    sar2\n",
       "      -0.9815  0.2641  0.2601\n",
       "s.e.   0.0138  0.0652  0.0691\n",
       "\n",
       "sigma^2 = 0.0001661:  log likelihood = 661.44\n",
       "AIC=-1314.89   AICc=-1314.71   BIC=-1301.2\n",
       "\n",
       "Training set error measures:\n",
       "                        ME       RMSE         MAE       MPE     MAPE      MASE\n",
       "Training set -0.0008344935 0.01277276 0.009992993 -68.85854 285.2192 0.8076566\n",
       "                   ACF1\n",
       "Training set 0.04291844"
      ]
     },
     "metadata": {},
     "output_type": "display_data"
    },
    {
     "data": {
      "text/html": [
       "<table class=\"dataframe\">\n",
       "<caption>A matrix: 26 × 3 of type chr</caption>\n",
       "<thead>\n",
       "\t<tr><th scope=col>lag</th><th scope=col>Estadistico Q</th><th scope=col>p-value</th></tr>\n",
       "</thead>\n",
       "<tbody>\n",
       "\t<tr><td>1 </td><td>0.4237 </td><td>NA    </td></tr>\n",
       "\t<tr><td>2 </td><td>0.651  </td><td>NA    </td></tr>\n",
       "\t<tr><td>3 </td><td>1.6027 </td><td>NA    </td></tr>\n",
       "\t<tr><td>4 </td><td>2.0765 </td><td>0.1496</td></tr>\n",
       "\t<tr><td>5 </td><td>2.0919 </td><td>0.3514</td></tr>\n",
       "\t<tr><td>6 </td><td>2.5101 </td><td>0.4735</td></tr>\n",
       "\t<tr><td>7 </td><td>3.1918 </td><td>0.5263</td></tr>\n",
       "\t<tr><td>8 </td><td>4.095  </td><td>0.5358</td></tr>\n",
       "\t<tr><td>9 </td><td>9.4122 </td><td>0.1517</td></tr>\n",
       "\t<tr><td>10</td><td>10.1447</td><td>0.1805</td></tr>\n",
       "\t<tr><td>11</td><td>10.1448</td><td>0.255 </td></tr>\n",
       "\t<tr><td>12</td><td>10.4308</td><td>0.3167</td></tr>\n",
       "\t<tr><td>13</td><td>16.6046</td><td>0.0836</td></tr>\n",
       "\t<tr><td>14</td><td>16.8158</td><td>0.1134</td></tr>\n",
       "\t<tr><td>15</td><td>17.2533</td><td>0.1403</td></tr>\n",
       "\t<tr><td>16</td><td>18.4862</td><td>0.1399</td></tr>\n",
       "\t<tr><td>17</td><td>19.1478</td><td>0.1594</td></tr>\n",
       "\t<tr><td>18</td><td>19.4138</td><td>0.1956</td></tr>\n",
       "\t<tr><td>19</td><td>19.4591</td><td>0.2456</td></tr>\n",
       "\t<tr><td>20</td><td>20.7361</td><td>0.2383</td></tr>\n",
       "\t<tr><td>21</td><td>24.441 </td><td>0.1411</td></tr>\n",
       "\t<tr><td>22</td><td>26.477 </td><td>0.1174</td></tr>\n",
       "\t<tr><td>23</td><td>26.8191</td><td>0.1404</td></tr>\n",
       "\t<tr><td>24</td><td>28.9964</td><td>0.1141</td></tr>\n",
       "\t<tr><td>25</td><td>30.32  </td><td>0.1109</td></tr>\n",
       "\t<tr><td>26</td><td>30.7186</td><td>0.1299</td></tr>\n",
       "</tbody>\n",
       "</table>\n"
      ],
      "text/latex": [
       "A matrix: 26 × 3 of type chr\n",
       "\\begin{tabular}{lll}\n",
       " lag & Estadistico Q & p-value\\\\\n",
       "\\hline\n",
       "\t 1  & 0.4237  & NA    \\\\\n",
       "\t 2  & 0.651   & NA    \\\\\n",
       "\t 3  & 1.6027  & NA    \\\\\n",
       "\t 4  & 2.0765  & 0.1496\\\\\n",
       "\t 5  & 2.0919  & 0.3514\\\\\n",
       "\t 6  & 2.5101  & 0.4735\\\\\n",
       "\t 7  & 3.1918  & 0.5263\\\\\n",
       "\t 8  & 4.095   & 0.5358\\\\\n",
       "\t 9  & 9.4122  & 0.1517\\\\\n",
       "\t 10 & 10.1447 & 0.1805\\\\\n",
       "\t 11 & 10.1448 & 0.255 \\\\\n",
       "\t 12 & 10.4308 & 0.3167\\\\\n",
       "\t 13 & 16.6046 & 0.0836\\\\\n",
       "\t 14 & 16.8158 & 0.1134\\\\\n",
       "\t 15 & 17.2533 & 0.1403\\\\\n",
       "\t 16 & 18.4862 & 0.1399\\\\\n",
       "\t 17 & 19.1478 & 0.1594\\\\\n",
       "\t 18 & 19.4138 & 0.1956\\\\\n",
       "\t 19 & 19.4591 & 0.2456\\\\\n",
       "\t 20 & 20.7361 & 0.2383\\\\\n",
       "\t 21 & 24.441  & 0.1411\\\\\n",
       "\t 22 & 26.477  & 0.1174\\\\\n",
       "\t 23 & 26.8191 & 0.1404\\\\\n",
       "\t 24 & 28.9964 & 0.1141\\\\\n",
       "\t 25 & 30.32   & 0.1109\\\\\n",
       "\t 26 & 30.7186 & 0.1299\\\\\n",
       "\\end{tabular}\n"
      ],
      "text/markdown": [
       "\n",
       "A matrix: 26 × 3 of type chr\n",
       "\n",
       "| lag | Estadistico Q | p-value |\n",
       "|---|---|---|\n",
       "| 1  | 0.4237  | NA     |\n",
       "| 2  | 0.651   | NA     |\n",
       "| 3  | 1.6027  | NA     |\n",
       "| 4  | 2.0765  | 0.1496 |\n",
       "| 5  | 2.0919  | 0.3514 |\n",
       "| 6  | 2.5101  | 0.4735 |\n",
       "| 7  | 3.1918  | 0.5263 |\n",
       "| 8  | 4.095   | 0.5358 |\n",
       "| 9  | 9.4122  | 0.1517 |\n",
       "| 10 | 10.1447 | 0.1805 |\n",
       "| 11 | 10.1448 | 0.255  |\n",
       "| 12 | 10.4308 | 0.3167 |\n",
       "| 13 | 16.6046 | 0.0836 |\n",
       "| 14 | 16.8158 | 0.1134 |\n",
       "| 15 | 17.2533 | 0.1403 |\n",
       "| 16 | 18.4862 | 0.1399 |\n",
       "| 17 | 19.1478 | 0.1594 |\n",
       "| 18 | 19.4138 | 0.1956 |\n",
       "| 19 | 19.4591 | 0.2456 |\n",
       "| 20 | 20.7361 | 0.2383 |\n",
       "| 21 | 24.441  | 0.1411 |\n",
       "| 22 | 26.477  | 0.1174 |\n",
       "| 23 | 26.8191 | 0.1404 |\n",
       "| 24 | 28.9964 | 0.1141 |\n",
       "| 25 | 30.32   | 0.1109 |\n",
       "| 26 | 30.7186 | 0.1299 |\n",
       "\n"
      ],
      "text/plain": [
       "      lag Estadistico Q p-value\n",
       " [1,] 1   0.4237        NA     \n",
       " [2,] 2   0.651         NA     \n",
       " [3,] 3   1.6027        NA     \n",
       " [4,] 4   2.0765        0.1496 \n",
       " [5,] 5   2.0919        0.3514 \n",
       " [6,] 6   2.5101        0.4735 \n",
       " [7,] 7   3.1918        0.5263 \n",
       " [8,] 8   4.095         0.5358 \n",
       " [9,] 9   9.4122        0.1517 \n",
       "[10,] 10  10.1447       0.1805 \n",
       "[11,] 11  10.1448       0.255  \n",
       "[12,] 12  10.4308       0.3167 \n",
       "[13,] 13  16.6046       0.0836 \n",
       "[14,] 14  16.8158       0.1134 \n",
       "[15,] 15  17.2533       0.1403 \n",
       "[16,] 16  18.4862       0.1399 \n",
       "[17,] 17  19.1478       0.1594 \n",
       "[18,] 18  19.4138       0.1956 \n",
       "[19,] 19  19.4591       0.2456 \n",
       "[20,] 20  20.7361       0.2383 \n",
       "[21,] 21  24.441        0.1411 \n",
       "[22,] 22  26.477        0.1174 \n",
       "[23,] 23  26.8191       0.1404 \n",
       "[24,] 24  28.9964       0.1141 \n",
       "[25,] 25  30.32         0.1109 \n",
       "[26,] 26  30.7186       0.1299 "
      ]
     },
     "metadata": {},
     "output_type": "display_data"
    }
   ],
   "source": [
    "# --- Modelo ARIMA para M2 Chile ---\n",
    "# Objetivo: Ajustar modelo ARIMA usando auto.arima.\n",
    "# Serie: Diferencia logarítmica de M2 Chile (dl_m2_chi_train).\n",
    "# Muestra: Enero 2004 - Diciembre 2022.\n",
    "\n",
    "# Ajuste inicial con auto.arima (permitiendo estacionalidad)\n",
    "model_m2_chi <- auto.arima(\n",
    "  dl_m2_chi_train,\n",
    "  seasonal = TRUE,       # Permitir búsqueda estacional (P, Q, D)\n",
    "  stepwise = TRUE,       # Búsqueda por pasos (más rápida)\n",
    "  approximation = TRUE   # Usar aproximaciones (más rápido)\n",
    "  # ic = \"aicc\"          # Criterio AICc (default)\n",
    ")\n",
    "\n",
    "# Resumen del modelo seleccionado por auto.arima\n",
    "summary(model_m2_chi)\n",
    "\n",
    "# Diagnóstico de residuos del modelo para M2 Chile\n",
    "# Verificar si los residuos son ruido blanco (p-values > 0.05).\n",
    "# p_q: grados de libertad (p + q + P + Q)\n",
    "corr_res(\n",
    "  model_m2_chi,\n",
    "  lags = 26, \n",
    "  p_q = sum(model_m2_chi$arma[c(1, 2, 3, 4)]) \n",
    ")\n",
    "\n",
    "# Evaluar los resultados del test de Ljung-Box. \n",
    "# Si no son ruido blanco, se necesitarán ajustes como en M2 Arg."
   ]
  },
  {
   "cell_type": "markdown",
   "metadata": {},
   "source": [
    "### 3.6 Estimacion Tasa de interes - Chile"
   ]
  },
  {
   "cell_type": "code",
   "execution_count": 48,
   "metadata": {
    "vscode": {
     "languageId": "r"
    }
   },
   "outputs": [
    {
     "data": {
      "text/plain": [
       "Series: dl_tasa_chi_train \n",
       "ARIMA(4,0,0)(0,1,1)[12] \n",
       "\n",
       "Coefficients:\n",
       "         ar1     ar2     ar3     ar4     sma1\n",
       "      0.0504  0.1116  0.1778  0.0537  -0.9398\n",
       "s.e.  0.0680  0.0675  0.0676  0.0685   0.0953\n",
       "\n",
       "sigma^2 = 0.004304:  log likelihood = 270.79\n",
       "AIC=-529.58   AICc=-529.18   BIC=-509.36\n",
       "\n",
       "Training set error measures:\n",
       "                       ME     RMSE        MAE      MPE     MAPE      MASE\n",
       "Training set -0.001051868 0.063102 0.04341471 176.8415 381.1785 0.6787993\n",
       "                    ACF1\n",
       "Training set 0.001805859"
      ]
     },
     "metadata": {},
     "output_type": "display_data"
    },
    {
     "data": {
      "text/html": [
       "<table class=\"dataframe\">\n",
       "<caption>A matrix: 26 × 3 of type chr</caption>\n",
       "<thead>\n",
       "\t<tr><th scope=col>lag</th><th scope=col>Estadistico Q</th><th scope=col>p-value</th></tr>\n",
       "</thead>\n",
       "<tbody>\n",
       "\t<tr><td>1 </td><td>0.0008 </td><td>NA    </td></tr>\n",
       "\t<tr><td>2 </td><td>0.032  </td><td>NA    </td></tr>\n",
       "\t<tr><td>3 </td><td>0.0385 </td><td>NA    </td></tr>\n",
       "\t<tr><td>4 </td><td>0.0812 </td><td>NA    </td></tr>\n",
       "\t<tr><td>5 </td><td>2.2224 </td><td>NA    </td></tr>\n",
       "\t<tr><td>6 </td><td>2.2275 </td><td>0.1356</td></tr>\n",
       "\t<tr><td>7 </td><td>5.4423 </td><td>0.0658</td></tr>\n",
       "\t<tr><td>8 </td><td>6.3018 </td><td>0.0978</td></tr>\n",
       "\t<tr><td>9 </td><td>6.8525 </td><td>0.1439</td></tr>\n",
       "\t<tr><td>10</td><td>6.916  </td><td>0.227 </td></tr>\n",
       "\t<tr><td>11</td><td>7.2457 </td><td>0.2987</td></tr>\n",
       "\t<tr><td>12</td><td>7.2936 </td><td>0.399 </td></tr>\n",
       "\t<tr><td>13</td><td>7.4024 </td><td>0.4939</td></tr>\n",
       "\t<tr><td>14</td><td>7.6262 </td><td>0.5722</td></tr>\n",
       "\t<tr><td>15</td><td>7.7805 </td><td>0.6503</td></tr>\n",
       "\t<tr><td>16</td><td>8.5439 </td><td>0.6639</td></tr>\n",
       "\t<tr><td>17</td><td>12.3336</td><td>0.4193</td></tr>\n",
       "\t<tr><td>18</td><td>13.1582</td><td>0.4357</td></tr>\n",
       "\t<tr><td>19</td><td>13.3495</td><td>0.4992</td></tr>\n",
       "\t<tr><td>20</td><td>13.3495</td><td>0.5753</td></tr>\n",
       "\t<tr><td>21</td><td>14.1432</td><td>0.588 </td></tr>\n",
       "\t<tr><td>22</td><td>15.3135</td><td>0.5729</td></tr>\n",
       "\t<tr><td>23</td><td>15.3821</td><td>0.6356</td></tr>\n",
       "\t<tr><td>24</td><td>15.5182</td><td>0.6891</td></tr>\n",
       "\t<tr><td>25</td><td>15.6845</td><td>0.736 </td></tr>\n",
       "\t<tr><td>26</td><td>15.7256</td><td>0.7849</td></tr>\n",
       "</tbody>\n",
       "</table>\n"
      ],
      "text/latex": [
       "A matrix: 26 × 3 of type chr\n",
       "\\begin{tabular}{lll}\n",
       " lag & Estadistico Q & p-value\\\\\n",
       "\\hline\n",
       "\t 1  & 0.0008  & NA    \\\\\n",
       "\t 2  & 0.032   & NA    \\\\\n",
       "\t 3  & 0.0385  & NA    \\\\\n",
       "\t 4  & 0.0812  & NA    \\\\\n",
       "\t 5  & 2.2224  & NA    \\\\\n",
       "\t 6  & 2.2275  & 0.1356\\\\\n",
       "\t 7  & 5.4423  & 0.0658\\\\\n",
       "\t 8  & 6.3018  & 0.0978\\\\\n",
       "\t 9  & 6.8525  & 0.1439\\\\\n",
       "\t 10 & 6.916   & 0.227 \\\\\n",
       "\t 11 & 7.2457  & 0.2987\\\\\n",
       "\t 12 & 7.2936  & 0.399 \\\\\n",
       "\t 13 & 7.4024  & 0.4939\\\\\n",
       "\t 14 & 7.6262  & 0.5722\\\\\n",
       "\t 15 & 7.7805  & 0.6503\\\\\n",
       "\t 16 & 8.5439  & 0.6639\\\\\n",
       "\t 17 & 12.3336 & 0.4193\\\\\n",
       "\t 18 & 13.1582 & 0.4357\\\\\n",
       "\t 19 & 13.3495 & 0.4992\\\\\n",
       "\t 20 & 13.3495 & 0.5753\\\\\n",
       "\t 21 & 14.1432 & 0.588 \\\\\n",
       "\t 22 & 15.3135 & 0.5729\\\\\n",
       "\t 23 & 15.3821 & 0.6356\\\\\n",
       "\t 24 & 15.5182 & 0.6891\\\\\n",
       "\t 25 & 15.6845 & 0.736 \\\\\n",
       "\t 26 & 15.7256 & 0.7849\\\\\n",
       "\\end{tabular}\n"
      ],
      "text/markdown": [
       "\n",
       "A matrix: 26 × 3 of type chr\n",
       "\n",
       "| lag | Estadistico Q | p-value |\n",
       "|---|---|---|\n",
       "| 1  | 0.0008  | NA     |\n",
       "| 2  | 0.032   | NA     |\n",
       "| 3  | 0.0385  | NA     |\n",
       "| 4  | 0.0812  | NA     |\n",
       "| 5  | 2.2224  | NA     |\n",
       "| 6  | 2.2275  | 0.1356 |\n",
       "| 7  | 5.4423  | 0.0658 |\n",
       "| 8  | 6.3018  | 0.0978 |\n",
       "| 9  | 6.8525  | 0.1439 |\n",
       "| 10 | 6.916   | 0.227  |\n",
       "| 11 | 7.2457  | 0.2987 |\n",
       "| 12 | 7.2936  | 0.399  |\n",
       "| 13 | 7.4024  | 0.4939 |\n",
       "| 14 | 7.6262  | 0.5722 |\n",
       "| 15 | 7.7805  | 0.6503 |\n",
       "| 16 | 8.5439  | 0.6639 |\n",
       "| 17 | 12.3336 | 0.4193 |\n",
       "| 18 | 13.1582 | 0.4357 |\n",
       "| 19 | 13.3495 | 0.4992 |\n",
       "| 20 | 13.3495 | 0.5753 |\n",
       "| 21 | 14.1432 | 0.588  |\n",
       "| 22 | 15.3135 | 0.5729 |\n",
       "| 23 | 15.3821 | 0.6356 |\n",
       "| 24 | 15.5182 | 0.6891 |\n",
       "| 25 | 15.6845 | 0.736  |\n",
       "| 26 | 15.7256 | 0.7849 |\n",
       "\n"
      ],
      "text/plain": [
       "      lag Estadistico Q p-value\n",
       " [1,] 1   0.0008        NA     \n",
       " [2,] 2   0.032         NA     \n",
       " [3,] 3   0.0385        NA     \n",
       " [4,] 4   0.0812        NA     \n",
       " [5,] 5   2.2224        NA     \n",
       " [6,] 6   2.2275        0.1356 \n",
       " [7,] 7   5.4423        0.0658 \n",
       " [8,] 8   6.3018        0.0978 \n",
       " [9,] 9   6.8525        0.1439 \n",
       "[10,] 10  6.916         0.227  \n",
       "[11,] 11  7.2457        0.2987 \n",
       "[12,] 12  7.2936        0.399  \n",
       "[13,] 13  7.4024        0.4939 \n",
       "[14,] 14  7.6262        0.5722 \n",
       "[15,] 15  7.7805        0.6503 \n",
       "[16,] 16  8.5439        0.6639 \n",
       "[17,] 17  12.3336       0.4193 \n",
       "[18,] 18  13.1582       0.4357 \n",
       "[19,] 19  13.3495       0.4992 \n",
       "[20,] 20  13.3495       0.5753 \n",
       "[21,] 21  14.1432       0.588  \n",
       "[22,] 22  15.3135       0.5729 \n",
       "[23,] 23  15.3821       0.6356 \n",
       "[24,] 24  15.5182       0.6891 \n",
       "[25,] 25  15.6845       0.736  \n",
       "[26,] 26  15.7256       0.7849 "
      ]
     },
     "metadata": {},
     "output_type": "display_data"
    }
   ],
   "source": [
    "# --- Forzar estructura (4,0,0)(0,1,1)[12] a TASA Chile ---\n",
    "# Objetivo: Aplicar manualmente la estructura estacional ARIMA(4,0,0)(0,1,1)[12]\n",
    "#           a la serie TASA Chile, similar a lo hecho con las series argentinas.\n",
    "#           Se sobrescribe el modelo anterior 'model_tasa_chi'.\n",
    "# Método: Usar Arima() con órdenes específicos.\n",
    "\n",
    "library(forecast) # Asegurar que esté cargado\n",
    "\n",
    "# Especificar órdenes del modelo a forzar\n",
    "p_tasa_chi <- 4; d_tasa_chi <- 0; q_tasa_chi <- 0\n",
    "P_tasa_chi <- 0; D_tasa_chi <- 1; Q_tasa_chi <- 1\n",
    "\n",
    "# Ajustar el modelo Arima con la estructura forzada\n",
    "model_tasa_chi <- Arima( # Sobrescribe la variable original\n",
    "  dl_tasa_chi_train,\n",
    "  order = c(p_tasa_chi, d_tasa_chi, q_tasa_chi),\n",
    "  seasonal = list(order = c(P_tasa_chi, D_tasa_chi, Q_tasa_chi), period = 12),\n",
    "  method = \"ML\" # Usar Máxima Verosimilitud (o CSS-ML si ML falla)\n",
    ")\n",
    "\n",
    "# Resumen del modelo TASA Chile con estructura forzada\n",
    "summary(model_tasa_chi)\n",
    "\n",
    "# Diagnóstico de residuos del modelo forzado\n",
    "# Verificar si, con esta estructura estacional, los residuos son aceptables.\n",
    "# p_q = p + q + P + Q = 4 + 0 + 0 + 1 = 5\n",
    "corr_res(\n",
    "  model_tasa_chi,\n",
    "  lags = 26,\n",
    "  p_q = p_tasa_chi + q_tasa_chi + P_tasa_chi + Q_tasa_chi\n",
    ")\n",
    "\n",
    "# Este modelo ahora reemplaza al que fue ajustado previamente por auto.arima.\n",
    "# Se debe evaluar si esta estructura forzada es adecuada para la serie TASA Chile."
   ]
  },
  {
   "cell_type": "markdown",
   "metadata": {},
   "source": [
    "# 4 Pronosticos de Diferencias Logaritmicas"
   ]
  },
  {
   "cell_type": "markdown",
   "metadata": {},
   "source": [
    "## Argentina"
   ]
  },
  {
   "cell_type": "markdown",
   "metadata": {},
   "source": [
    "### 4.1 Proyeccion EMAE - Argentina"
   ]
  },
  {
   "cell_type": "code",
   "execution_count": 49,
   "metadata": {
    "vscode": {
     "languageId": "r"
    }
   },
   "outputs": [
    {
     "data": {
      "image/png": "[encoded data removed]",
      "text/plain": [
       "plot without title"
      ]
     },
     "metadata": {
      "image/png": {
       "height": 420,
       "width": 420
      }
     },
     "output_type": "display_data"
    }
   ],
   "source": [
    "# --- Graficar Pronóstico EMAE Argentina vs Real usando función modular ---\n",
    "\n",
    "# 1. Cargar la función desde el script R\n",
    "# Asegurarse de que el archivo plot_forecast_comparison.R esté en el mismo directorio o ruta correcta.\n",
    "source(\"plot_forecast_comparison.R\")\n",
    "\n",
    "# 2. Definir parámetros para el gráfico\n",
    "h_forecast_emae <- 12                   # Horizonte ya definido\n",
    "model_to_plot_emae <- model_emae_arg    # Modelo ARIMA ajustado (forzado)\n",
    "original_ts_emae <- dl_emae             # Serie original completa (diferencias log)\n",
    "title_emae <- \"Dif. Log. EMAE Argentina\" # Título para el gráfico\n",
    "start_plot_emae <- 2022                 # Año desde donde mostrar histórico\n",
    "ylabel_emae <- \"Diferencia Logarítmica\" # Etiqueta eje Y\n",
    "\n",
    "# 3. Llamar a la función para generar el objeto ggplot\n",
    "# Se usa el modelo 'model_emae_arg' que ahora contiene la estructura forzada.\n",
    "plot_emae_comparison <- plot_forecast_vs_actual(\n",
    "  model = model_to_plot_emae,\n",
    "  original_ts = original_ts_emae,\n",
    "  h = h_forecast_emae,\n",
    "  series_title = title_emae,\n",
    "  start_year_plot = start_plot_emae,\n",
    "  ylab_text = ylabel_emae,\n",
    "  show_pi = FALSE # No mostrar Intervalos de Predicción por ahora\n",
    ")\n",
    "\n",
    "# 4. Mostrar el gráfico generado\n",
    "print(plot_emae_comparison)\n",
    "\n",
    "# 5. (Opcional) Guardar el gráfico con dimensiones y resolución específicas\n",
    "# Se recomienda crear una carpeta 'graficos' si no existe.\n",
    "# dir.create(\"graficos\", showWarnings = FALSE)\n",
    "# ggsave(\n",
    "#   \"graficos/pronostico_emae_comparacion_forzado.png\", # Nombre de archivo\n",
    "#   plot = plot_emae_comparison,\n",
    "#   width = 10,  # Ancho en pulgadas (más ancho que alto)\n",
    "#   height = 6,  # Alto en pulgadas\n",
    "#   dpi = 300    # Resolución\n",
    "# )"
   ]
  },
  {
   "cell_type": "markdown",
   "metadata": {},
   "source": [
    "### 4.2 Proyeccion IPC - Argentina"
   ]
  },
  {
   "cell_type": "code",
   "execution_count": 50,
   "metadata": {
    "vscode": {
     "languageId": "r"
    }
   },
   "outputs": [
    {
     "data": {
      "image/png": "[encoded data removed]",
      "text/plain": [
       "plot without title"
      ]
     },
     "metadata": {
      "image/png": {
       "height": 420,
       "width": 420
      }
     },
     "output_type": "display_data"
    }
   ],
   "source": [
    "# --- Graficar Pronóstico IPC Argentina vs Real usando función modular ---\n",
    "\n",
    "# 1. Cargar la función desde el script R (si no se ha hecho antes en la sesión)\n",
    "# source(\"plot_forecast_comparison.R\")\n",
    "\n",
    "# 2. Definir parámetros específicos para el gráfico del IPC\n",
    "h_forecast_ipc <- 12                   # Horizonte\n",
    "model_to_plot_ipc <- model_ipc_arg     # Modelo ARIMA ajustado (forzado o auto.arima)\n",
    "original_ts_ipc <- dl_ipc_arg          # Serie original completa (diferencias log)\n",
    "title_ipc <- \"Dif. Log. IPC Argentina\" # Título para el gráfico\n",
    "start_plot_ipc <- 2022                 # Año desde donde mostrar histórico\n",
    "ylabel_ipc <- \"Diferencia Logarítmica\" # Etiqueta eje Y\n",
    "\n",
    "# 3. Llamar a la función para generar el objeto ggplot\n",
    "# Se usa el modelo actual 'model_ipc_arg'.\n",
    "plot_ipc_comparison <- plot_forecast_vs_actual(\n",
    "  model = model_to_plot_ipc,\n",
    "  original_ts = original_ts_ipc,\n",
    "  h = h_forecast_ipc,\n",
    "  series_title = title_ipc,\n",
    "  start_year_plot = start_plot_ipc,\n",
    "  ylab_text = ylabel_ipc,\n",
    "  show_pi = FALSE # No mostrar Intervalos de Predicción\n",
    ")\n",
    "\n",
    "# 4. Mostrar el gráfico generado\n",
    "print(plot_ipc_comparison)\n",
    "\n",
    "# 5. (Opcional) Guardar el gráfico con dimensiones y resolución específicas\n",
    "# DESCOMENTA para guardar la imagen.\n",
    "# dir.create(\"graficos\", showWarnings = FALSE)\n",
    "# ggsave(\n",
    "#   filename = \"graficos/pronostico_ipc_arg_comparacion.png\", # Nombre de archivo\n",
    "#   plot = plot_ipc_comparison,\n",
    "#   width = 10,  # Ancho\n",
    "#   height = 6,  # Alto\n",
    "#   dpi = 300    # Resolución\n",
    "# )\n",
    "# print(\"Gráfico guardado en graficos/pronostico_ipc_arg_comparacion.png\")"
   ]
  },
  {
   "cell_type": "markdown",
   "metadata": {},
   "source": [
    "### 4.3 Proyeccion Agregado Monetario M2 - Argentina"
   ]
  },
  {
   "cell_type": "code",
   "execution_count": 51,
   "metadata": {
    "vscode": {
     "languageId": "r"
    }
   },
   "outputs": [
    {
     "data": {
      "image/png": "[encoded data removed]",
      "text/plain": [
       "plot without title"
      ]
     },
     "metadata": {
      "image/png": {
       "height": 420,
       "width": 420
      }
     },
     "output_type": "display_data"
    }
   ],
   "source": [
    "# --- Graficar Pronóstico M2 Argentina vs Real usando función modular ---\n",
    "\n",
    "# 1. Cargar la función desde el script R (si no se ha hecho antes)\n",
    "# source(\"plot_forecast_comparison.R\")\n",
    "\n",
    "# 2. Definir parámetros específicos para el gráfico del M2\n",
    "h_forecast_m2 <- 12                   # Horizonte\n",
    "model_to_plot_m2 <- model_m2_arg      # Modelo ARIMA ajustado\n",
    "original_ts_m2 <- dl_m2_arg           # Serie original completa (diferencias log)\n",
    "title_m2 <- \"Dif. Log. M2 Argentina\"  # Título para el gráfico\n",
    "start_plot_m2 <- 2022                 # Año desde donde mostrar histórico\n",
    "ylabel_m2 <- \"Diferencia Logarítmica\" # Etiqueta eje Y\n",
    "\n",
    "# 3. Llamar a la función para generar el objeto ggplot\n",
    "plot_m2_comparison <- plot_forecast_vs_actual(\n",
    "  model = model_to_plot_m2,\n",
    "  original_ts = original_ts_m2,\n",
    "  h = h_forecast_m2,\n",
    "  series_title = title_m2,\n",
    "  start_year_plot = start_plot_m2,\n",
    "  ylab_text = ylabel_m2,\n",
    "  show_pi = FALSE # No mostrar Intervalos de Predicción\n",
    ")\n",
    "\n",
    "# 4. Mostrar el gráfico generado\n",
    "print(plot_m2_comparison)\n",
    "\n",
    "# 5. (Opcional) Guardar el gráfico con dimensiones y resolución específicas\n",
    "# DESCOMENTA para guardar la imagen.\n",
    "# dir.create(\"graficos\", showWarnings = FALSE)\n",
    "# ggsave(\n",
    "#   filename = \"graficos/pronostico_m2_arg_comparacion.png\", # Nombre de archivo\n",
    "#   plot = plot_m2_comparison,\n",
    "#   width = 10,  # Ancho\n",
    "#   height = 6,  # Alto\n",
    "#   dpi = 300    # Resolución\n",
    "# )\n",
    "# print(\"Gráfico guardado en graficos/pronostico_m2_arg_comparacion.png\")"
   ]
  },
  {
   "cell_type": "markdown",
   "metadata": {},
   "source": [
    "### 4.4 Proyeccion Tasa de interes - Argentina"
   ]
  },
  {
   "cell_type": "code",
   "execution_count": 52,
   "metadata": {
    "vscode": {
     "languageId": "r"
    }
   },
   "outputs": [
    {
     "data": {
      "image/png": "[encoded data removed]",
      "text/plain": [
       "plot without title"
      ]
     },
     "metadata": {
      "image/png": {
       "height": 420,
       "width": 420
      }
     },
     "output_type": "display_data"
    }
   ],
   "source": [
    "# --- Graficar Pronóstico TASA Argentina vs Real usando función modular ---\n",
    "\n",
    "# 1. Cargar la función desde el script R (si no se ha hecho antes)\n",
    "# source(\"plot_forecast_comparison.R\")\n",
    "\n",
    "# 2. Definir parámetros específicos para el gráfico de la TASA\n",
    "h_forecast_tasa <- 12                     # Horizonte\n",
    "model_to_plot_tasa <- model_tasa_arg      # Modelo ARIMA ajustado (forzado o auto.arima)\n",
    "original_ts_tasa <- dl_tasa_arg           # Serie original completa (diferencias log)\n",
    "title_tasa <- \"Dif. Log. TASA Argentina\"  # Título para el gráfico\n",
    "start_plot_tasa <- 2022                   # Año desde donde mostrar histórico\n",
    "ylabel_tasa <- \"Diferencia Logarítmica\"   # Etiqueta eje Y\n",
    "\n",
    "# 3. Llamar a la función para generar el objeto ggplot\n",
    "# Se usa el modelo actual 'model_tasa_arg'.\n",
    "plot_tasa_comparison <- plot_forecast_vs_actual(\n",
    "  model = model_to_plot_tasa,\n",
    "  original_ts = original_ts_tasa,\n",
    "  h = h_forecast_tasa,\n",
    "  series_title = title_tasa,\n",
    "  start_year_plot = start_plot_tasa,\n",
    "  ylab_text = ylabel_tasa,\n",
    "  show_pi = FALSE # No mostrar Intervalos de Predicción\n",
    ")\n",
    "\n",
    "# 4. Mostrar el gráfico generado\n",
    "print(plot_tasa_comparison)\n",
    "\n",
    "# 5. (Opcional) Guardar el gráfico con dimensiones y resolución específicas\n",
    "# DESCOMENTA para guardar la imagen.\n",
    "# dir.create(\"graficos\", showWarnings = FALSE)\n",
    "# ggsave(\n",
    "#   filename = \"graficos/pronostico_tasa_arg_comparacion.png\", # Nombre de archivo\n",
    "#   plot = plot_tasa_comparison,\n",
    "#   width = 10,  # Ancho\n",
    "#   height = 6,  # Alto\n",
    "#   dpi = 300    # Resolución\n",
    "# )\n",
    "# print(\"Gráfico guardado en graficos/pronostico_tasa_arg_comparacion.png\")\n"
   ]
  },
  {
   "cell_type": "markdown",
   "metadata": {},
   "source": [
    "## Chile"
   ]
  },
  {
   "cell_type": "markdown",
   "metadata": {},
   "source": [
    "### 4.5 Proyeccion IMACEC - Chile"
   ]
  },
  {
   "cell_type": "code",
   "execution_count": 53,
   "metadata": {
    "vscode": {
     "languageId": "r"
    }
   },
   "outputs": [
    {
     "data": {
      "image/png": "[encoded data removed]",
      "text/plain": [
       "plot without title"
      ]
     },
     "metadata": {
      "image/png": {
       "height": 420,
       "width": 420
      }
     },
     "output_type": "display_data"
    }
   ],
   "source": [
    "# --- Pronóstico IMACEC Chile con el nuevo modelo simplificado ---\n",
    "library(forecast)\n",
    "library(lubridate)\n",
    "\n",
    "# Modelo ARIMA simplificado sin regresores externos\n",
    "h_forecast_imacec    <- 12\n",
    "model_to_plot_imacec <- model_imacec_chi\n",
    "original_ts_imacec   <- dl_imacec\n",
    "title_imacec         <- \"Dif. Log. IMACEC Chile\"\n",
    "start_plot_imacec    <- 2022\n",
    "ylabel_imacec        <- \"Diferencia Logarítmica\"\n",
    "\n",
    "# Utilizar la función modular directamente sin complicaciones\n",
    "plot_imacec_comparison <- plot_forecast_vs_actual(\n",
    "  model           = model_to_plot_imacec,\n",
    "  original_ts     = original_ts_imacec,\n",
    "  h               = h_forecast_imacec,\n",
    "  series_title    = title_imacec,\n",
    "  start_year_plot = start_plot_imacec,\n",
    "  ylab_text       = ylabel_imacec,\n",
    "  show_pi         = FALSE\n",
    ")\n",
    "\n",
    "# Mostrar el gráfico\n",
    "print(plot_imacec_comparison)"
   ]
  },
  {
   "cell_type": "markdown",
   "metadata": {},
   "source": [
    "### 4.6 Proyeccion IPC - Chile"
   ]
  },
  {
   "cell_type": "code",
   "execution_count": 54,
   "metadata": {
    "vscode": {
     "languageId": "r"
    }
   },
   "outputs": [
    {
     "name": "stderr",
     "output_type": "stream",
     "text": [
      "Warning message in forecast.forecast_ARIMA(model, h = h, level = pi_level, xreg = as.matrix(xreg)):\n",
      "\"xreg contains different column names from the xreg used in training. Please check that the regressors are in the same order.\"\n"
     ]
    },
    {
     "data": {
      "image/png": "[encoded data removed]",
      "text/plain": [
       "plot without title"
      ]
     },
     "metadata": {
      "image/png": {
       "height": 420,
       "width": 420
      }
     },
     "output_type": "display_data"
    }
   ],
   "source": [
    "# --- Graficar Pronóstico IPC Chile (con Regresores) vs Real usando función modular ---\n",
    "\n",
    "# 1. Cargar la función desde el script R (asegúrate que esté actualizada con el parámetro xreg)\n",
    "# source(\"plot_forecast_comparison.R\")\n",
    "\n",
    "# 2. Definir parámetros para el gráfico del IPC Chile\n",
    "h_forecast_ipc_chi <- 12                    # Horizonte\n",
    "model_to_plot_ipc_chi <- model_ipc_chi_reg  # Modelo ARIMAX ajustado\n",
    "original_ts_ipc_chi <- dl_ipc_chi           # Serie original completa (diferencias log)\n",
    "title_ipc_chi <- \"Dif. Log. IPC Chile (con Dummies)\" # Título para el gráfico\n",
    "start_plot_ipc_chi <- 2022                  # Año desde donde mostrar histórico\n",
    "ylabel_ipc_chi <- \"Diferencia Logarítmica\"  # Etiqueta eje Y\n",
    "\n",
    "# 3. Crear los regresores (dummies mensuales) para el período de pronóstico\n",
    "#    (Este código es necesario antes de llamar a la función)\n",
    "#    Necesitamos las dummies para Ene-2023 a Dic-2023\n",
    "future_time_seq_ipc <- seq(as.Date(\"2023-01-01\"), by = \"month\", length.out = h_forecast_ipc_chi)\n",
    "future_ts_ipc <- ts(1:h_forecast_ipc_chi, start=c(2023,1), frequency=12)\n",
    "future_mes_ipc <- factor(cycle(future_ts_ipc), levels = 1:12)\n",
    "# Generar la matriz de dummies futuras, excluyendo el intercepto\n",
    "xreg_forecast_ipc_chi <- model.matrix(~ future_mes_ipc)[, -1]\n",
    "\n",
    "# 4. Llamar a la función para generar el objeto ggplot, pasando xreg\n",
    "plot_ipc_chi_comparison <- plot_forecast_vs_actual(\n",
    "  model = model_to_plot_ipc_chi,\n",
    "  original_ts = original_ts_ipc_chi,\n",
    "  h = h_forecast_ipc_chi,\n",
    "  series_title = title_ipc_chi,\n",
    "  start_year_plot = start_plot_ipc_chi,\n",
    "  ylab_text = ylabel_ipc_chi,\n",
    "  show_pi = FALSE, # No mostrar Intervalos de Predicción\n",
    "  xreg = xreg_forecast_ipc_chi # <-- Pasamos los regresores futuros aquí\n",
    ")\n",
    "\n",
    "# 5. Mostrar el gráfico generado\n",
    "print(plot_ipc_chi_comparison)\n",
    "\n",
    "# 6. (Opcional) Guardar el gráfico con dimensiones y resolución específicas\n",
    "# DESCOMENTA para guardar la imagen.\n",
    "# dir.create(\"graficos\", showWarnings = FALSE)\n",
    "# ggsave(\n",
    "#   filename = \"graficos/pronostico_ipc_chi_reg_comparacion.png\", # Nombre de archivo\n",
    "#   plot = plot_ipc_chi_comparison,\n",
    "#   width = 10,  # Ancho\n",
    "#   height = 6,  # Alto\n",
    "#   dpi = 300    # Resolución\n",
    "# )\n",
    "# print(\"Gráfico guardado en graficos/pronostico_ipc_chi_reg_comparacion.png\")\n"
   ]
  },
  {
   "cell_type": "markdown",
   "metadata": {},
   "source": [
    "### 4.6 Proyeccion Agregado Monetario M2 - Chile"
   ]
  },
  {
   "cell_type": "code",
   "execution_count": 55,
   "metadata": {
    "vscode": {
     "languageId": "r"
    }
   },
   "outputs": [
    {
     "data": {
      "image/png": "[encoded data removed]",
      "text/plain": [
       "plot without title"
      ]
     },
     "metadata": {
      "image/png": {
       "height": 420,
       "width": 420
      }
     },
     "output_type": "display_data"
    }
   ],
   "source": [
    "# --- Graficar Pronóstico M2 Chile vs Real usando función modular ---\n",
    "\n",
    "# 1. Cargar la función desde el script R (si no se ha hecho antes)\n",
    "# source(\"plot_forecast_comparison.R\")\n",
    "\n",
    "# 2. Definir parámetros específicos para el gráfico del M2 Chile\n",
    "h_forecast_m2_chi <- 12                   # Horizonte (asumido)\n",
    "model_to_plot_m2_chi <- model_m2_chi      # Modelo ARIMA ajustado\n",
    "original_ts_m2_chi <- dl_m2_chi           # Serie original completa (diferencias log)\n",
    "title_m2_chi <- \"Dif. Log. M2 Chile\"      # Título para el gráfico\n",
    "start_plot_m2_chi <- 2022                 # Año desde donde mostrar histórico\n",
    "ylabel_m2_chi <- \"Diferencia Logarítmica\" # Etiqueta eje Y\n",
    "\n",
    "# 3. Llamar a la función para generar el objeto ggplot\n",
    "plot_m2_chi_comparison <- plot_forecast_vs_actual(\n",
    "  model = model_to_plot_m2_chi,\n",
    "  original_ts = original_ts_m2_chi,\n",
    "  h = h_forecast_m2_chi,\n",
    "  series_title = title_m2_chi,\n",
    "  start_year_plot = start_plot_m2_chi,\n",
    "  ylab_text = ylabel_m2_chi,\n",
    "  show_pi = FALSE # No mostrar Intervalos de Predicción\n",
    ")\n",
    "\n",
    "# 4. Mostrar el gráfico generado\n",
    "print(plot_m2_chi_comparison)\n",
    "\n",
    "# 5. (Opcional) Guardar el gráfico con dimensiones y resolución específicas\n",
    "# DESCOMENTA para guardar la imagen.\n",
    "# dir.create(\"graficos\", showWarnings = FALSE)\n",
    "# ggsave(\n",
    "#   filename = \"graficos/pronostico_m2_chi_comparacion.png\", # Nombre de archivo\n",
    "#   plot = plot_m2_chi_comparison,\n",
    "#   width = 10,  # Ancho\n",
    "#   height = 6,  # Alto\n",
    "#   dpi = 300    # Resolución\n",
    "# )\n",
    "# print(\"Gráfico guardado en graficos/pronostico_m2_chi_comparacion.png\")\n"
   ]
  },
  {
   "cell_type": "markdown",
   "metadata": {},
   "source": [
    "### 4.7 Proyeccion Diferencia Logaritmica de Tasa de Interes - Chile"
   ]
  },
  {
   "cell_type": "code",
   "execution_count": 56,
   "metadata": {
    "vscode": {
     "languageId": "r"
    }
   },
   "outputs": [
    {
     "data": {
      "image/png": "[encoded data removed]",
      "text/plain": [
       "plot without title"
      ]
     },
     "metadata": {
      "image/png": {
       "height": 420,
       "width": 420
      }
     },
     "output_type": "display_data"
    }
   ],
   "source": [
    "# --- Graficar Pronóstico TASA Chile vs Real usando función modular ---\n",
    "\n",
    "# 1. Cargar la función desde el script R (si no se ha hecho antes)\n",
    "# source(\"plot_forecast_comparison.R\")\n",
    "\n",
    "# 2. Definir parámetros específicos para el gráfico de la TASA Chile\n",
    "h_forecast_tasa_chi <- 12                     # Horizonte\n",
    "model_to_plot_tasa_chi <- model_tasa_chi      # Modelo ARIMA ajustado (forzado o auto.arima)\n",
    "original_ts_tasa_chi <- dl_tasa_chi           # Serie original completa (diferencias log)\n",
    "title_tasa_chi <- \"Dif. Log. TASA Chile\"      # Título para el gráfico\n",
    "start_plot_tasa_chi <- 2022                   # Año desde donde mostrar histórico\n",
    "ylabel_tasa_chi <- \"Diferencia Logarítmica\"   # Etiqueta eje Y\n",
    "\n",
    "# 3. Llamar a la función para generar el objeto ggplot\n",
    "# Se usa el modelo actual 'model_tasa_chi'. No se pasa xreg.\n",
    "plot_tasa_chi_comparison <- plot_forecast_vs_actual(\n",
    "  model = model_to_plot_tasa_chi,\n",
    "  original_ts = original_ts_tasa_chi,\n",
    "  h = h_forecast_tasa_chi,\n",
    "  series_title = title_tasa_chi,\n",
    "  start_year_plot = start_plot_tasa_chi,\n",
    "  ylab_text = ylabel_tasa_chi,\n",
    "  show_pi = FALSE # No mostrar Intervalos de Predicción\n",
    ")\n",
    "\n",
    "# 4. Mostrar el gráfico generado\n",
    "print(plot_tasa_chi_comparison)\n",
    "\n",
    "# 5. (Opcional) Guardar el gráfico con dimensiones y resolución específicas\n",
    "# DESCOMENTA para guardar la imagen.\n",
    "# dir.create(\"graficos\", showWarnings = FALSE)\n",
    "# ggsave(\n",
    "#   filename = \"graficos/pronostico_tasa_chi_comparacion.png\", # Nombre de archivo\n",
    "#   plot = plot_tasa_chi_comparison,\n",
    "#   width = 10,  # Ancho\n",
    "#   height = 6,  # Alto\n",
    "#   dpi = 300    # Resolución\n",
    "# )\n",
    "# print(\"Gráfico guardado en graficos/pronostico_tasa_chi_comparacion.png\")\n"
   ]
  },
  {
   "cell_type": "markdown",
   "metadata": {},
   "source": [
    "# 5 - Comparacion y evaluacion de proyecciones"
   ]
  },
  {
   "cell_type": "markdown",
   "metadata": {},
   "source": [
    "## 5.1 Comparacion y evaluacion de modelos argentinos"
   ]
  },
  {
   "cell_type": "code",
   "execution_count": 57,
   "metadata": {
    "vscode": {
     "languageId": "r"
    }
   },
   "outputs": [],
   "source": [
    "# Cargar eval_pron.R\n",
    "source(\"eval_pron.R\")"
   ]
  },
  {
   "cell_type": "code",
   "execution_count": 58,
   "metadata": {
    "vscode": {
     "languageId": "r"
    }
   },
   "outputs": [
    {
     "name": "stdout",
     "output_type": "stream",
     "text": [
      "Procesando ARG: EMAE Arg \n",
      "Evaluación ARG completada para: EMAE Arg \n",
      "\n",
      "Procesando ARG: IPC Arg \n",
      "Evaluación ARG completada para: IPC Arg \n",
      "\n",
      "Procesando ARG: M2 Arg \n",
      "Evaluación ARG completada para: M2 Arg \n",
      "\n",
      "Procesando ARG: TASA Arg \n",
      "Evaluación ARG completada para: TASA Arg \n",
      "\n",
      "[1] \"--- Tabla Evaluación ARGENTINA (Niveles 2023) ---\"\n",
      "             EMAE Arg   IPC Arg          M2 Arg TASA Arg\n",
      "RMSE           2.9673 8230.1438 7752755472.0833  26.1101\n",
      "MAE            2.4110 6180.9268 6303945443.5654  21.3069\n",
      "MAPE           1.6478   22.8985         29.4289  19.2593\n",
      "U_Theil        0.0100    0.2025          0.2331   0.1459\n",
      "U_sesgo        0.1065    0.5640          0.6612   0.6659\n",
      "U_varianza     0.0672    0.4161          0.3298   0.3247\n",
      "U_covarianza   0.8263    0.0199          0.0090   0.0094\n"
     ]
    }
   ],
   "source": [
    "# --- Evaluación de Pronósticos ARGENTINA en Niveles (2023) ---\n",
    "\n",
    "# 1. Cargar la función de evaluación (si no está cargada)\n",
    "# source(\"eval_pron.R\")\n",
    "\n",
    "# 2. Definir horizonte y período de evaluación (común)\n",
    "h_eval <- 12\n",
    "start_eval <- c(2023, 1)\n",
    "end_eval <- c(2023, 12)\n",
    "\n",
    "# 3. Lista para almacenar los resultados de evaluación de Argentina\n",
    "results_list_arg <- list()\n",
    "\n",
    "# 4. Función auxiliar para retransformar (si no está definida antes)\n",
    "#    Se define aquí por si se ejecuta la celda de forma independiente\n",
    "retransform_diflog_forecast <- function(fc_object, original_level_ts) {\n",
    "  # Último valor real LOGARÍTMICO antes del pronóstico\n",
    "  last_log_real_obj <- tryCatch({\n",
    "      log(window(original_level_ts, end = time(fc_object$x)[length(fc_object$x)]))[length(fc_object$x)]\n",
    "  }, error = function(e) { NULL }) # Manejo de error si no hay datos pre-pronóstico\n",
    "\n",
    "  if(is.null(last_log_real_obj)) {\n",
    "      stop(\"No se pudo obtener el último valor real pre-pronóstico para retransformar.\")\n",
    "  }\n",
    "  last_log_real <- last_log_real_obj\n",
    "  \n",
    "  # Suma acumulada de las diferencias logarítmicas pronosticadas\n",
    "  cumulative_log_diff <- cumsum(fc_object$mean)\n",
    "  \n",
    "  # Calcular los pronósticos logarítmicos sumando el último valor real log\n",
    "  log_forecast_levels <- last_log_real + cumulative_log_diff\n",
    "  \n",
    "  # Retransformar a niveles exponenciando\n",
    "  forecast_levels <- exp(log_forecast_levels)\n",
    "  \n",
    "  return(forecast_levels) # Devuelve un objeto ts\n",
    "}\n",
    "\n",
    "\n",
    "# --- Procesamiento y Evaluación Series ARGENTINAS ---\n",
    "\n",
    "# Configuración solo para Argentina\n",
    "series_config_arg <- list(\n",
    "  list(name=\"EMAE Arg\", model=model_emae_arg, original_ts=ts_emae,     xreg=NULL),\n",
    "  list(name=\"IPC Arg\",  model=model_ipc_arg,  original_ts=ts_ipc_arg,  xreg=NULL),\n",
    "  list(name=\"M2 Arg\",   model=model_m2_arg,   original_ts=ts_m2_arg,   xreg=NULL),\n",
    "  list(name=\"TASA Arg\", model=model_tasa_arg, original_ts=ts_tasa_arg, xreg=NULL)\n",
    ")\n",
    "\n",
    "# Bucle para series argentinas\n",
    "for (cfg in series_config_arg) {\n",
    "  cat(\"Procesando ARG:\", cfg$name, \"\\n\")\n",
    "  \n",
    "  # Generar pronóstico de diferencias logarítmicas\n",
    "  fc_diflog <- tryCatch({\n",
    "      forecast(cfg$model, h = h_eval) # No se necesita xreg para Arg\n",
    "  }, error = function(e) {\n",
    "      warning(paste(\"Error al pronosticar para\", cfg$name, \":\", e$message)); return(NULL) })\n",
    "  if (is.null(fc_diflog)) next\n",
    "\n",
    "  # Retransformar a niveles\n",
    "  forecast_levels <- tryCatch({\n",
    "      retransform_diflog_forecast(fc_diflog, cfg$original_ts)\n",
    "  }, error = function(e) {\n",
    "      warning(paste(\"Error al retransformar para\", cfg$name, \":\", e$message)); return(NULL) })\n",
    "  if (is.null(forecast_levels)) next\n",
    "  \n",
    "  # Obtener valores reales en niveles\n",
    "  actual_levels <- window(cfg$original_ts, start = start_eval, end = end_eval)\n",
    "  \n",
    "  # Preparar vectores y validar longitudes\n",
    "  Y_P <- as.vector(forecast_levels)\n",
    "  Y_A <- as.vector(actual_levels)\n",
    "  if (length(Y_A) == 0) { warning(paste(\"No hay datos reales para\", cfg$name)); next }\n",
    "  min_len <- min(length(Y_P), length(Y_A))\n",
    "  if (min_len < h_eval) { warning(paste(\"Datos incompletos en\", cfg$name)) }\n",
    "  Y_P <- Y_P[1:min_len]; Y_A <- Y_A[1:min_len]\n",
    "\n",
    "  # Evaluar\n",
    "  evaluation_metrics <- tryCatch({\n",
    "      Eval_Pron(Y_P = Y_P, Y_A = Y_A, Nombre = cfg$name)\n",
    "  }, error = function(e) {\n",
    "      warning(paste(\"Error en Eval_Pron para\", cfg$name, \":\", e$message)); return(NULL) })\n",
    "  if(is.null(evaluation_metrics)) next\n",
    "  \n",
    "  results_list_arg[[cfg$name]] <- evaluation_metrics\n",
    "  cat(\"Evaluación ARG completada para:\", cfg$name, \"\\n\\n\")\n",
    "}\n",
    "\n",
    "# Consolidar y mostrar resultados de Argentina\n",
    "if (length(results_list_arg) > 0) {\n",
    "  final_results_table_arg <- do.call(cbind, results_list_arg)\n",
    "  print(\"--- Tabla Evaluación ARGENTINA (Niveles 2023) ---\")\n",
    "  print(round(final_results_table_arg, 4))\n",
    "} else { print(\"No se generaron resultados para Argentina.\") }\n"
   ]
  },
  {
   "cell_type": "markdown",
   "metadata": {},
   "source": [
    "## 5.2 Comparacion y evaluacion de modelos chilenos\n"
   ]
  },
  {
   "cell_type": "code",
   "execution_count": 61,
   "metadata": {
    "vscode": {
     "languageId": "r"
    }
   },
   "outputs": [
    {
     "name": "stdout",
     "output_type": "stream",
     "text": [
      "Procesando Evaluación para: IMACEC Chi ...\n",
      " -> Evaluación completada.\n",
      "Procesando Evaluación para: IPC Chi ...\n"
     ]
    },
    {
     "name": "stderr",
     "output_type": "stream",
     "text": [
      "Warning message in forecast.forecast_ARIMA(cfg$model, h = h_eval, xreg = xreg_future):\n",
      "\"xreg contains different column names from the xreg used in training. Please check that the regressors are in the same order.\"\n"
     ]
    },
    {
     "name": "stdout",
     "output_type": "stream",
     "text": [
      " -> Evaluación completada.\n",
      "Procesando Evaluación para: M2 Chi ...\n",
      " -> Evaluación completada.\n",
      "Procesando Evaluación para: TASA Chi ...\n",
      " -> Evaluación completada.\n",
      "[1] \"--- Tabla Evaluación CHILE (Niveles 2023) ---\"\n",
      "             IMACEC Chi IPC Chi    M2 Chi TASA Chi\n",
      "RMSE             6.0827  0.4674 3555.1105   1.5704\n",
      "MAE              5.9612  0.4291 3073.6619   1.1808\n",
      "MAPE             5.5382  0.4314    1.7252   8.4784\n",
      "U_Theil          0.0289  0.0023    0.0100   0.0510\n",
      "U_sesgo          0.9604  0.0176    0.2748   0.1304\n",
      "U_varianza       0.0028  0.4676    0.5402   0.3814\n",
      "U_covarianza     0.0368  0.5148    0.1850   0.4881\n"
     ]
    }
   ],
   "source": [
    "# --- Evaluación de Pronósticos CHILE en Niveles (2023) - Corregido para el Modelo Simplificado ---\n",
    "\n",
    "# Cargar librerías necesarias\n",
    "library(forecast)\n",
    "library(lubridate)\n",
    "\n",
    "# Verificar existencia de funciones requeridas\n",
    "if (!exists(\"Eval_Pron\")) stop(\"Función Eval_Pron no encontrada.\")\n",
    "if (!exists(\"retransform_diflog_forecast\")) stop(\"Función retransform_diflog_forecast no encontrada.\")\n",
    "\n",
    "# 1. Lista para almacenar los resultados\n",
    "results_list_chi <- list()\n",
    "\n",
    "# 2. Parámetros comunes\n",
    "if (!exists(\"h_eval\")) h_eval <- 12\n",
    "if (!exists(\"start_eval\")) start_eval <- c(2023, 1)\n",
    "if (!exists(\"end_eval\")) end_eval <- c(2023, 12)\n",
    "\n",
    "# --- Configuración y Bucle para Series Chilenas ---\n",
    "series_config_chi <- list(\n",
    "  # CORREGIDO: El modelo simplificado ya no necesita regresores externos (needs_xreg_future=FALSE)\n",
    "  list(name=\"IMACEC Chi\", model=model_imacec_chi, original_ts=ts_imacec, needs_xreg_future=FALSE),\n",
    "  list(name=\"IPC Chi\",  model=model_ipc_chi_reg, original_ts=ts_ipc_chi,  needs_xreg_future=TRUE),\n",
    "  list(name=\"M2 Chi\",   model=model_m2_chi,   original_ts=ts_m2_chi,   needs_xreg_future=FALSE),\n",
    "  list(name=\"TASA Chi\", model=model_tasa_chi, original_ts=ts_tasa_chi, needs_xreg_future=FALSE)\n",
    ")\n",
    "\n",
    "# Bucle principal\n",
    "for (cfg in series_config_chi) {\n",
    "  cat(\"Procesando Evaluación para:\", cfg$name, \"...\\n\")\n",
    "  xreg_future <- NULL # Inicializar\n",
    "\n",
    "  if (cfg$needs_xreg_future) {\n",
    "    if (cfg$name == \"IPC Chi\") {\n",
    "        # Generación específica para IPC (dummies mensuales)\n",
    "        future_ts <- ts(1:h_eval, start=start_eval, frequency=12)\n",
    "        future_mes <- factor(cycle(future_ts), levels = 1:12)\n",
    "        xreg_future <- model.matrix(~ future_mes)[, -1]\n",
    "    }\n",
    "  } # Fin if (cfg$needs_xreg_future)\n",
    "\n",
    "  # Generar pronóstico (diflog)\n",
    "  fc_diflog <- tryCatch({\n",
    "      if (cfg$needs_xreg_future) {\n",
    "          forecast(cfg$model, h = h_eval, xreg = xreg_future)\n",
    "      } else {\n",
    "          forecast(cfg$model, h = h_eval) # Sin xreg para modelos que no lo necesitan\n",
    "      }\n",
    "  }, error = function(e) {\n",
    "      warning(paste(\"Error en forecast() para\", cfg$name, \":\", e$message)); return(NULL)\n",
    "  })\n",
    "  if (is.null(fc_diflog)) next\n",
    "\n",
    "  # Retransformar a niveles\n",
    "  forecast_levels <- tryCatch({\n",
    "      retransform_diflog_forecast(fc_diflog, cfg$original_ts)\n",
    "  }, error = function(e) {\n",
    "      warning(paste(\"Error en retransform_diflog_forecast() para\", cfg$name, \":\", e$message)); return(NULL)\n",
    "  })\n",
    "  if (is.null(forecast_levels)) next\n",
    "\n",
    "  # Obtener valores reales\n",
    "  actual_levels <- window(cfg$original_ts, start = start_eval, end = end_eval)\n",
    "\n",
    "  # Validar y preparar vectores\n",
    "  Y_P <- as.vector(forecast_levels); Y_A <- as.vector(actual_levels)\n",
    "  if (length(Y_A) == 0) { warning(paste(\"No hay datos reales para\", cfg$name, \"en\", start_eval[1])); next }\n",
    "  min_len <- min(length(Y_P), length(Y_A))\n",
    "  if (min_len < h_eval) { warning(paste(\"Longitudes inconsistentes para\", cfg$name, \". Usando\", min_len, \"puntos.\")) }\n",
    "  Y_P <- Y_P[1:min_len]; Y_A <- Y_A[1:min_len]\n",
    "\n",
    "  # Evaluar pronóstico\n",
    "  evaluation_metrics <- tryCatch({\n",
    "      Eval_Pron(Y_P = Y_P, Y_A = Y_A, Nombre = cfg$name)\n",
    "  }, error = function(e) {\n",
    "      warning(paste(\"Error en Eval_Pron() para\", cfg$name, \":\", e$message)); return(NULL)\n",
    "  })\n",
    "  if(is.null(evaluation_metrics)) next\n",
    "\n",
    "  # Almacenar resultados\n",
    "  results_list_chi[[cfg$name]] <- evaluation_metrics\n",
    "  cat(\" -> Evaluación completada.\\n\")\n",
    "\n",
    "} # Fin bucle for\n",
    "\n",
    "# Consolidar y mostrar resultados finales\n",
    "if (length(results_list_chi) > 0) {\n",
    "  final_results_table_chi <- do.call(cbind, results_list_chi)\n",
    "  print(\"--- Tabla Evaluación CHILE (Niveles 2023) ---\")\n",
    "  print(round(final_results_table_chi, 4))\n",
    "} else {\n",
    "  print(\"No se generaron resultados de evaluación para Chile.\")\n",
    "}"
   ]
  },
  {
   "cell_type": "markdown",
   "metadata": {},
   "source": [
    "# 6. Comparación con Suavizado Exponencial (ETS) sin Tendencia"
   ]
  },
  {
   "cell_type": "markdown",
   "metadata": {},
   "source": [
    "## 6.1 Comparacion ETS Argentina"
   ]
  },
  {
   "cell_type": "code",
   "execution_count": 60,
   "metadata": {
    "vscode": {
     "languageId": "r"
    }
   },
   "outputs": [
    {
     "name": "stdout",
     "output_type": "stream",
     "text": [
      "--- Iniciando Proceso ETS (trend='N') para ARGENTINA ---\n",
      "Procesando ETS para: EMAE Arg \n"
     ]
    },
    {
     "name": "stderr",
     "output_type": "stream",
     "text": [
      "Warning message in value[[3L]](cond):\n",
      "\"Error al ajustar ETS para EMAE Arg : No model able to be fitted\"\n"
     ]
    },
    {
     "name": "stdout",
     "output_type": "stream",
     "text": [
      "  AJUSTE ETS FALLÓ para EMAE Arg - No se puede continuar.\n",
      "\n",
      "Procesando ETS para: IPC Arg \n"
     ]
    },
    {
     "name": "stderr",
     "output_type": "stream",
     "text": [
      "Warning message in value[[3L]](cond):\n",
      "\"Error al ajustar ETS para IPC Arg : No model able to be fitted\"\n"
     ]
    },
    {
     "name": "stdout",
     "output_type": "stream",
     "text": [
      "  AJUSTE ETS FALLÓ para IPC Arg - No se puede continuar.\n",
      "\n",
      "Procesando ETS para: M2 Arg \n"
     ]
    },
    {
     "name": "stderr",
     "output_type": "stream",
     "text": [
      "Warning message in value[[3L]](cond):\n",
      "\"Error al ajustar ETS para M2 Arg : No model able to be fitted\"\n"
     ]
    },
    {
     "name": "stdout",
     "output_type": "stream",
     "text": [
      "  AJUSTE ETS FALLÓ para M2 Arg - No se puede continuar.\n",
      "\n",
      "Procesando ETS para: TASA Arg \n"
     ]
    },
    {
     "name": "stderr",
     "output_type": "stream",
     "text": [
      "Warning message in value[[3L]](cond):\n",
      "\"Error al ajustar ETS para TASA Arg : No model able to be fitted\"\n"
     ]
    },
    {
     "name": "stdout",
     "output_type": "stream",
     "text": [
      "  AJUSTE ETS FALLÓ para TASA Arg - No se puede continuar.\n",
      "\n",
      "--- Proceso ETS para ARGENTINA Finalizado ---\n",
      "\n",
      "[1] \"No se generaron resultados de evaluación ETS válidos para Argentina.\"\n"
     ]
    }
   ],
   "source": [
    "# --- Ajuste, Pronóstico y Evaluación ARGENTINA con ETS (Sin Tendencia) ---\n",
    "\n",
    "# 1. Cargar paquetes y funciones necesarias (si no están cargados)\n",
    "# library(forecast)\n",
    "# source(\"eval_pron.R\") # Asegurarse que Eval_Pron esté disponible\n",
    "\n",
    "# 2. Definir períodos y horizonte\n",
    "end_train_ets <- c(2022, 12)\n",
    "start_eval_ets <- c(2023, 1)\n",
    "end_eval_ets <- c(2023, 12)\n",
    "h_ets <- 12\n",
    "\n",
    "# 3. Lista para almacenar resultados de evaluación ETS para Argentina\n",
    "results_list_ets_arg <- list()\n",
    "\n",
    "# 4. Configuración de las series ARGENTINAS (usando las series originales en NIVELES)\n",
    "series_config_ets_arg <- list(\n",
    "  list(name=\"EMAE Arg\",   original_ts=ts_emae),\n",
    "  list(name=\"IPC Arg\",    original_ts=ts_ipc_arg),\n",
    "  list(name=\"M2 Arg\",     original_ts=ts_m2_arg),\n",
    "  list(name=\"TASA Arg\",   original_ts=ts_tasa_arg)\n",
    ")\n",
    "\n",
    "# --- Bucle para Ajuste, Pronóstico y Evaluación ETS (Solo Argentina) ---\n",
    "cat(\"--- Iniciando Proceso ETS (trend='N') para ARGENTINA ---\\n\")\n",
    "for (cfg in series_config_ets_arg) {\n",
    "  cat(\"Procesando ETS para:\", cfg$name, \"\\n\")\n",
    "  \n",
    "  # Extraer datos de entrenamiento (NIVELES)\n",
    "  training_ts <- window(cfg$original_ts, end = end_train_ets)\n",
    "  \n",
    "  # Validar si hay datos suficientes\n",
    "  if(length(training_ts) < 2 * frequency(training_ts)) { \n",
    "       warning(paste(\"Datos insuficientes para ETS en\", cfg$name,\". Saltando.\"))\n",
    "       next\n",
    "  }\n",
    "\n",
    "  # Ajustar modelo ETS (Sin Tendencia, Error/Seasonality automáticos)\n",
    "  ets_model <- tryCatch({\n",
    "    ets(training_ts, trend = \"N\", allow.multiplicative.trend = FALSE) \n",
    "  }, error = function(e) {\n",
    "    warning(paste(\"Error al ajustar ETS para\", cfg$name, \":\", e$message)); return(NULL) \n",
    "  })\n",
    "  \n",
    "  if (is.null(ets_model)) {\n",
    "      cat(\"  AJUSTE ETS FALLÓ para\", cfg$name, \"- No se puede continuar.\\n\\n\")\n",
    "      next \n",
    "  }\n",
    "  \n",
    "  cat(\"  Modelo ETS ajustado:\", ets_model$method, \"\\n\")\n",
    "  \n",
    "  # Generar pronóstico ETS\n",
    "  ets_forecast <- tryCatch({\n",
    "    forecast(ets_model, h = h_ets)\n",
    "  }, error = function(e) {\n",
    "    warning(paste(\"Error al pronosticar ETS para\", cfg$name, \":\", e$message)); return(NULL)\n",
    "  })\n",
    "  \n",
    "  if (is.null(ets_forecast)) next \n",
    "\n",
    "  # Obtener pronóstico medio (Y_P) y valores reales (Y_A)\n",
    "  Y_P_ets <- as.vector(ets_forecast$mean)\n",
    "  actual_levels_eval <- window(cfg$original_ts, start = start_eval_ets, end = end_eval_ets)\n",
    "  Y_A_ets <- as.vector(actual_levels_eval)\n",
    "  \n",
    "  # Validar longitudes\n",
    "  if (length(Y_A_ets) == 0) { warning(paste(\"No hay datos reales 2023 para\", cfg$name)); next }\n",
    "  min_len_ets <- min(length(Y_P_ets), length(Y_A_ets))\n",
    "  if (min_len_ets < h_ets) { warning(paste(\"Datos incompletos ETS en\", cfg$name)) }\n",
    "  Y_P_ets <- Y_P_ets[1:min_len_ets]; Y_A_ets <- Y_A_ets[1:min_len_ets]\n",
    "\n",
    "  # Evaluar usando Eval_Pron\n",
    "  evaluation_metrics_ets <- tryCatch({\n",
    "      Eval_Pron(Y_P = Y_P_ets, Y_A = Y_A_ets, Nombre = paste(cfg$name, \"(ETS)\"))\n",
    "  }, error = function(e) {\n",
    "      warning(paste(\"Error en Eval_Pron para ETS\", cfg$name, \":\", e$message)); return(NULL) })\n",
    "      \n",
    "  if(is.null(evaluation_metrics_ets)) next \n",
    "  \n",
    "  # Guardar resultados\n",
    "  results_list_ets_arg[[cfg$name]] <- evaluation_metrics_ets\n",
    "  \n",
    "  cat(\"  Evaluación ETS completada para:\", cfg$name, \"\\n\\n\")\n",
    "}\n",
    "cat(\"--- Proceso ETS para ARGENTINA Finalizado ---\\n\\n\")\n",
    "\n",
    "# 5. Consolidar y mostrar resultados ETS de Argentina\n",
    "if (length(results_list_ets_arg) > 0) {\n",
    "  final_results_table_ets_arg <- do.call(cbind, results_list_ets_arg)\n",
    "  print(\"--- Tabla Resumen Evaluación Pronósticos ETS ARGENTINA (trend='N') (Niveles 2023) ---\")\n",
    "   # Renombrar columna si solo queda una\n",
    "   if (ncol(final_results_table_ets_arg) == 1 && length(results_list_ets_arg) == 1) {\n",
    "       colnames(final_results_table_ets_arg) <- names(results_list_ets_arg)\n",
    "   }\n",
    "  print(round(final_results_table_ets_arg, 4)) \n",
    "} else {\n",
    "  print(\"No se generaron resultados de evaluación ETS válidos para Argentina.\")\n",
    "}\n"
   ]
  }
 ],
 "metadata": {
  "kernelspec": {
   "display_name": "R (System)",
   "language": "R",
   "name": "r_system"
  },
  "language_info": {
   "codemirror_mode": "r",
   "file_extension": ".r",
   "mimetype": "text/x-r-source",
   "name": "R",
   "pygments_lexer": "r",
   "version": "4.4.3"
  }
 },
 "nbformat": 4,
 "nbformat_minor": 2
}
