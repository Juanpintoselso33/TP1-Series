{
 "cells": [
  {
   "cell_type": "markdown",
   "metadata": {},
   "source": [
    "# TP1: Metodología Box-Jenkins y Suavizado Exponencial ETS"
   ]
  },
  {
   "cell_type": "markdown",
   "metadata": {},
   "source": [
    "# 1. Configuración inicial y carga de datos"
   ]
  },
  {
   "cell_type": "markdown",
   "metadata": {},
   "source": [
    "### 1.1 Instalación y carga de librerías"
   ]
  },
  {
   "cell_type": "code",
   "execution_count": 125,
   "metadata": {
    "vscode": {
     "languageId": "r"
    }
   },
   "outputs": [],
   "source": [
    "# Instalar paquetes si no están disponibles\n",
    "# if(!require(readxl)) install.packages(\"readxl\")\n",
    "# if(!require(forecast)) install.packages(\"forecast\")\n",
    "# if(!require(tseries)) install.packages(\"tseries\")\n",
    "# if(!require(ggplot2)) install.packages(\"ggplot2\")\n",
    "# if(!require(dplyr)) install.packages(\"dplyr\")\n",
    "# if(!require(zoo)) install.packages(\"zoo\")\n",
    "# if(!require(lubridate)) install.packages(\"lubridate\")\n",
    "\n",
    "# Cargar librerías necesarias\n",
    "library(readxl)\n",
    "library(forecast)\n",
    "library(tseries)\n",
    "library(ggplot2)\n",
    "library(dplyr)\n",
    "library(zoo)\n",
    "library(lubridate)\n",
    "\n",
    "# Definir ruta del proyecto\n",
    "project_path <- \"C:/Users/trico/OneDrive/UBA/Series de tiempo/TP1\"\n",
    "\n",
    "# 2.1) Cargar función de diagnóstico de residuos\n",
    "source(file.path(project_path, \"corr_res.R\"))\n",
    "\n",
    "# Configurar opciones\n",
    "options(scipen = 999) # Evitar notación científica\n",
    "par(bg = \"white\") # Fondo blanco para gráficos base\n"
   ]
  },
  {
   "cell_type": "markdown",
   "metadata": {},
   "source": [
    "### 1.2 Lectura de datos"
   ]
  },
  {
   "cell_type": "code",
   "execution_count": 126,
   "metadata": {
    "vscode": {
     "languageId": "r"
    }
   },
   "outputs": [
    {
     "data": {
      "text/html": [
       "<table class=\"dataframe\">\n",
       "<caption>A tibble: 5 × 6</caption>\n",
       "<thead>\n",
       "\t<tr><th scope=col>Periodo</th><th scope=col>EMAE</th><th scope=col>IPC</th><th scope=col>M2N</th><th scope=col>M2R</th><th scope=col>TASA</th></tr>\n",
       "\t<tr><th scope=col>&lt;chr&gt;</th><th scope=col>&lt;dbl&gt;</th><th scope=col>&lt;dbl&gt;</th><th scope=col>&lt;dbl&gt;</th><th scope=col>&lt;dbl&gt;</th><th scope=col>&lt;dbl&gt;</th></tr>\n",
       "</thead>\n",
       "<tbody>\n",
       "\t<tr><td>2004M01</td><td>98.44894</td><td>77.33982</td><td>66006023</td><td>66006023</td><td>4.57</td></tr>\n",
       "\t<tr><td>2004M02</td><td>98.17701</td><td>77.18623</td><td>67545780</td><td>67680182</td><td>4.03</td></tr>\n",
       "\t<tr><td>2004M03</td><td>97.80754</td><td>77.32858</td><td>68027349</td><td>68037235</td><td>3.69</td></tr>\n",
       "\t<tr><td>2004M04</td><td>95.04287</td><td>77.62270</td><td>70499728</td><td>70242804</td><td>3.48</td></tr>\n",
       "\t<tr><td>2004M05</td><td>96.89273</td><td>77.75169</td><td>72987490</td><td>72600858</td><td>3.54</td></tr>\n",
       "</tbody>\n",
       "</table>\n"
      ],
      "text/latex": [
       "A tibble: 5 × 6\n",
       "\\begin{tabular}{llllll}\n",
       " Periodo & EMAE & IPC & M2N & M2R & TASA\\\\\n",
       " <chr> & <dbl> & <dbl> & <dbl> & <dbl> & <dbl>\\\\\n",
       "\\hline\n",
       "\t 2004M01 & 98.44894 & 77.33982 & 66006023 & 66006023 & 4.57\\\\\n",
       "\t 2004M02 & 98.17701 & 77.18623 & 67545780 & 67680182 & 4.03\\\\\n",
       "\t 2004M03 & 97.80754 & 77.32858 & 68027349 & 68037235 & 3.69\\\\\n",
       "\t 2004M04 & 95.04287 & 77.62270 & 70499728 & 70242804 & 3.48\\\\\n",
       "\t 2004M05 & 96.89273 & 77.75169 & 72987490 & 72600858 & 3.54\\\\\n",
       "\\end{tabular}\n"
      ],
      "text/markdown": [
       "\n",
       "A tibble: 5 × 6\n",
       "\n",
       "| Periodo &lt;chr&gt; | EMAE &lt;dbl&gt; | IPC &lt;dbl&gt; | M2N &lt;dbl&gt; | M2R &lt;dbl&gt; | TASA &lt;dbl&gt; |\n",
       "|---|---|---|---|---|---|\n",
       "| 2004M01 | 98.44894 | 77.33982 | 66006023 | 66006023 | 4.57 |\n",
       "| 2004M02 | 98.17701 | 77.18623 | 67545780 | 67680182 | 4.03 |\n",
       "| 2004M03 | 97.80754 | 77.32858 | 68027349 | 68037235 | 3.69 |\n",
       "| 2004M04 | 95.04287 | 77.62270 | 70499728 | 70242804 | 3.48 |\n",
       "| 2004M05 | 96.89273 | 77.75169 | 72987490 | 72600858 | 3.54 |\n",
       "\n"
      ],
      "text/plain": [
       "  Periodo EMAE     IPC      M2N      M2R      TASA\n",
       "1 2004M01 98.44894 77.33982 66006023 66006023 4.57\n",
       "2 2004M02 98.17701 77.18623 67545780 67680182 4.03\n",
       "3 2004M03 97.80754 77.32858 68027349 68037235 3.69\n",
       "4 2004M04 95.04287 77.62270 70499728 70242804 3.48\n",
       "5 2004M05 96.89273 77.75169 72987490 72600858 3.54"
      ]
     },
     "metadata": {},
     "output_type": "display_data"
    },
    {
     "data": {
      "text/html": [
       "<table class=\"dataframe\">\n",
       "<caption>A tibble: 5 × 6</caption>\n",
       "<thead>\n",
       "\t<tr><th scope=col>Periodo</th><th scope=col>IMACEC</th><th scope=col>M2N</th><th scope=col>IPC</th><th scope=col>M2R</th><th scope=col>TASA</th></tr>\n",
       "\t<tr><th scope=col>&lt;dttm&gt;</th><th scope=col>&lt;dbl&gt;</th><th scope=col>&lt;dbl&gt;</th><th scope=col>&lt;dbl&gt;</th><th scope=col>&lt;dbl&gt;</th><th scope=col>&lt;dbl&gt;</th></tr>\n",
       "</thead>\n",
       "<tbody>\n",
       "\t<tr><td>2004-01-01</td><td>56.95508</td><td>22880.17</td><td>46.12519</td><td>22880.17</td><td>6.107525</td></tr>\n",
       "\t<tr><td>2004-02-01</td><td>54.85665</td><td>22853.76</td><td>46.12926</td><td>22851.74</td><td>6.407674</td></tr>\n",
       "\t<tr><td>2004-03-01</td><td>61.86300</td><td>23231.16</td><td>46.32336</td><td>23131.78</td><td>6.943765</td></tr>\n",
       "\t<tr><td>2004-04-01</td><td>60.63709</td><td>23852.51</td><td>46.49362</td><td>23663.49</td><td>6.637812</td></tr>\n",
       "\t<tr><td>2004-05-01</td><td>60.08506</td><td>23705.82</td><td>46.73653</td><td>23395.73</td><td>6.957272</td></tr>\n",
       "</tbody>\n",
       "</table>\n"
      ],
      "text/latex": [
       "A tibble: 5 × 6\n",
       "\\begin{tabular}{llllll}\n",
       " Periodo & IMACEC & M2N & IPC & M2R & TASA\\\\\n",
       " <dttm> & <dbl> & <dbl> & <dbl> & <dbl> & <dbl>\\\\\n",
       "\\hline\n",
       "\t 2004-01-01 & 56.95508 & 22880.17 & 46.12519 & 22880.17 & 6.107525\\\\\n",
       "\t 2004-02-01 & 54.85665 & 22853.76 & 46.12926 & 22851.74 & 6.407674\\\\\n",
       "\t 2004-03-01 & 61.86300 & 23231.16 & 46.32336 & 23131.78 & 6.943765\\\\\n",
       "\t 2004-04-01 & 60.63709 & 23852.51 & 46.49362 & 23663.49 & 6.637812\\\\\n",
       "\t 2004-05-01 & 60.08506 & 23705.82 & 46.73653 & 23395.73 & 6.957272\\\\\n",
       "\\end{tabular}\n"
      ],
      "text/markdown": [
       "\n",
       "A tibble: 5 × 6\n",
       "\n",
       "| Periodo &lt;dttm&gt; | IMACEC &lt;dbl&gt; | M2N &lt;dbl&gt; | IPC &lt;dbl&gt; | M2R &lt;dbl&gt; | TASA &lt;dbl&gt; |\n",
       "|---|---|---|---|---|---|\n",
       "| 2004-01-01 | 56.95508 | 22880.17 | 46.12519 | 22880.17 | 6.107525 |\n",
       "| 2004-02-01 | 54.85665 | 22853.76 | 46.12926 | 22851.74 | 6.407674 |\n",
       "| 2004-03-01 | 61.86300 | 23231.16 | 46.32336 | 23131.78 | 6.943765 |\n",
       "| 2004-04-01 | 60.63709 | 23852.51 | 46.49362 | 23663.49 | 6.637812 |\n",
       "| 2004-05-01 | 60.08506 | 23705.82 | 46.73653 | 23395.73 | 6.957272 |\n",
       "\n"
      ],
      "text/plain": [
       "  Periodo    IMACEC   M2N      IPC      M2R      TASA    \n",
       "1 2004-01-01 56.95508 22880.17 46.12519 22880.17 6.107525\n",
       "2 2004-02-01 54.85665 22853.76 46.12926 22851.74 6.407674\n",
       "3 2004-03-01 61.86300 23231.16 46.32336 23131.78 6.943765\n",
       "4 2004-04-01 60.63709 23852.51 46.49362 23663.49 6.637812\n",
       "5 2004-05-01 60.08506 23705.82 46.73653 23395.73 6.957272"
      ]
     },
     "metadata": {},
     "output_type": "display_data"
    }
   ],
   "source": [
    "# Leer datos de Argentina (skip=1 para eliminar sólo el título)\n",
    "datos_arg <- read_excel(\n",
    "  file.path(project_path, \"Datos Argentina.xlsx\"),\n",
    "  skip      = 1,\n",
    "  col_names = c(\"Periodo\", \"EMAE\", \"IPC\", \"M2N\", \"M2R\", \"TASA\")\n",
    ")\n",
    "\n",
    "# Leer datos de Chile (skip=3 para saltar título, línea en blanco y cabecera)\n",
    "datos_chi <- read_excel(\n",
    "  file.path(project_path, \"Datos Chile.xlsx\"),\n",
    "  skip      = 3,\n",
    "  col_names = c(\"Periodo\", \"IMACEC\", \"M2N\", \"IPC\", \"M2R\", \"TASA\")\n",
    ")\n",
    "\n",
    "# Mostrar primeras filas para verificar\n",
    "head(datos_arg, 5)\n",
    "head(datos_chi, 5)\n"
   ]
  },
  {
   "cell_type": "markdown",
   "metadata": {},
   "source": [
    "# 2. Preparación de series temporales\n",
    "\n"
   ]
  },
  {
   "cell_type": "markdown",
   "metadata": {},
   "source": [
    "### 2.1 Creación de series temporales y diferencias logarítmicas"
   ]
  },
  {
   "cell_type": "code",
   "execution_count": 127,
   "metadata": {
    "vscode": {
     "languageId": "r"
    }
   },
   "outputs": [],
   "source": [
    "datos_arg$Fecha <- as.Date(as.yearmon(gsub(\"M\", \"-\", datos_arg$Periodo), \"%Y-%m\"))\n",
    "datos_chi$Fecha <- as.Date(as.numeric(datos_chi$Periodo), origin = \"1899-12-30\")\n",
    "\n",
    "# Crear objetos ts (enero-2004 en adelante)\n",
    "ts_emae <- ts(datos_arg$EMAE, start = c(2004, 1), frequency = 12)\n",
    "ts_ipc_arg <- ts(datos_arg$IPC, start = c(2004, 1), frequency = 12)\n",
    "ts_m2_arg <- ts(datos_arg$M2N, start = c(2004, 1), frequency = 12)\n",
    "ts_tasa_arg <- ts(datos_arg$TASA, start = c(2004, 1), frequency = 12)\n",
    "\n",
    "ts_imacec <- ts(datos_chi$IMACEC, start = c(2004, 1), frequency = 12)\n",
    "ts_ipc_chi <- ts(datos_chi$IPC, start = c(2004, 1), frequency = 12)\n",
    "ts_m2_chi <- ts(datos_chi$M2N, start = c(2004, 1), frequency = 12)\n",
    "ts_tasa_chi <- ts(datos_chi$TASA, start = c(2004, 1), frequency = 12)\n"
   ]
  },
  {
   "cell_type": "code",
   "execution_count": 128,
   "metadata": {
    "vscode": {
     "languageId": "r"
    }
   },
   "outputs": [],
   "source": [
    "# Calcular diferencias logarítmicas de cada serie temporal previamente creada\n",
    "\n",
    "# Función para calcular la diferencia logarítmica\n",
    "# (aproxima la tasa de crecimiento)\n",
    "calcular_diff_log <- function(x) diff(log(x))\n",
    "\n",
    "# --- Series de Argentina ---\n",
    "# Dif. log EMAE (Act. Económica) Arg\n",
    "dl_emae <- calcular_diff_log(ts_emae)\n",
    "# Dif. log IPC (Precios) Arg\n",
    "dl_ipc_arg <- calcular_diff_log(ts_ipc_arg)\n",
    "# Dif. log M2 (Agregado Monetario) Arg\n",
    "dl_m2_arg <- calcular_diff_log(ts_m2_arg)\n",
    "# Dif. log TASA (Interés) Arg\n",
    "dl_tasa_arg <- calcular_diff_log(ts_tasa_arg)\n",
    "\n",
    "# --- Series de Chile ---\n",
    "# Dif. log IMACEC (Act. Económica) Chi\n",
    "dl_imacec <- calcular_diff_log(ts_imacec)\n",
    "# Dif. log IPC (Precios) Chi\n",
    "dl_ipc_chi <- calcular_diff_log(ts_ipc_chi)\n",
    "# Dif. log M2 (Agregado Monetario) Chi\n",
    "dl_m2_chi <- calcular_diff_log(ts_m2_chi)\n",
    "# Dif. log TASA (Interés) Chi\n",
    "dl_tasa_chi <- calcular_diff_log(ts_tasa_chi)\n",
    "\n",
    "# Definir ventanas de entrenamiento para cada serie diferenciada\n",
    "# Período de entrenamiento: hasta diciembre 2022\n",
    "\n",
    "# --- Ventanas de Entrenamiento - Argentina ---\n",
    "# EMAE Arg (entrenamiento)\n",
    "dl_emae_train <- window(dl_emae, end = c(2022, 12))\n",
    "# IPC Arg (entrenamiento)\n",
    "dl_ipc_arg_train <- window(dl_ipc_arg, end = c(2022, 12))\n",
    "# M2 Arg (entrenamiento)\n",
    "dl_m2_arg_train <- window(dl_m2_arg, end = c(2022, 12))\n",
    "# TASA Arg (entrenamiento)\n",
    "dl_tasa_arg_train <- window(dl_tasa_arg, end = c(2022, 12))\n",
    "\n",
    "# --- Ventanas de Entrenamiento - Chile ---\n",
    "# IMACEC Chi (entrenamiento)\n",
    "dl_imacec_train <- window(dl_imacec, end = c(2022, 12))\n",
    "# IPC Chi (entrenamiento)\n",
    "dl_ipc_chi_train <- window(dl_ipc_chi, end = c(2022, 12))\n",
    "# M2 Chi (entrenamiento)\n",
    "dl_m2_chi_train <- window(dl_m2_chi, end = c(2022, 12))\n",
    "# TASA Chi (entrenamiento)\n",
    "dl_tasa_chi_train <- window(dl_tasa_chi, end = c(2022, 12))\n"
   ]
  },
  {
   "cell_type": "markdown",
   "metadata": {},
   "source": [
    "# 3. Estimacion de modelos"
   ]
  },
  {
   "cell_type": "markdown",
   "metadata": {},
   "source": [
    "## Argentina"
   ]
  },
  {
   "cell_type": "markdown",
   "metadata": {},
   "source": [
    "### 3.1 Estimacion EMAE - Arg"
   ]
  },
  {
   "cell_type": "code",
   "execution_count": 129,
   "metadata": {
    "vscode": {
     "languageId": "r"
    }
   },
   "outputs": [
    {
     "data": {
      "text/plain": [
       "Series: dl_emae_train \n",
       "ARIMA(4,0,0)(0,1,1)[12] \n",
       "\n",
       "Coefficients:\n",
       "         ar1      ar2     ar3     ar4     sma1\n",
       "      0.1087  -0.1193  0.0291  0.0151  -0.9549\n",
       "s.e.  0.0681   0.0683  0.0684  0.0682   0.1140\n",
       "\n",
       "sigma^2 = 0.0003779:  log likelihood = 531.23\n",
       "AIC=-1050.45   AICc=-1050.05   BIC=-1030.23\n",
       "\n",
       "Training set error measures:\n",
       "                       ME       RMSE        MAE      MPE    MAPE     MASE\n",
       "Training set -0.001823165 0.01869647 0.01109177 97.38346 245.977 0.651687\n",
       "                    ACF1\n",
       "Training set -0.01225977"
      ]
     },
     "metadata": {},
     "output_type": "display_data"
    },
    {
     "data": {
      "text/html": [
       "<table class=\"dataframe\">\n",
       "<caption>A matrix: 26 × 3 of type chr</caption>\n",
       "<thead>\n",
       "\t<tr><th scope=col>lag</th><th scope=col>Estadistico Q</th><th scope=col>p-value</th></tr>\n",
       "</thead>\n",
       "<tbody>\n",
       "\t<tr><td>1 </td><td>0.0346 </td><td>NA    </td></tr>\n",
       "\t<tr><td>2 </td><td>0.061  </td><td>NA    </td></tr>\n",
       "\t<tr><td>3 </td><td>0.1154 </td><td>NA    </td></tr>\n",
       "\t<tr><td>4 </td><td>0.1463 </td><td>NA    </td></tr>\n",
       "\t<tr><td>5 </td><td>0.3813 </td><td>NA    </td></tr>\n",
       "\t<tr><td>6 </td><td>1.2043 </td><td>0.2725</td></tr>\n",
       "\t<tr><td>7 </td><td>2.1663 </td><td>0.3385</td></tr>\n",
       "\t<tr><td>8 </td><td>2.2652 </td><td>0.5192</td></tr>\n",
       "\t<tr><td>9 </td><td>5.9686 </td><td>0.2015</td></tr>\n",
       "\t<tr><td>10</td><td>6.6301 </td><td>0.2496</td></tr>\n",
       "\t<tr><td>11</td><td>9.0891 </td><td>0.1686</td></tr>\n",
       "\t<tr><td>12</td><td>9.485  </td><td>0.2197</td></tr>\n",
       "\t<tr><td>13</td><td>9.919  </td><td>0.2708</td></tr>\n",
       "\t<tr><td>14</td><td>10.0237</td><td>0.3486</td></tr>\n",
       "\t<tr><td>15</td><td>10.0605</td><td>0.4352</td></tr>\n",
       "\t<tr><td>16</td><td>10.2931</td><td>0.5042</td></tr>\n",
       "\t<tr><td>17</td><td>10.4991</td><td>0.5723</td></tr>\n",
       "\t<tr><td>18</td><td>10.5606</td><td>0.6476</td></tr>\n",
       "\t<tr><td>19</td><td>10.638 </td><td>0.7142</td></tr>\n",
       "\t<tr><td>20</td><td>14.2656</td><td>0.5055</td></tr>\n",
       "\t<tr><td>21</td><td>15.0308</td><td>0.5224</td></tr>\n",
       "\t<tr><td>22</td><td>15.052 </td><td>0.5917</td></tr>\n",
       "\t<tr><td>23</td><td>17.1968</td><td>0.5096</td></tr>\n",
       "\t<tr><td>24</td><td>20.1316</td><td>0.3867</td></tr>\n",
       "\t<tr><td>25</td><td>21.3206</td><td>0.3785</td></tr>\n",
       "\t<tr><td>26</td><td>21.3396</td><td>0.4384</td></tr>\n",
       "</tbody>\n",
       "</table>\n"
      ],
      "text/latex": [
       "A matrix: 26 × 3 of type chr\n",
       "\\begin{tabular}{lll}\n",
       " lag & Estadistico Q & p-value\\\\\n",
       "\\hline\n",
       "\t 1  & 0.0346  & NA    \\\\\n",
       "\t 2  & 0.061   & NA    \\\\\n",
       "\t 3  & 0.1154  & NA    \\\\\n",
       "\t 4  & 0.1463  & NA    \\\\\n",
       "\t 5  & 0.3813  & NA    \\\\\n",
       "\t 6  & 1.2043  & 0.2725\\\\\n",
       "\t 7  & 2.1663  & 0.3385\\\\\n",
       "\t 8  & 2.2652  & 0.5192\\\\\n",
       "\t 9  & 5.9686  & 0.2015\\\\\n",
       "\t 10 & 6.6301  & 0.2496\\\\\n",
       "\t 11 & 9.0891  & 0.1686\\\\\n",
       "\t 12 & 9.485   & 0.2197\\\\\n",
       "\t 13 & 9.919   & 0.2708\\\\\n",
       "\t 14 & 10.0237 & 0.3486\\\\\n",
       "\t 15 & 10.0605 & 0.4352\\\\\n",
       "\t 16 & 10.2931 & 0.5042\\\\\n",
       "\t 17 & 10.4991 & 0.5723\\\\\n",
       "\t 18 & 10.5606 & 0.6476\\\\\n",
       "\t 19 & 10.638  & 0.7142\\\\\n",
       "\t 20 & 14.2656 & 0.5055\\\\\n",
       "\t 21 & 15.0308 & 0.5224\\\\\n",
       "\t 22 & 15.052  & 0.5917\\\\\n",
       "\t 23 & 17.1968 & 0.5096\\\\\n",
       "\t 24 & 20.1316 & 0.3867\\\\\n",
       "\t 25 & 21.3206 & 0.3785\\\\\n",
       "\t 26 & 21.3396 & 0.4384\\\\\n",
       "\\end{tabular}\n"
      ],
      "text/markdown": [
       "\n",
       "A matrix: 26 × 3 of type chr\n",
       "\n",
       "| lag | Estadistico Q | p-value |\n",
       "|---|---|---|\n",
       "| 1  | 0.0346  | NA     |\n",
       "| 2  | 0.061   | NA     |\n",
       "| 3  | 0.1154  | NA     |\n",
       "| 4  | 0.1463  | NA     |\n",
       "| 5  | 0.3813  | NA     |\n",
       "| 6  | 1.2043  | 0.2725 |\n",
       "| 7  | 2.1663  | 0.3385 |\n",
       "| 8  | 2.2652  | 0.5192 |\n",
       "| 9  | 5.9686  | 0.2015 |\n",
       "| 10 | 6.6301  | 0.2496 |\n",
       "| 11 | 9.0891  | 0.1686 |\n",
       "| 12 | 9.485   | 0.2197 |\n",
       "| 13 | 9.919   | 0.2708 |\n",
       "| 14 | 10.0237 | 0.3486 |\n",
       "| 15 | 10.0605 | 0.4352 |\n",
       "| 16 | 10.2931 | 0.5042 |\n",
       "| 17 | 10.4991 | 0.5723 |\n",
       "| 18 | 10.5606 | 0.6476 |\n",
       "| 19 | 10.638  | 0.7142 |\n",
       "| 20 | 14.2656 | 0.5055 |\n",
       "| 21 | 15.0308 | 0.5224 |\n",
       "| 22 | 15.052  | 0.5917 |\n",
       "| 23 | 17.1968 | 0.5096 |\n",
       "| 24 | 20.1316 | 0.3867 |\n",
       "| 25 | 21.3206 | 0.3785 |\n",
       "| 26 | 21.3396 | 0.4384 |\n",
       "\n"
      ],
      "text/plain": [
       "      lag Estadistico Q p-value\n",
       " [1,] 1   0.0346        NA     \n",
       " [2,] 2   0.061         NA     \n",
       " [3,] 3   0.1154        NA     \n",
       " [4,] 4   0.1463        NA     \n",
       " [5,] 5   0.3813        NA     \n",
       " [6,] 6   1.2043        0.2725 \n",
       " [7,] 7   2.1663        0.3385 \n",
       " [8,] 8   2.2652        0.5192 \n",
       " [9,] 9   5.9686        0.2015 \n",
       "[10,] 10  6.6301        0.2496 \n",
       "[11,] 11  9.0891        0.1686 \n",
       "[12,] 12  9.485         0.2197 \n",
       "[13,] 13  9.919         0.2708 \n",
       "[14,] 14  10.0237       0.3486 \n",
       "[15,] 15  10.0605       0.4352 \n",
       "[16,] 16  10.2931       0.5042 \n",
       "[17,] 17  10.4991       0.5723 \n",
       "[18,] 18  10.5606       0.6476 \n",
       "[19,] 19  10.638        0.7142 \n",
       "[20,] 20  14.2656       0.5055 \n",
       "[21,] 21  15.0308       0.5224 \n",
       "[22,] 22  15.052        0.5917 \n",
       "[23,] 23  17.1968       0.5096 \n",
       "[24,] 24  20.1316       0.3867 \n",
       "[25,] 25  21.3206       0.3785 \n",
       "[26,] 26  21.3396       0.4384 "
      ]
     },
     "metadata": {},
     "output_type": "display_data"
    }
   ],
   "source": [
    "p_emae <- 4\n",
    "d_emae <- 0\n",
    "q_emae <- 0\n",
    "P_emae <- 0\n",
    "D_emae <- 1\n",
    "Q_emae <- 1\n",
    "\n",
    "model_emae_arg <- Arima( # Sobrescribe la variable original\n",
    "  dl_emae_train,\n",
    "  order = c(p_emae, d_emae, q_emae),\n",
    "  seasonal = list(order = c(P_emae, D_emae, Q_emae), period = 12),\n",
    "  method = \"ML\" # Usar Máxima Verosimilitud (o CSS-ML si ML falla)\n",
    ")\n",
    "\n",
    "summary(model_emae_arg)\n",
    "\n",
    "corr_res(\n",
    "  model_emae_arg,\n",
    "  lags = 26,\n",
    "  p_q = p_emae + q_emae + P_emae + Q_emae\n",
    ")\n"
   ]
  },
  {
   "cell_type": "markdown",
   "metadata": {},
   "source": [
    "### 3.2 Estimacion IPC - Arg"
   ]
  },
  {
   "cell_type": "code",
   "execution_count": 130,
   "metadata": {
    "vscode": {
     "languageId": "r"
    }
   },
   "outputs": [
    {
     "data": {
      "text/plain": [
       "Series: dl_ipc_arg_train \n",
       "ARIMA(3,0,0)(0,1,1)[12] \n",
       "\n",
       "Coefficients:\n",
       "         ar1     ar2     ar3     sma1\n",
       "      0.3718  0.2894  0.1128  -0.8476\n",
       "s.e.  0.0683  0.0717  0.0693   0.0610\n",
       "\n",
       "sigma^2 = 0.0001413:  log likelihood = 642.08\n",
       "AIC=-1274.17   AICc=-1273.88   BIC=-1257.32\n",
       "\n",
       "Training set error measures:\n",
       "                     ME       RMSE         MAE       MPE     MAPE      MASE\n",
       "Training set 0.00182997 0.01145982 0.008247476 -70.32671 114.9075 0.6116113\n",
       "                    ACF1\n",
       "Training set -0.03025047"
      ]
     },
     "metadata": {},
     "output_type": "display_data"
    },
    {
     "data": {
      "text/html": [
       "<table class=\"dataframe\">\n",
       "<caption>A matrix: 26 × 3 of type chr</caption>\n",
       "<thead>\n",
       "\t<tr><th scope=col>lag</th><th scope=col>Estadistico Q</th><th scope=col>p-value</th></tr>\n",
       "</thead>\n",
       "<tbody>\n",
       "\t<tr><td>1 </td><td>0.2105 </td><td>NA    </td></tr>\n",
       "\t<tr><td>2 </td><td>0.4043 </td><td>NA    </td></tr>\n",
       "\t<tr><td>3 </td><td>0.5278 </td><td>NA    </td></tr>\n",
       "\t<tr><td>4 </td><td>0.8899 </td><td>NA    </td></tr>\n",
       "\t<tr><td>5 </td><td>3.8074 </td><td>0.051 </td></tr>\n",
       "\t<tr><td>6 </td><td>3.8653 </td><td>0.1448</td></tr>\n",
       "\t<tr><td>7 </td><td>4.0211 </td><td>0.2592</td></tr>\n",
       "\t<tr><td>8 </td><td>6.6917 </td><td>0.1531</td></tr>\n",
       "\t<tr><td>9 </td><td>7.6487 </td><td>0.1767</td></tr>\n",
       "\t<tr><td>10</td><td>8.5062 </td><td>0.2033</td></tr>\n",
       "\t<tr><td>11</td><td>9.0164 </td><td>0.2515</td></tr>\n",
       "\t<tr><td>12</td><td>9.0623 </td><td>0.3371</td></tr>\n",
       "\t<tr><td>13</td><td>9.1018 </td><td>0.4279</td></tr>\n",
       "\t<tr><td>14</td><td>9.6927 </td><td>0.4679</td></tr>\n",
       "\t<tr><td>15</td><td>10.5029</td><td>0.4858</td></tr>\n",
       "\t<tr><td>16</td><td>12.0139</td><td>0.4446</td></tr>\n",
       "\t<tr><td>17</td><td>12.5574</td><td>0.4826</td></tr>\n",
       "\t<tr><td>18</td><td>14.5608</td><td>0.4088</td></tr>\n",
       "\t<tr><td>19</td><td>14.5612</td><td>0.4835</td></tr>\n",
       "\t<tr><td>20</td><td>14.5633</td><td>0.5568</td></tr>\n",
       "\t<tr><td>21</td><td>15.5747</td><td>0.5542</td></tr>\n",
       "\t<tr><td>22</td><td>16.6855</td><td>0.5448</td></tr>\n",
       "\t<tr><td>23</td><td>17.3014</td><td>0.5695</td></tr>\n",
       "\t<tr><td>24</td><td>25.0464</td><td>0.1997</td></tr>\n",
       "\t<tr><td>25</td><td>25.3031</td><td>0.2343</td></tr>\n",
       "\t<tr><td>26</td><td>25.3558</td><td>0.2804</td></tr>\n",
       "</tbody>\n",
       "</table>\n"
      ],
      "text/latex": [
       "A matrix: 26 × 3 of type chr\n",
       "\\begin{tabular}{lll}\n",
       " lag & Estadistico Q & p-value\\\\\n",
       "\\hline\n",
       "\t 1  & 0.2105  & NA    \\\\\n",
       "\t 2  & 0.4043  & NA    \\\\\n",
       "\t 3  & 0.5278  & NA    \\\\\n",
       "\t 4  & 0.8899  & NA    \\\\\n",
       "\t 5  & 3.8074  & 0.051 \\\\\n",
       "\t 6  & 3.8653  & 0.1448\\\\\n",
       "\t 7  & 4.0211  & 0.2592\\\\\n",
       "\t 8  & 6.6917  & 0.1531\\\\\n",
       "\t 9  & 7.6487  & 0.1767\\\\\n",
       "\t 10 & 8.5062  & 0.2033\\\\\n",
       "\t 11 & 9.0164  & 0.2515\\\\\n",
       "\t 12 & 9.0623  & 0.3371\\\\\n",
       "\t 13 & 9.1018  & 0.4279\\\\\n",
       "\t 14 & 9.6927  & 0.4679\\\\\n",
       "\t 15 & 10.5029 & 0.4858\\\\\n",
       "\t 16 & 12.0139 & 0.4446\\\\\n",
       "\t 17 & 12.5574 & 0.4826\\\\\n",
       "\t 18 & 14.5608 & 0.4088\\\\\n",
       "\t 19 & 14.5612 & 0.4835\\\\\n",
       "\t 20 & 14.5633 & 0.5568\\\\\n",
       "\t 21 & 15.5747 & 0.5542\\\\\n",
       "\t 22 & 16.6855 & 0.5448\\\\\n",
       "\t 23 & 17.3014 & 0.5695\\\\\n",
       "\t 24 & 25.0464 & 0.1997\\\\\n",
       "\t 25 & 25.3031 & 0.2343\\\\\n",
       "\t 26 & 25.3558 & 0.2804\\\\\n",
       "\\end{tabular}\n"
      ],
      "text/markdown": [
       "\n",
       "A matrix: 26 × 3 of type chr\n",
       "\n",
       "| lag | Estadistico Q | p-value |\n",
       "|---|---|---|\n",
       "| 1  | 0.2105  | NA     |\n",
       "| 2  | 0.4043  | NA     |\n",
       "| 3  | 0.5278  | NA     |\n",
       "| 4  | 0.8899  | NA     |\n",
       "| 5  | 3.8074  | 0.051  |\n",
       "| 6  | 3.8653  | 0.1448 |\n",
       "| 7  | 4.0211  | 0.2592 |\n",
       "| 8  | 6.6917  | 0.1531 |\n",
       "| 9  | 7.6487  | 0.1767 |\n",
       "| 10 | 8.5062  | 0.2033 |\n",
       "| 11 | 9.0164  | 0.2515 |\n",
       "| 12 | 9.0623  | 0.3371 |\n",
       "| 13 | 9.1018  | 0.4279 |\n",
       "| 14 | 9.6927  | 0.4679 |\n",
       "| 15 | 10.5029 | 0.4858 |\n",
       "| 16 | 12.0139 | 0.4446 |\n",
       "| 17 | 12.5574 | 0.4826 |\n",
       "| 18 | 14.5608 | 0.4088 |\n",
       "| 19 | 14.5612 | 0.4835 |\n",
       "| 20 | 14.5633 | 0.5568 |\n",
       "| 21 | 15.5747 | 0.5542 |\n",
       "| 22 | 16.6855 | 0.5448 |\n",
       "| 23 | 17.3014 | 0.5695 |\n",
       "| 24 | 25.0464 | 0.1997 |\n",
       "| 25 | 25.3031 | 0.2343 |\n",
       "| 26 | 25.3558 | 0.2804 |\n",
       "\n"
      ],
      "text/plain": [
       "      lag Estadistico Q p-value\n",
       " [1,] 1   0.2105        NA     \n",
       " [2,] 2   0.4043        NA     \n",
       " [3,] 3   0.5278        NA     \n",
       " [4,] 4   0.8899        NA     \n",
       " [5,] 5   3.8074        0.051  \n",
       " [6,] 6   3.8653        0.1448 \n",
       " [7,] 7   4.0211        0.2592 \n",
       " [8,] 8   6.6917        0.1531 \n",
       " [9,] 9   7.6487        0.1767 \n",
       "[10,] 10  8.5062        0.2033 \n",
       "[11,] 11  9.0164        0.2515 \n",
       "[12,] 12  9.0623        0.3371 \n",
       "[13,] 13  9.1018        0.4279 \n",
       "[14,] 14  9.6927        0.4679 \n",
       "[15,] 15  10.5029       0.4858 \n",
       "[16,] 16  12.0139       0.4446 \n",
       "[17,] 17  12.5574       0.4826 \n",
       "[18,] 18  14.5608       0.4088 \n",
       "[19,] 19  14.5612       0.4835 \n",
       "[20,] 20  14.5633       0.5568 \n",
       "[21,] 21  15.5747       0.5542 \n",
       "[22,] 22  16.6855       0.5448 \n",
       "[23,] 23  17.3014       0.5695 \n",
       "[24,] 24  25.0464       0.1997 \n",
       "[25,] 25  25.3031       0.2343 \n",
       "[26,] 26  25.3558       0.2804 "
      ]
     },
     "metadata": {},
     "output_type": "display_data"
    }
   ],
   "source": [
    "# Volviendo al modelo básico pero con mayor complejidad AR\n",
    "p_ipc <- 3\n",
    "d_ipc <- 0\n",
    "q_ipc <- 0\n",
    "P_ipc <- 0\n",
    "D_ipc <- 1\n",
    "Q_ipc <- 1\n",
    "\n",
    "model_ipc_arg <- Arima(\n",
    "  dl_ipc_arg_train,\n",
    "  order = c(p_ipc, d_ipc, q_ipc),\n",
    "  seasonal = list(order = c(P_ipc, D_ipc, Q_ipc), period = 12),\n",
    "  method = \"ML\"\n",
    ")\n",
    "\n",
    "summary(model_ipc_arg)\n",
    "corr_res(model_ipc_arg,\n",
    "  lags = 26,\n",
    "  p_q = p_ipc + q_ipc + P_ipc + Q_ipc\n",
    ")\n"
   ]
  },
  {
   "cell_type": "markdown",
   "metadata": {},
   "source": [
    "### 3.3 Estimacion Agregado Monetario M2 - Arg"
   ]
  },
  {
   "cell_type": "code",
   "execution_count": 131,
   "metadata": {
    "vscode": {
     "languageId": "r"
    }
   },
   "outputs": [
    {
     "data": {
      "text/plain": [
       "Series: dl_m2_arg_train \n",
       "ARIMA(1,0,4)(0,1,1)[12] \n",
       "\n",
       "Coefficients:\n",
       "          ar1     ma1     ma2     ma3     ma4     sma1\n",
       "      -0.6257  0.5542  0.0122  0.2789  0.3190  -0.7056\n",
       "s.e.   0.2159  0.2109  0.0775  0.0714  0.0665   0.0814\n",
       "\n",
       "sigma^2 = 0.0007509:  log likelihood = 466.94\n",
       "AIC=-919.89   AICc=-919.35   BIC=-896.29\n",
       "\n",
       "Training set error measures:\n",
       "                      ME       RMSE        MAE      MPE     MAPE      MASE\n",
       "Training set 0.002100576 0.02629295 0.01895284 12.85338 117.0499 0.7867427\n",
       "                     ACF1\n",
       "Training set -0.003363185"
      ]
     },
     "metadata": {},
     "output_type": "display_data"
    },
    {
     "data": {
      "text/html": [
       "<table class=\"dataframe\">\n",
       "<caption>A matrix: 26 × 3 of type chr</caption>\n",
       "<thead>\n",
       "\t<tr><th scope=col>lag</th><th scope=col>Estadistico Q</th><th scope=col>p-value</th></tr>\n",
       "</thead>\n",
       "<tbody>\n",
       "\t<tr><td>1 </td><td>0.0026 </td><td>NA    </td></tr>\n",
       "\t<tr><td>2 </td><td>0.0104 </td><td>NA    </td></tr>\n",
       "\t<tr><td>3 </td><td>0.0592 </td><td>NA    </td></tr>\n",
       "\t<tr><td>4 </td><td>0.0604 </td><td>NA    </td></tr>\n",
       "\t<tr><td>5 </td><td>0.1509 </td><td>NA    </td></tr>\n",
       "\t<tr><td>6 </td><td>0.3754 </td><td>NA    </td></tr>\n",
       "\t<tr><td>7 </td><td>1.1366 </td><td>0.2864</td></tr>\n",
       "\t<tr><td>8 </td><td>1.2256 </td><td>0.5418</td></tr>\n",
       "\t<tr><td>9 </td><td>1.4537 </td><td>0.693 </td></tr>\n",
       "\t<tr><td>10</td><td>4.5406 </td><td>0.3378</td></tr>\n",
       "\t<tr><td>11</td><td>4.5867 </td><td>0.4684</td></tr>\n",
       "\t<tr><td>12</td><td>5.3111 </td><td>0.5046</td></tr>\n",
       "\t<tr><td>13</td><td>5.3538 </td><td>0.6169</td></tr>\n",
       "\t<tr><td>14</td><td>6.4138 </td><td>0.601 </td></tr>\n",
       "\t<tr><td>15</td><td>6.697  </td><td>0.6686</td></tr>\n",
       "\t<tr><td>16</td><td>13.925 </td><td>0.1764</td></tr>\n",
       "\t<tr><td>17</td><td>14.2938</td><td>0.2172</td></tr>\n",
       "\t<tr><td>18</td><td>14.6027</td><td>0.2639</td></tr>\n",
       "\t<tr><td>19</td><td>16.8855</td><td>0.2046</td></tr>\n",
       "\t<tr><td>20</td><td>18.1856</td><td>0.1985</td></tr>\n",
       "\t<tr><td>21</td><td>20.3752</td><td>0.158 </td></tr>\n",
       "\t<tr><td>22</td><td>20.4368</td><td>0.2012</td></tr>\n",
       "\t<tr><td>23</td><td>20.9888</td><td>0.2268</td></tr>\n",
       "\t<tr><td>24</td><td>21.0212</td><td>0.2783</td></tr>\n",
       "\t<tr><td>25</td><td>21.0229</td><td>0.3355</td></tr>\n",
       "\t<tr><td>26</td><td>22.0234</td><td>0.3392</td></tr>\n",
       "</tbody>\n",
       "</table>\n"
      ],
      "text/latex": [
       "A matrix: 26 × 3 of type chr\n",
       "\\begin{tabular}{lll}\n",
       " lag & Estadistico Q & p-value\\\\\n",
       "\\hline\n",
       "\t 1  & 0.0026  & NA    \\\\\n",
       "\t 2  & 0.0104  & NA    \\\\\n",
       "\t 3  & 0.0592  & NA    \\\\\n",
       "\t 4  & 0.0604  & NA    \\\\\n",
       "\t 5  & 0.1509  & NA    \\\\\n",
       "\t 6  & 0.3754  & NA    \\\\\n",
       "\t 7  & 1.1366  & 0.2864\\\\\n",
       "\t 8  & 1.2256  & 0.5418\\\\\n",
       "\t 9  & 1.4537  & 0.693 \\\\\n",
       "\t 10 & 4.5406  & 0.3378\\\\\n",
       "\t 11 & 4.5867  & 0.4684\\\\\n",
       "\t 12 & 5.3111  & 0.5046\\\\\n",
       "\t 13 & 5.3538  & 0.6169\\\\\n",
       "\t 14 & 6.4138  & 0.601 \\\\\n",
       "\t 15 & 6.697   & 0.6686\\\\\n",
       "\t 16 & 13.925  & 0.1764\\\\\n",
       "\t 17 & 14.2938 & 0.2172\\\\\n",
       "\t 18 & 14.6027 & 0.2639\\\\\n",
       "\t 19 & 16.8855 & 0.2046\\\\\n",
       "\t 20 & 18.1856 & 0.1985\\\\\n",
       "\t 21 & 20.3752 & 0.158 \\\\\n",
       "\t 22 & 20.4368 & 0.2012\\\\\n",
       "\t 23 & 20.9888 & 0.2268\\\\\n",
       "\t 24 & 21.0212 & 0.2783\\\\\n",
       "\t 25 & 21.0229 & 0.3355\\\\\n",
       "\t 26 & 22.0234 & 0.3392\\\\\n",
       "\\end{tabular}\n"
      ],
      "text/markdown": [
       "\n",
       "A matrix: 26 × 3 of type chr\n",
       "\n",
       "| lag | Estadistico Q | p-value |\n",
       "|---|---|---|\n",
       "| 1  | 0.0026  | NA     |\n",
       "| 2  | 0.0104  | NA     |\n",
       "| 3  | 0.0592  | NA     |\n",
       "| 4  | 0.0604  | NA     |\n",
       "| 5  | 0.1509  | NA     |\n",
       "| 6  | 0.3754  | NA     |\n",
       "| 7  | 1.1366  | 0.2864 |\n",
       "| 8  | 1.2256  | 0.5418 |\n",
       "| 9  | 1.4537  | 0.693  |\n",
       "| 10 | 4.5406  | 0.3378 |\n",
       "| 11 | 4.5867  | 0.4684 |\n",
       "| 12 | 5.3111  | 0.5046 |\n",
       "| 13 | 5.3538  | 0.6169 |\n",
       "| 14 | 6.4138  | 0.601  |\n",
       "| 15 | 6.697   | 0.6686 |\n",
       "| 16 | 13.925  | 0.1764 |\n",
       "| 17 | 14.2938 | 0.2172 |\n",
       "| 18 | 14.6027 | 0.2639 |\n",
       "| 19 | 16.8855 | 0.2046 |\n",
       "| 20 | 18.1856 | 0.1985 |\n",
       "| 21 | 20.3752 | 0.158  |\n",
       "| 22 | 20.4368 | 0.2012 |\n",
       "| 23 | 20.9888 | 0.2268 |\n",
       "| 24 | 21.0212 | 0.2783 |\n",
       "| 25 | 21.0229 | 0.3355 |\n",
       "| 26 | 22.0234 | 0.3392 |\n",
       "\n"
      ],
      "text/plain": [
       "      lag Estadistico Q p-value\n",
       " [1,] 1   0.0026        NA     \n",
       " [2,] 2   0.0104        NA     \n",
       " [3,] 3   0.0592        NA     \n",
       " [4,] 4   0.0604        NA     \n",
       " [5,] 5   0.1509        NA     \n",
       " [6,] 6   0.3754        NA     \n",
       " [7,] 7   1.1366        0.2864 \n",
       " [8,] 8   1.2256        0.5418 \n",
       " [9,] 9   1.4537        0.693  \n",
       "[10,] 10  4.5406        0.3378 \n",
       "[11,] 11  4.5867        0.4684 \n",
       "[12,] 12  5.3111        0.5046 \n",
       "[13,] 13  5.3538        0.6169 \n",
       "[14,] 14  6.4138        0.601  \n",
       "[15,] 15  6.697         0.6686 \n",
       "[16,] 16  13.925        0.1764 \n",
       "[17,] 17  14.2938       0.2172 \n",
       "[18,] 18  14.6027       0.2639 \n",
       "[19,] 19  16.8855       0.2046 \n",
       "[20,] 20  18.1856       0.1985 \n",
       "[21,] 21  20.3752       0.158  \n",
       "[22,] 22  20.4368       0.2012 \n",
       "[23,] 23  20.9888       0.2268 \n",
       "[24,] 24  21.0212       0.2783 \n",
       "[25,] 25  21.0229       0.3355 \n",
       "[26,] 26  22.0234       0.3392 "
      ]
     },
     "metadata": {},
     "output_type": "display_data"
    }
   ],
   "source": [
    "model_m2_arg <- Arima(\n",
    "  dl_m2_arg_train,\n",
    "  order    = c(1, 0, 4), # MA(4) añadido\n",
    "  seasonal = list(order = c(0, 1, 1), period = 12),\n",
    "  method   = \"ML\",\n",
    ")\n",
    "\n",
    "summary(model_m2_arg)\n",
    "\n",
    "# Diagnóstico residuos\n",
    "corr_res(model_m2_arg,\n",
    "  lags = 26,\n",
    "  p_q  = 1 + 4 + 0 + 1\n",
    ") # 1 AR + 4 MA + 1 SMA\n"
   ]
  },
  {
   "cell_type": "markdown",
   "metadata": {},
   "source": [
    "### 3.4 Estimacion Tasa de interes - Arg"
   ]
  },
  {
   "cell_type": "code",
   "execution_count": 132,
   "metadata": {
    "vscode": {
     "languageId": "r"
    }
   },
   "outputs": [
    {
     "data": {
      "text/plain": [
       "Series: dl_tasa_arg_train \n",
       "ARIMA(4,0,0)(0,1,1)[12] \n",
       "\n",
       "Coefficients:\n",
       "         ar1      ar2     ar3     ar4    sma1\n",
       "      0.5637  -0.2021  0.0070  0.0732  -1.000\n",
       "s.e.  0.0681   0.0781  0.0781  0.0682   0.094\n",
       "\n",
       "sigma^2 = 0.002731:  log likelihood = 314.22\n",
       "AIC=-616.43   AICc=-616.03   BIC=-596.21\n",
       "\n",
       "Training set error measures:\n",
       "                      ME       RMSE        MAE MPE MAPE      MASE         ACF1\n",
       "Training set 0.001583406 0.05026569 0.03361232 NaN  Inf 0.5223795 -0.005378132"
      ]
     },
     "metadata": {},
     "output_type": "display_data"
    },
    {
     "data": {
      "text/html": [
       "<table class=\"dataframe\">\n",
       "<caption>A matrix: 26 × 3 of type chr</caption>\n",
       "<thead>\n",
       "\t<tr><th scope=col>lag</th><th scope=col>Estadistico Q</th><th scope=col>p-value</th></tr>\n",
       "</thead>\n",
       "<tbody>\n",
       "\t<tr><td>1 </td><td>0.0067 </td><td>NA    </td></tr>\n",
       "\t<tr><td>2 </td><td>0.0067 </td><td>NA    </td></tr>\n",
       "\t<tr><td>3 </td><td>0.0852 </td><td>NA    </td></tr>\n",
       "\t<tr><td>4 </td><td>0.5813 </td><td>NA    </td></tr>\n",
       "\t<tr><td>5 </td><td>1.5438 </td><td>NA    </td></tr>\n",
       "\t<tr><td>6 </td><td>1.6629 </td><td>0.1972</td></tr>\n",
       "\t<tr><td>7 </td><td>4.3407 </td><td>0.1141</td></tr>\n",
       "\t<tr><td>8 </td><td>4.727  </td><td>0.1929</td></tr>\n",
       "\t<tr><td>9 </td><td>4.8562 </td><td>0.3024</td></tr>\n",
       "\t<tr><td>10</td><td>5.2552 </td><td>0.3855</td></tr>\n",
       "\t<tr><td>11</td><td>5.8239 </td><td>0.4432</td></tr>\n",
       "\t<tr><td>12</td><td>6.9065 </td><td>0.4387</td></tr>\n",
       "\t<tr><td>13</td><td>7.0852 </td><td>0.5275</td></tr>\n",
       "\t<tr><td>14</td><td>7.6963 </td><td>0.565 </td></tr>\n",
       "\t<tr><td>15</td><td>9.1374 </td><td>0.5191</td></tr>\n",
       "\t<tr><td>16</td><td>9.2831 </td><td>0.5958</td></tr>\n",
       "\t<tr><td>17</td><td>9.3288 </td><td>0.6746</td></tr>\n",
       "\t<tr><td>18</td><td>16.8167</td><td>0.2078</td></tr>\n",
       "\t<tr><td>19</td><td>16.9706</td><td>0.2578</td></tr>\n",
       "\t<tr><td>20</td><td>18.2691</td><td>0.2488</td></tr>\n",
       "\t<tr><td>21</td><td>19.195 </td><td>0.2587</td></tr>\n",
       "\t<tr><td>22</td><td>19.4157</td><td>0.3052</td></tr>\n",
       "\t<tr><td>23</td><td>23.8456</td><td>0.1602</td></tr>\n",
       "\t<tr><td>24</td><td>24.6894</td><td>0.171 </td></tr>\n",
       "\t<tr><td>25</td><td>24.9092</td><td>0.2049</td></tr>\n",
       "\t<tr><td>26</td><td>25.0228</td><td>0.2462</td></tr>\n",
       "</tbody>\n",
       "</table>\n"
      ],
      "text/latex": [
       "A matrix: 26 × 3 of type chr\n",
       "\\begin{tabular}{lll}\n",
       " lag & Estadistico Q & p-value\\\\\n",
       "\\hline\n",
       "\t 1  & 0.0067  & NA    \\\\\n",
       "\t 2  & 0.0067  & NA    \\\\\n",
       "\t 3  & 0.0852  & NA    \\\\\n",
       "\t 4  & 0.5813  & NA    \\\\\n",
       "\t 5  & 1.5438  & NA    \\\\\n",
       "\t 6  & 1.6629  & 0.1972\\\\\n",
       "\t 7  & 4.3407  & 0.1141\\\\\n",
       "\t 8  & 4.727   & 0.1929\\\\\n",
       "\t 9  & 4.8562  & 0.3024\\\\\n",
       "\t 10 & 5.2552  & 0.3855\\\\\n",
       "\t 11 & 5.8239  & 0.4432\\\\\n",
       "\t 12 & 6.9065  & 0.4387\\\\\n",
       "\t 13 & 7.0852  & 0.5275\\\\\n",
       "\t 14 & 7.6963  & 0.565 \\\\\n",
       "\t 15 & 9.1374  & 0.5191\\\\\n",
       "\t 16 & 9.2831  & 0.5958\\\\\n",
       "\t 17 & 9.3288  & 0.6746\\\\\n",
       "\t 18 & 16.8167 & 0.2078\\\\\n",
       "\t 19 & 16.9706 & 0.2578\\\\\n",
       "\t 20 & 18.2691 & 0.2488\\\\\n",
       "\t 21 & 19.195  & 0.2587\\\\\n",
       "\t 22 & 19.4157 & 0.3052\\\\\n",
       "\t 23 & 23.8456 & 0.1602\\\\\n",
       "\t 24 & 24.6894 & 0.171 \\\\\n",
       "\t 25 & 24.9092 & 0.2049\\\\\n",
       "\t 26 & 25.0228 & 0.2462\\\\\n",
       "\\end{tabular}\n"
      ],
      "text/markdown": [
       "\n",
       "A matrix: 26 × 3 of type chr\n",
       "\n",
       "| lag | Estadistico Q | p-value |\n",
       "|---|---|---|\n",
       "| 1  | 0.0067  | NA     |\n",
       "| 2  | 0.0067  | NA     |\n",
       "| 3  | 0.0852  | NA     |\n",
       "| 4  | 0.5813  | NA     |\n",
       "| 5  | 1.5438  | NA     |\n",
       "| 6  | 1.6629  | 0.1972 |\n",
       "| 7  | 4.3407  | 0.1141 |\n",
       "| 8  | 4.727   | 0.1929 |\n",
       "| 9  | 4.8562  | 0.3024 |\n",
       "| 10 | 5.2552  | 0.3855 |\n",
       "| 11 | 5.8239  | 0.4432 |\n",
       "| 12 | 6.9065  | 0.4387 |\n",
       "| 13 | 7.0852  | 0.5275 |\n",
       "| 14 | 7.6963  | 0.565  |\n",
       "| 15 | 9.1374  | 0.5191 |\n",
       "| 16 | 9.2831  | 0.5958 |\n",
       "| 17 | 9.3288  | 0.6746 |\n",
       "| 18 | 16.8167 | 0.2078 |\n",
       "| 19 | 16.9706 | 0.2578 |\n",
       "| 20 | 18.2691 | 0.2488 |\n",
       "| 21 | 19.195  | 0.2587 |\n",
       "| 22 | 19.4157 | 0.3052 |\n",
       "| 23 | 23.8456 | 0.1602 |\n",
       "| 24 | 24.6894 | 0.171  |\n",
       "| 25 | 24.9092 | 0.2049 |\n",
       "| 26 | 25.0228 | 0.2462 |\n",
       "\n"
      ],
      "text/plain": [
       "      lag Estadistico Q p-value\n",
       " [1,] 1   0.0067        NA     \n",
       " [2,] 2   0.0067        NA     \n",
       " [3,] 3   0.0852        NA     \n",
       " [4,] 4   0.5813        NA     \n",
       " [5,] 5   1.5438        NA     \n",
       " [6,] 6   1.6629        0.1972 \n",
       " [7,] 7   4.3407        0.1141 \n",
       " [8,] 8   4.727         0.1929 \n",
       " [9,] 9   4.8562        0.3024 \n",
       "[10,] 10  5.2552        0.3855 \n",
       "[11,] 11  5.8239        0.4432 \n",
       "[12,] 12  6.9065        0.4387 \n",
       "[13,] 13  7.0852        0.5275 \n",
       "[14,] 14  7.6963        0.565  \n",
       "[15,] 15  9.1374        0.5191 \n",
       "[16,] 16  9.2831        0.5958 \n",
       "[17,] 17  9.3288        0.6746 \n",
       "[18,] 18  16.8167       0.2078 \n",
       "[19,] 19  16.9706       0.2578 \n",
       "[20,] 20  18.2691       0.2488 \n",
       "[21,] 21  19.195        0.2587 \n",
       "[22,] 22  19.4157       0.3052 \n",
       "[23,] 23  23.8456       0.1602 \n",
       "[24,] 24  24.6894       0.171  \n",
       "[25,] 25  24.9092       0.2049 \n",
       "[26,] 26  25.0228       0.2462 "
      ]
     },
     "metadata": {},
     "output_type": "display_data"
    }
   ],
   "source": [
    "# Especificar órdenes del modelo IMACEC\n",
    "p_tasa <- 4\n",
    "d_tasa <- 0\n",
    "q_tasa <- 0\n",
    "P_tasa <- 0\n",
    "D_tasa <- 1\n",
    "Q_tasa <- 1\n",
    "\n",
    "\n",
    "model_tasa_arg <- Arima(\n",
    "  dl_tasa_arg_train,\n",
    "  order = c(p_tasa, d_tasa, q_tasa),\n",
    "  seasonal = list(order = c(P_tasa, D_tasa, Q_tasa), period = 12),\n",
    "  method = \"ML\" #\n",
    ")\n",
    "\n",
    "# Resumen del modelo TASA con estructura forzada\n",
    "summary(model_tasa_arg)\n",
    "\n",
    "corr_res(\n",
    "  model_tasa_arg,\n",
    "  lags = 26,\n",
    "  p_q = p_tasa + q_tasa + P_tasa + Q_tasa\n",
    ")\n"
   ]
  },
  {
   "cell_type": "markdown",
   "metadata": {},
   "source": [
    "## Chile"
   ]
  },
  {
   "cell_type": "markdown",
   "metadata": {},
   "source": [
    "### 3.5 Estimacion IMACEC - Chile"
   ]
  },
  {
   "cell_type": "code",
   "execution_count": 133,
   "metadata": {
    "vscode": {
     "languageId": "r"
    }
   },
   "outputs": [
    {
     "data": {
      "text/plain": [
       "Series: dl_imacec_train \n",
       "ARIMA(4,0,2)(0,1,1)[12] \n",
       "\n",
       "Coefficients:\n",
       "          ar1      ar2      ar3      ar4     ma1     ma2     sma1\n",
       "      -0.4197  -0.8794  -0.0076  -0.2577  0.4300  0.8152  -0.7246\n",
       "s.e.   0.1025   0.1012   0.0763   0.0710  0.0829  0.0808   0.0548\n",
       "\n",
       "sigma^2 = 0.0002896:  log likelihood = 569.88\n",
       "AIC=-1123.76   AICc=-1123.06   BIC=-1096.8\n",
       "\n",
       "Training set error measures:\n",
       "                        ME       RMSE        MAE       MPE     MAPE      MASE\n",
       "Training set -0.0007144392 0.01629115 0.01096072 -11.04126 58.97048 0.7717417\n",
       "                     ACF1\n",
       "Training set -0.005197869"
      ]
     },
     "metadata": {},
     "output_type": "display_data"
    },
    {
     "name": "stdout",
     "output_type": "stream",
     "text": [
      "Calculando p_q como: 7 (arma) + 0 (drift) = 7 \n"
     ]
    },
    {
     "data": {
      "text/html": [
       "<table class=\"dataframe\">\n",
       "<caption>A matrix: 35 × 3 of type chr</caption>\n",
       "<thead>\n",
       "\t<tr><th scope=col>lag</th><th scope=col>Estadistico Q</th><th scope=col>p-value</th></tr>\n",
       "</thead>\n",
       "<tbody>\n",
       "\t<tr><td>1 </td><td>0.0062 </td><td>NA    </td></tr>\n",
       "\t<tr><td>2 </td><td>0.027  </td><td>NA    </td></tr>\n",
       "\t<tr><td>3 </td><td>0.0734 </td><td>NA    </td></tr>\n",
       "\t<tr><td>4 </td><td>0.3094 </td><td>NA    </td></tr>\n",
       "\t<tr><td>5 </td><td>0.3115 </td><td>NA    </td></tr>\n",
       "\t<tr><td>6 </td><td>0.5671 </td><td>NA    </td></tr>\n",
       "\t<tr><td>7 </td><td>1.7542 </td><td>NA    </td></tr>\n",
       "\t<tr><td>8 </td><td>1.7653 </td><td>0.184 </td></tr>\n",
       "\t<tr><td>9 </td><td>2.1483 </td><td>0.3416</td></tr>\n",
       "\t<tr><td>10</td><td>2.3481 </td><td>0.5034</td></tr>\n",
       "\t<tr><td>11</td><td>2.8836 </td><td>0.5775</td></tr>\n",
       "\t<tr><td>12</td><td>3.5488 </td><td>0.616 </td></tr>\n",
       "\t<tr><td>13</td><td>7.138  </td><td>0.3083</td></tr>\n",
       "\t<tr><td>14</td><td>8.084  </td><td>0.3252</td></tr>\n",
       "\t<tr><td>15</td><td>8.1231 </td><td>0.4215</td></tr>\n",
       "\t<tr><td>16</td><td>8.1246 </td><td>0.5216</td></tr>\n",
       "\t<tr><td>17</td><td>11.01  </td><td>0.3567</td></tr>\n",
       "\t<tr><td>18</td><td>11.851 </td><td>0.3749</td></tr>\n",
       "\t<tr><td>19</td><td>12.3747</td><td>0.4161</td></tr>\n",
       "\t<tr><td>20</td><td>13.3143</td><td>0.4238</td></tr>\n",
       "\t<tr><td>21</td><td>14.826 </td><td>0.3902</td></tr>\n",
       "\t<tr><td>22</td><td>15.2004</td><td>0.4371</td></tr>\n",
       "\t<tr><td>23</td><td>15.3192</td><td>0.5014</td></tr>\n",
       "\t<tr><td>24</td><td>16.0066</td><td>0.5234</td></tr>\n",
       "\t<tr><td>25</td><td>21.1397</td><td>0.2724</td></tr>\n",
       "\t<tr><td>26</td><td>21.1397</td><td>0.3291</td></tr>\n",
       "\t<tr><td>27</td><td>21.4741</td><td>0.3697</td></tr>\n",
       "\t<tr><td>28</td><td>22.1111</td><td>0.3931</td></tr>\n",
       "\t<tr><td>29</td><td>24.6121</td><td>0.316 </td></tr>\n",
       "\t<tr><td>30</td><td>25.498 </td><td>0.3251</td></tr>\n",
       "\t<tr><td>31</td><td>25.5125</td><td>0.3784</td></tr>\n",
       "\t<tr><td>32</td><td>26.5181</td><td>0.3804</td></tr>\n",
       "\t<tr><td>33</td><td>27.4922</td><td>0.3839</td></tr>\n",
       "\t<tr><td>34</td><td>28.461 </td><td>0.3875</td></tr>\n",
       "\t<tr><td>35</td><td>29.6446</td><td>0.3804</td></tr>\n",
       "</tbody>\n",
       "</table>\n"
      ],
      "text/latex": [
       "A matrix: 35 × 3 of type chr\n",
       "\\begin{tabular}{lll}\n",
       " lag & Estadistico Q & p-value\\\\\n",
       "\\hline\n",
       "\t 1  & 0.0062  & NA    \\\\\n",
       "\t 2  & 0.027   & NA    \\\\\n",
       "\t 3  & 0.0734  & NA    \\\\\n",
       "\t 4  & 0.3094  & NA    \\\\\n",
       "\t 5  & 0.3115  & NA    \\\\\n",
       "\t 6  & 0.5671  & NA    \\\\\n",
       "\t 7  & 1.7542  & NA    \\\\\n",
       "\t 8  & 1.7653  & 0.184 \\\\\n",
       "\t 9  & 2.1483  & 0.3416\\\\\n",
       "\t 10 & 2.3481  & 0.5034\\\\\n",
       "\t 11 & 2.8836  & 0.5775\\\\\n",
       "\t 12 & 3.5488  & 0.616 \\\\\n",
       "\t 13 & 7.138   & 0.3083\\\\\n",
       "\t 14 & 8.084   & 0.3252\\\\\n",
       "\t 15 & 8.1231  & 0.4215\\\\\n",
       "\t 16 & 8.1246  & 0.5216\\\\\n",
       "\t 17 & 11.01   & 0.3567\\\\\n",
       "\t 18 & 11.851  & 0.3749\\\\\n",
       "\t 19 & 12.3747 & 0.4161\\\\\n",
       "\t 20 & 13.3143 & 0.4238\\\\\n",
       "\t 21 & 14.826  & 0.3902\\\\\n",
       "\t 22 & 15.2004 & 0.4371\\\\\n",
       "\t 23 & 15.3192 & 0.5014\\\\\n",
       "\t 24 & 16.0066 & 0.5234\\\\\n",
       "\t 25 & 21.1397 & 0.2724\\\\\n",
       "\t 26 & 21.1397 & 0.3291\\\\\n",
       "\t 27 & 21.4741 & 0.3697\\\\\n",
       "\t 28 & 22.1111 & 0.3931\\\\\n",
       "\t 29 & 24.6121 & 0.316 \\\\\n",
       "\t 30 & 25.498  & 0.3251\\\\\n",
       "\t 31 & 25.5125 & 0.3784\\\\\n",
       "\t 32 & 26.5181 & 0.3804\\\\\n",
       "\t 33 & 27.4922 & 0.3839\\\\\n",
       "\t 34 & 28.461  & 0.3875\\\\\n",
       "\t 35 & 29.6446 & 0.3804\\\\\n",
       "\\end{tabular}\n"
      ],
      "text/markdown": [
       "\n",
       "A matrix: 35 × 3 of type chr\n",
       "\n",
       "| lag | Estadistico Q | p-value |\n",
       "|---|---|---|\n",
       "| 1  | 0.0062  | NA     |\n",
       "| 2  | 0.027   | NA     |\n",
       "| 3  | 0.0734  | NA     |\n",
       "| 4  | 0.3094  | NA     |\n",
       "| 5  | 0.3115  | NA     |\n",
       "| 6  | 0.5671  | NA     |\n",
       "| 7  | 1.7542  | NA     |\n",
       "| 8  | 1.7653  | 0.184  |\n",
       "| 9  | 2.1483  | 0.3416 |\n",
       "| 10 | 2.3481  | 0.5034 |\n",
       "| 11 | 2.8836  | 0.5775 |\n",
       "| 12 | 3.5488  | 0.616  |\n",
       "| 13 | 7.138   | 0.3083 |\n",
       "| 14 | 8.084   | 0.3252 |\n",
       "| 15 | 8.1231  | 0.4215 |\n",
       "| 16 | 8.1246  | 0.5216 |\n",
       "| 17 | 11.01   | 0.3567 |\n",
       "| 18 | 11.851  | 0.3749 |\n",
       "| 19 | 12.3747 | 0.4161 |\n",
       "| 20 | 13.3143 | 0.4238 |\n",
       "| 21 | 14.826  | 0.3902 |\n",
       "| 22 | 15.2004 | 0.4371 |\n",
       "| 23 | 15.3192 | 0.5014 |\n",
       "| 24 | 16.0066 | 0.5234 |\n",
       "| 25 | 21.1397 | 0.2724 |\n",
       "| 26 | 21.1397 | 0.3291 |\n",
       "| 27 | 21.4741 | 0.3697 |\n",
       "| 28 | 22.1111 | 0.3931 |\n",
       "| 29 | 24.6121 | 0.316  |\n",
       "| 30 | 25.498  | 0.3251 |\n",
       "| 31 | 25.5125 | 0.3784 |\n",
       "| 32 | 26.5181 | 0.3804 |\n",
       "| 33 | 27.4922 | 0.3839 |\n",
       "| 34 | 28.461  | 0.3875 |\n",
       "| 35 | 29.6446 | 0.3804 |\n",
       "\n"
      ],
      "text/plain": [
       "      lag Estadistico Q p-value\n",
       " [1,] 1   0.0062        NA     \n",
       " [2,] 2   0.027         NA     \n",
       " [3,] 3   0.0734        NA     \n",
       " [4,] 4   0.3094        NA     \n",
       " [5,] 5   0.3115        NA     \n",
       " [6,] 6   0.5671        NA     \n",
       " [7,] 7   1.7542        NA     \n",
       " [8,] 8   1.7653        0.184  \n",
       " [9,] 9   2.1483        0.3416 \n",
       "[10,] 10  2.3481        0.5034 \n",
       "[11,] 11  2.8836        0.5775 \n",
       "[12,] 12  3.5488        0.616  \n",
       "[13,] 13  7.138         0.3083 \n",
       "[14,] 14  8.084         0.3252 \n",
       "[15,] 15  8.1231        0.4215 \n",
       "[16,] 16  8.1246        0.5216 \n",
       "[17,] 17  11.01         0.3567 \n",
       "[18,] 18  11.851        0.3749 \n",
       "[19,] 19  12.3747       0.4161 \n",
       "[20,] 20  13.3143       0.4238 \n",
       "[21,] 21  14.826        0.3902 \n",
       "[22,] 22  15.2004       0.4371 \n",
       "[23,] 23  15.3192       0.5014 \n",
       "[24,] 24  16.0066       0.5234 \n",
       "[25,] 25  21.1397       0.2724 \n",
       "[26,] 26  21.1397       0.3291 \n",
       "[27,] 27  21.4741       0.3697 \n",
       "[28,] 28  22.1111       0.3931 \n",
       "[29,] 29  24.6121       0.316  \n",
       "[30,] 30  25.498        0.3251 \n",
       "[31,] 31  25.5125       0.3784 \n",
       "[32,] 32  26.5181       0.3804 \n",
       "[33,] 33  27.4922       0.3839 \n",
       "[34,] 34  28.461        0.3875 \n",
       "[35,] 35  29.6446       0.3804 "
      ]
     },
     "metadata": {},
     "output_type": "display_data"
    }
   ],
   "source": [
    "model_imacec_chi <- Arima(\n",
    "  y = dl_imacec_train,\n",
    "  order = c(4, 0, 2),\n",
    "  seasonal = list(order = c(0, 1, 1), period = 12),\n",
    "  include.drift = FALSE,\n",
    "  include.mean = TRUE,\n",
    "  method = \"ML\"\n",
    ")\n",
    "\n",
    "# Resumen del modelo\n",
    "summary(model_imacec_chi)\n",
    "\n",
    "# Cálculo del número de parámetros para el test de Ljung-Box\n",
    "num_arma_params <- sum(model_imacec_chi$arma[c(1, 2, 3, 4)]) # p + q + P + Q\n",
    "drift_present <- as.integer(\"drift\" %in% names(model_imacec_chi$coef))\n",
    "grados_libertad_q <- num_arma_params + drift_present\n",
    "\n",
    "cat(\n",
    "  \"Calculando p_q como:\", num_arma_params, \"(arma) +\", drift_present, \"(drift) =\",\n",
    "  grados_libertad_q, \"\\n\"\n",
    ")\n",
    "\n",
    "# Diagnóstico de residuos\n",
    "corr_res(\n",
    "  xreg = model_imacec_chi,\n",
    "  lags = 35,\n",
    "  p_q  = grados_libertad_q\n",
    ")\n"
   ]
  },
  {
   "cell_type": "markdown",
   "metadata": {},
   "source": [
    "### 3.6 Estimacion IPC - Chile"
   ]
  },
  {
   "cell_type": "code",
   "execution_count": 134,
   "metadata": {
    "vscode": {
     "languageId": "r"
    }
   },
   "outputs": [
    {
     "data": {
      "text/plain": [
       "Series: dl_ipc_chi_train \n",
       "ARIMA(1,1,6)(1,0,1)[12] \n",
       "\n",
       "Coefficients:\n",
       "          ar1     ma1      ma2      ma3      ma4      ma5     ma6    sar1\n",
       "      -0.7618  0.2913  -0.6911  -0.1194  -0.0546  -0.2244  0.0701  0.9582\n",
       "s.e.   0.1197  0.1246   0.0854   0.0914   0.1016   0.0683  0.0921  0.0416\n",
       "         sma1\n",
       "      -0.8541\n",
       "s.e.   0.0833\n",
       "\n",
       "sigma^2 = 0.00001145:  log likelihood = 966.47\n",
       "AIC=-1912.95   AICc=-1911.92   BIC=-1878.74\n",
       "\n",
       "Training set error measures:\n",
       "                       ME        RMSE         MAE  MPE MAPE      MASE\n",
       "Training set 0.0001498883 0.003308231 0.002546371 -Inf  Inf 0.6731737\n",
       "                    ACF1\n",
       "Training set -0.01178935"
      ]
     },
     "metadata": {},
     "output_type": "display_data"
    },
    {
     "data": {
      "text/html": [
       "<table class=\"dataframe\">\n",
       "<caption>A matrix: 26 × 3 of type chr</caption>\n",
       "<thead>\n",
       "\t<tr><th scope=col>lag</th><th scope=col>Estadistico Q</th><th scope=col>p-value</th></tr>\n",
       "</thead>\n",
       "<tbody>\n",
       "\t<tr><td>1 </td><td>0.032  </td><td>NA    </td></tr>\n",
       "\t<tr><td>2 </td><td>0.0763 </td><td>NA    </td></tr>\n",
       "\t<tr><td>3 </td><td>0.1026 </td><td>NA    </td></tr>\n",
       "\t<tr><td>4 </td><td>0.1908 </td><td>NA    </td></tr>\n",
       "\t<tr><td>5 </td><td>1.6714 </td><td>0.1961</td></tr>\n",
       "\t<tr><td>6 </td><td>1.7964 </td><td>0.4073</td></tr>\n",
       "\t<tr><td>7 </td><td>2.618  </td><td>0.4544</td></tr>\n",
       "\t<tr><td>8 </td><td>3.3066 </td><td>0.5079</td></tr>\n",
       "\t<tr><td>9 </td><td>3.9353 </td><td>0.5588</td></tr>\n",
       "\t<tr><td>10</td><td>7.5232 </td><td>0.2752</td></tr>\n",
       "\t<tr><td>11</td><td>11.2959</td><td>0.1262</td></tr>\n",
       "\t<tr><td>12</td><td>11.4498</td><td>0.1775</td></tr>\n",
       "\t<tr><td>13</td><td>14.4831</td><td>0.1061</td></tr>\n",
       "\t<tr><td>14</td><td>15.1356</td><td>0.1272</td></tr>\n",
       "\t<tr><td>15</td><td>16.5285</td><td>0.1226</td></tr>\n",
       "\t<tr><td>16</td><td>16.7493</td><td>0.1593</td></tr>\n",
       "\t<tr><td>17</td><td>21.2974</td><td>0.0673</td></tr>\n",
       "\t<tr><td>18</td><td>23.6249</td><td>0.0508</td></tr>\n",
       "\t<tr><td>19</td><td>23.6536</td><td>0.0712</td></tr>\n",
       "\t<tr><td>20</td><td>24.9444</td><td>0.0708</td></tr>\n",
       "\t<tr><td>21</td><td>24.9536</td><td>0.0958</td></tr>\n",
       "\t<tr><td>22</td><td>25.061 </td><td>0.1232</td></tr>\n",
       "\t<tr><td>23</td><td>28.3543</td><td>0.0768</td></tr>\n",
       "\t<tr><td>24</td><td>28.4034</td><td>0.1002</td></tr>\n",
       "\t<tr><td>25</td><td>29.0276</td><td>0.1133</td></tr>\n",
       "\t<tr><td>26</td><td>33.9094</td><td>0.0502</td></tr>\n",
       "</tbody>\n",
       "</table>\n"
      ],
      "text/latex": [
       "A matrix: 26 × 3 of type chr\n",
       "\\begin{tabular}{lll}\n",
       " lag & Estadistico Q & p-value\\\\\n",
       "\\hline\n",
       "\t 1  & 0.032   & NA    \\\\\n",
       "\t 2  & 0.0763  & NA    \\\\\n",
       "\t 3  & 0.1026  & NA    \\\\\n",
       "\t 4  & 0.1908  & NA    \\\\\n",
       "\t 5  & 1.6714  & 0.1961\\\\\n",
       "\t 6  & 1.7964  & 0.4073\\\\\n",
       "\t 7  & 2.618   & 0.4544\\\\\n",
       "\t 8  & 3.3066  & 0.5079\\\\\n",
       "\t 9  & 3.9353  & 0.5588\\\\\n",
       "\t 10 & 7.5232  & 0.2752\\\\\n",
       "\t 11 & 11.2959 & 0.1262\\\\\n",
       "\t 12 & 11.4498 & 0.1775\\\\\n",
       "\t 13 & 14.4831 & 0.1061\\\\\n",
       "\t 14 & 15.1356 & 0.1272\\\\\n",
       "\t 15 & 16.5285 & 0.1226\\\\\n",
       "\t 16 & 16.7493 & 0.1593\\\\\n",
       "\t 17 & 21.2974 & 0.0673\\\\\n",
       "\t 18 & 23.6249 & 0.0508\\\\\n",
       "\t 19 & 23.6536 & 0.0712\\\\\n",
       "\t 20 & 24.9444 & 0.0708\\\\\n",
       "\t 21 & 24.9536 & 0.0958\\\\\n",
       "\t 22 & 25.061  & 0.1232\\\\\n",
       "\t 23 & 28.3543 & 0.0768\\\\\n",
       "\t 24 & 28.4034 & 0.1002\\\\\n",
       "\t 25 & 29.0276 & 0.1133\\\\\n",
       "\t 26 & 33.9094 & 0.0502\\\\\n",
       "\\end{tabular}\n"
      ],
      "text/markdown": [
       "\n",
       "A matrix: 26 × 3 of type chr\n",
       "\n",
       "| lag | Estadistico Q | p-value |\n",
       "|---|---|---|\n",
       "| 1  | 0.032   | NA     |\n",
       "| 2  | 0.0763  | NA     |\n",
       "| 3  | 0.1026  | NA     |\n",
       "| 4  | 0.1908  | NA     |\n",
       "| 5  | 1.6714  | 0.1961 |\n",
       "| 6  | 1.7964  | 0.4073 |\n",
       "| 7  | 2.618   | 0.4544 |\n",
       "| 8  | 3.3066  | 0.5079 |\n",
       "| 9  | 3.9353  | 0.5588 |\n",
       "| 10 | 7.5232  | 0.2752 |\n",
       "| 11 | 11.2959 | 0.1262 |\n",
       "| 12 | 11.4498 | 0.1775 |\n",
       "| 13 | 14.4831 | 0.1061 |\n",
       "| 14 | 15.1356 | 0.1272 |\n",
       "| 15 | 16.5285 | 0.1226 |\n",
       "| 16 | 16.7493 | 0.1593 |\n",
       "| 17 | 21.2974 | 0.0673 |\n",
       "| 18 | 23.6249 | 0.0508 |\n",
       "| 19 | 23.6536 | 0.0712 |\n",
       "| 20 | 24.9444 | 0.0708 |\n",
       "| 21 | 24.9536 | 0.0958 |\n",
       "| 22 | 25.061  | 0.1232 |\n",
       "| 23 | 28.3543 | 0.0768 |\n",
       "| 24 | 28.4034 | 0.1002 |\n",
       "| 25 | 29.0276 | 0.1133 |\n",
       "| 26 | 33.9094 | 0.0502 |\n",
       "\n"
      ],
      "text/plain": [
       "      lag Estadistico Q p-value\n",
       " [1,] 1   0.032         NA     \n",
       " [2,] 2   0.0763        NA     \n",
       " [3,] 3   0.1026        NA     \n",
       " [4,] 4   0.1908        NA     \n",
       " [5,] 5   1.6714        0.1961 \n",
       " [6,] 6   1.7964        0.4073 \n",
       " [7,] 7   2.618         0.4544 \n",
       " [8,] 8   3.3066        0.5079 \n",
       " [9,] 9   3.9353        0.5588 \n",
       "[10,] 10  7.5232        0.2752 \n",
       "[11,] 11  11.2959       0.1262 \n",
       "[12,] 12  11.4498       0.1775 \n",
       "[13,] 13  14.4831       0.1061 \n",
       "[14,] 14  15.1356       0.1272 \n",
       "[15,] 15  16.5285       0.1226 \n",
       "[16,] 16  16.7493       0.1593 \n",
       "[17,] 17  21.2974       0.0673 \n",
       "[18,] 18  23.6249       0.0508 \n",
       "[19,] 19  23.6536       0.0712 \n",
       "[20,] 20  24.9444       0.0708 \n",
       "[21,] 21  24.9536       0.0958 \n",
       "[22,] 22  25.061        0.1232 \n",
       "[23,] 23  28.3543       0.0768 \n",
       "[24,] 24  28.4034       0.1002 \n",
       "[25,] 25  29.0276       0.1133 \n",
       "[26,] 26  33.9094       0.0502 "
      ]
     },
     "metadata": {},
     "output_type": "display_data"
    }
   ],
   "source": [
    "# IPC Chile: Mejora del modelo con enfoque mixto\n",
    "\n",
    "# TODO: probar desestacionalizacion x-12 con seasonal\n",
    "\n",
    "# 1. Ajuste manual del modelo considerando componente estacional explícito\n",
    "model_ipc_chi <- Arima(\n",
    "  dl_ipc_chi_train,\n",
    "  order = c(1, 1, 6),           # Simplificar componente ARMA\n",
    "  seasonal = list(order = c(1, 0, 1), period = 12),  # Agregar componente estacional\n",
    "  include.mean = TRUE,          # Mantener intercepto\n",
    "  method = \"ML\"\n",
    ")\n",
    "\n",
    "# 2. Resumen del modelo\n",
    "summary(model_ipc_chi)\n",
    "\n",
    "# 3. Verificar correlación en residuos\n",
    "p_q <- 1 + 1 + 1 + 1  # AR + MA + SAR + SMA\n",
    "corr_res(model_ipc_chi, lags = 26, p_q = p_q)"
   ]
  },
  {
   "cell_type": "markdown",
   "metadata": {},
   "source": [
    "### 3.7 Estimacion Agregado Monetario M2 - Chile"
   ]
  },
  {
   "cell_type": "code",
   "execution_count": 135,
   "metadata": {
    "vscode": {
     "languageId": "r"
    }
   },
   "outputs": [
    {
     "data": {
      "text/plain": [
       "Series: dl_m2_chi_train \n",
       "ARIMA(0,1,1)(2,0,0)[12] \n",
       "\n",
       "Coefficients:\n",
       "          ma1    sar1    sar2\n",
       "      -0.9815  0.2641  0.2601\n",
       "s.e.   0.0138  0.0652  0.0691\n",
       "\n",
       "sigma^2 = 0.0001661:  log likelihood = 661.44\n",
       "AIC=-1314.89   AICc=-1314.71   BIC=-1301.2\n",
       "\n",
       "Training set error measures:\n",
       "                        ME       RMSE         MAE       MPE     MAPE      MASE\n",
       "Training set -0.0008344935 0.01277276 0.009992993 -68.85854 285.2192 0.8076566\n",
       "                   ACF1\n",
       "Training set 0.04291844"
      ]
     },
     "metadata": {},
     "output_type": "display_data"
    },
    {
     "data": {
      "text/html": [
       "<table class=\"dataframe\">\n",
       "<caption>A matrix: 26 × 3 of type chr</caption>\n",
       "<thead>\n",
       "\t<tr><th scope=col>lag</th><th scope=col>Estadistico Q</th><th scope=col>p-value</th></tr>\n",
       "</thead>\n",
       "<tbody>\n",
       "\t<tr><td>1 </td><td>0.4237 </td><td>NA    </td></tr>\n",
       "\t<tr><td>2 </td><td>0.651  </td><td>NA    </td></tr>\n",
       "\t<tr><td>3 </td><td>1.6027 </td><td>NA    </td></tr>\n",
       "\t<tr><td>4 </td><td>2.0765 </td><td>0.1496</td></tr>\n",
       "\t<tr><td>5 </td><td>2.0919 </td><td>0.3514</td></tr>\n",
       "\t<tr><td>6 </td><td>2.5101 </td><td>0.4735</td></tr>\n",
       "\t<tr><td>7 </td><td>3.1918 </td><td>0.5263</td></tr>\n",
       "\t<tr><td>8 </td><td>4.095  </td><td>0.5358</td></tr>\n",
       "\t<tr><td>9 </td><td>9.4122 </td><td>0.1517</td></tr>\n",
       "\t<tr><td>10</td><td>10.1447</td><td>0.1805</td></tr>\n",
       "\t<tr><td>11</td><td>10.1448</td><td>0.255 </td></tr>\n",
       "\t<tr><td>12</td><td>10.4308</td><td>0.3167</td></tr>\n",
       "\t<tr><td>13</td><td>16.6046</td><td>0.0836</td></tr>\n",
       "\t<tr><td>14</td><td>16.8158</td><td>0.1134</td></tr>\n",
       "\t<tr><td>15</td><td>17.2533</td><td>0.1403</td></tr>\n",
       "\t<tr><td>16</td><td>18.4862</td><td>0.1399</td></tr>\n",
       "\t<tr><td>17</td><td>19.1478</td><td>0.1594</td></tr>\n",
       "\t<tr><td>18</td><td>19.4138</td><td>0.1956</td></tr>\n",
       "\t<tr><td>19</td><td>19.4591</td><td>0.2456</td></tr>\n",
       "\t<tr><td>20</td><td>20.7361</td><td>0.2383</td></tr>\n",
       "\t<tr><td>21</td><td>24.441 </td><td>0.1411</td></tr>\n",
       "\t<tr><td>22</td><td>26.477 </td><td>0.1174</td></tr>\n",
       "\t<tr><td>23</td><td>26.8191</td><td>0.1404</td></tr>\n",
       "\t<tr><td>24</td><td>28.9964</td><td>0.1141</td></tr>\n",
       "\t<tr><td>25</td><td>30.32  </td><td>0.1109</td></tr>\n",
       "\t<tr><td>26</td><td>30.7186</td><td>0.1299</td></tr>\n",
       "</tbody>\n",
       "</table>\n"
      ],
      "text/latex": [
       "A matrix: 26 × 3 of type chr\n",
       "\\begin{tabular}{lll}\n",
       " lag & Estadistico Q & p-value\\\\\n",
       "\\hline\n",
       "\t 1  & 0.4237  & NA    \\\\\n",
       "\t 2  & 0.651   & NA    \\\\\n",
       "\t 3  & 1.6027  & NA    \\\\\n",
       "\t 4  & 2.0765  & 0.1496\\\\\n",
       "\t 5  & 2.0919  & 0.3514\\\\\n",
       "\t 6  & 2.5101  & 0.4735\\\\\n",
       "\t 7  & 3.1918  & 0.5263\\\\\n",
       "\t 8  & 4.095   & 0.5358\\\\\n",
       "\t 9  & 9.4122  & 0.1517\\\\\n",
       "\t 10 & 10.1447 & 0.1805\\\\\n",
       "\t 11 & 10.1448 & 0.255 \\\\\n",
       "\t 12 & 10.4308 & 0.3167\\\\\n",
       "\t 13 & 16.6046 & 0.0836\\\\\n",
       "\t 14 & 16.8158 & 0.1134\\\\\n",
       "\t 15 & 17.2533 & 0.1403\\\\\n",
       "\t 16 & 18.4862 & 0.1399\\\\\n",
       "\t 17 & 19.1478 & 0.1594\\\\\n",
       "\t 18 & 19.4138 & 0.1956\\\\\n",
       "\t 19 & 19.4591 & 0.2456\\\\\n",
       "\t 20 & 20.7361 & 0.2383\\\\\n",
       "\t 21 & 24.441  & 0.1411\\\\\n",
       "\t 22 & 26.477  & 0.1174\\\\\n",
       "\t 23 & 26.8191 & 0.1404\\\\\n",
       "\t 24 & 28.9964 & 0.1141\\\\\n",
       "\t 25 & 30.32   & 0.1109\\\\\n",
       "\t 26 & 30.7186 & 0.1299\\\\\n",
       "\\end{tabular}\n"
      ],
      "text/markdown": [
       "\n",
       "A matrix: 26 × 3 of type chr\n",
       "\n",
       "| lag | Estadistico Q | p-value |\n",
       "|---|---|---|\n",
       "| 1  | 0.4237  | NA     |\n",
       "| 2  | 0.651   | NA     |\n",
       "| 3  | 1.6027  | NA     |\n",
       "| 4  | 2.0765  | 0.1496 |\n",
       "| 5  | 2.0919  | 0.3514 |\n",
       "| 6  | 2.5101  | 0.4735 |\n",
       "| 7  | 3.1918  | 0.5263 |\n",
       "| 8  | 4.095   | 0.5358 |\n",
       "| 9  | 9.4122  | 0.1517 |\n",
       "| 10 | 10.1447 | 0.1805 |\n",
       "| 11 | 10.1448 | 0.255  |\n",
       "| 12 | 10.4308 | 0.3167 |\n",
       "| 13 | 16.6046 | 0.0836 |\n",
       "| 14 | 16.8158 | 0.1134 |\n",
       "| 15 | 17.2533 | 0.1403 |\n",
       "| 16 | 18.4862 | 0.1399 |\n",
       "| 17 | 19.1478 | 0.1594 |\n",
       "| 18 | 19.4138 | 0.1956 |\n",
       "| 19 | 19.4591 | 0.2456 |\n",
       "| 20 | 20.7361 | 0.2383 |\n",
       "| 21 | 24.441  | 0.1411 |\n",
       "| 22 | 26.477  | 0.1174 |\n",
       "| 23 | 26.8191 | 0.1404 |\n",
       "| 24 | 28.9964 | 0.1141 |\n",
       "| 25 | 30.32   | 0.1109 |\n",
       "| 26 | 30.7186 | 0.1299 |\n",
       "\n"
      ],
      "text/plain": [
       "      lag Estadistico Q p-value\n",
       " [1,] 1   0.4237        NA     \n",
       " [2,] 2   0.651         NA     \n",
       " [3,] 3   1.6027        NA     \n",
       " [4,] 4   2.0765        0.1496 \n",
       " [5,] 5   2.0919        0.3514 \n",
       " [6,] 6   2.5101        0.4735 \n",
       " [7,] 7   3.1918        0.5263 \n",
       " [8,] 8   4.095         0.5358 \n",
       " [9,] 9   9.4122        0.1517 \n",
       "[10,] 10  10.1447       0.1805 \n",
       "[11,] 11  10.1448       0.255  \n",
       "[12,] 12  10.4308       0.3167 \n",
       "[13,] 13  16.6046       0.0836 \n",
       "[14,] 14  16.8158       0.1134 \n",
       "[15,] 15  17.2533       0.1403 \n",
       "[16,] 16  18.4862       0.1399 \n",
       "[17,] 17  19.1478       0.1594 \n",
       "[18,] 18  19.4138       0.1956 \n",
       "[19,] 19  19.4591       0.2456 \n",
       "[20,] 20  20.7361       0.2383 \n",
       "[21,] 21  24.441        0.1411 \n",
       "[22,] 22  26.477        0.1174 \n",
       "[23,] 23  26.8191       0.1404 \n",
       "[24,] 24  28.9964       0.1141 \n",
       "[25,] 25  30.32         0.1109 \n",
       "[26,] 26  30.7186       0.1299 "
      ]
     },
     "metadata": {},
     "output_type": "display_data"
    }
   ],
   "source": [
    "\n",
    "model_m2_chi <- auto.arima(\n",
    "  dl_m2_chi_train,\n",
    "  seasonal = TRUE, # Permitir búsqueda estacional (P, Q, D)\n",
    "  stepwise = TRUE, # Búsqueda por pasos (más rápida)\n",
    "  approximation = TRUE # Usar aproximaciones (más rápido)\n",
    ")\n",
    "\n",
    "summary(model_m2_chi)\n",
    "\n",
    "corr_res(\n",
    "  model_m2_chi,\n",
    "  lags = 26,\n",
    "  p_q = sum(model_m2_chi$arma[c(1, 2, 3, 4)])\n",
    ")"
   ]
  },
  {
   "cell_type": "markdown",
   "metadata": {},
   "source": [
    "### 3.8 Estimacion Tasa de interes - Chile"
   ]
  },
  {
   "cell_type": "code",
   "execution_count": 136,
   "metadata": {
    "vscode": {
     "languageId": "r"
    }
   },
   "outputs": [
    {
     "data": {
      "text/plain": [
       "Series: dl_tasa_chi_train \n",
       "ARIMA(4,0,0)(0,1,1)[12] \n",
       "\n",
       "Coefficients:\n",
       "         ar1     ar2     ar3     ar4     sma1\n",
       "      0.0504  0.1116  0.1778  0.0537  -0.9398\n",
       "s.e.  0.0680  0.0675  0.0676  0.0685   0.0953\n",
       "\n",
       "sigma^2 = 0.004304:  log likelihood = 270.79\n",
       "AIC=-529.58   AICc=-529.18   BIC=-509.36\n",
       "\n",
       "Training set error measures:\n",
       "                       ME     RMSE        MAE      MPE     MAPE      MASE\n",
       "Training set -0.001051868 0.063102 0.04341471 176.8415 381.1785 0.6787993\n",
       "                    ACF1\n",
       "Training set 0.001805859"
      ]
     },
     "metadata": {},
     "output_type": "display_data"
    },
    {
     "data": {
      "text/html": [
       "<table class=\"dataframe\">\n",
       "<caption>A matrix: 26 × 3 of type chr</caption>\n",
       "<thead>\n",
       "\t<tr><th scope=col>lag</th><th scope=col>Estadistico Q</th><th scope=col>p-value</th></tr>\n",
       "</thead>\n",
       "<tbody>\n",
       "\t<tr><td>1 </td><td>0.0008 </td><td>NA    </td></tr>\n",
       "\t<tr><td>2 </td><td>0.032  </td><td>NA    </td></tr>\n",
       "\t<tr><td>3 </td><td>0.0385 </td><td>NA    </td></tr>\n",
       "\t<tr><td>4 </td><td>0.0812 </td><td>NA    </td></tr>\n",
       "\t<tr><td>5 </td><td>2.2224 </td><td>NA    </td></tr>\n",
       "\t<tr><td>6 </td><td>2.2275 </td><td>0.1356</td></tr>\n",
       "\t<tr><td>7 </td><td>5.4423 </td><td>0.0658</td></tr>\n",
       "\t<tr><td>8 </td><td>6.3018 </td><td>0.0978</td></tr>\n",
       "\t<tr><td>9 </td><td>6.8525 </td><td>0.1439</td></tr>\n",
       "\t<tr><td>10</td><td>6.916  </td><td>0.227 </td></tr>\n",
       "\t<tr><td>11</td><td>7.2457 </td><td>0.2987</td></tr>\n",
       "\t<tr><td>12</td><td>7.2936 </td><td>0.399 </td></tr>\n",
       "\t<tr><td>13</td><td>7.4024 </td><td>0.4939</td></tr>\n",
       "\t<tr><td>14</td><td>7.6262 </td><td>0.5722</td></tr>\n",
       "\t<tr><td>15</td><td>7.7805 </td><td>0.6503</td></tr>\n",
       "\t<tr><td>16</td><td>8.5439 </td><td>0.6639</td></tr>\n",
       "\t<tr><td>17</td><td>12.3336</td><td>0.4193</td></tr>\n",
       "\t<tr><td>18</td><td>13.1582</td><td>0.4357</td></tr>\n",
       "\t<tr><td>19</td><td>13.3495</td><td>0.4992</td></tr>\n",
       "\t<tr><td>20</td><td>13.3495</td><td>0.5753</td></tr>\n",
       "\t<tr><td>21</td><td>14.1432</td><td>0.588 </td></tr>\n",
       "\t<tr><td>22</td><td>15.3135</td><td>0.5729</td></tr>\n",
       "\t<tr><td>23</td><td>15.3821</td><td>0.6356</td></tr>\n",
       "\t<tr><td>24</td><td>15.5182</td><td>0.6891</td></tr>\n",
       "\t<tr><td>25</td><td>15.6845</td><td>0.736 </td></tr>\n",
       "\t<tr><td>26</td><td>15.7256</td><td>0.7849</td></tr>\n",
       "</tbody>\n",
       "</table>\n"
      ],
      "text/latex": [
       "A matrix: 26 × 3 of type chr\n",
       "\\begin{tabular}{lll}\n",
       " lag & Estadistico Q & p-value\\\\\n",
       "\\hline\n",
       "\t 1  & 0.0008  & NA    \\\\\n",
       "\t 2  & 0.032   & NA    \\\\\n",
       "\t 3  & 0.0385  & NA    \\\\\n",
       "\t 4  & 0.0812  & NA    \\\\\n",
       "\t 5  & 2.2224  & NA    \\\\\n",
       "\t 6  & 2.2275  & 0.1356\\\\\n",
       "\t 7  & 5.4423  & 0.0658\\\\\n",
       "\t 8  & 6.3018  & 0.0978\\\\\n",
       "\t 9  & 6.8525  & 0.1439\\\\\n",
       "\t 10 & 6.916   & 0.227 \\\\\n",
       "\t 11 & 7.2457  & 0.2987\\\\\n",
       "\t 12 & 7.2936  & 0.399 \\\\\n",
       "\t 13 & 7.4024  & 0.4939\\\\\n",
       "\t 14 & 7.6262  & 0.5722\\\\\n",
       "\t 15 & 7.7805  & 0.6503\\\\\n",
       "\t 16 & 8.5439  & 0.6639\\\\\n",
       "\t 17 & 12.3336 & 0.4193\\\\\n",
       "\t 18 & 13.1582 & 0.4357\\\\\n",
       "\t 19 & 13.3495 & 0.4992\\\\\n",
       "\t 20 & 13.3495 & 0.5753\\\\\n",
       "\t 21 & 14.1432 & 0.588 \\\\\n",
       "\t 22 & 15.3135 & 0.5729\\\\\n",
       "\t 23 & 15.3821 & 0.6356\\\\\n",
       "\t 24 & 15.5182 & 0.6891\\\\\n",
       "\t 25 & 15.6845 & 0.736 \\\\\n",
       "\t 26 & 15.7256 & 0.7849\\\\\n",
       "\\end{tabular}\n"
      ],
      "text/markdown": [
       "\n",
       "A matrix: 26 × 3 of type chr\n",
       "\n",
       "| lag | Estadistico Q | p-value |\n",
       "|---|---|---|\n",
       "| 1  | 0.0008  | NA     |\n",
       "| 2  | 0.032   | NA     |\n",
       "| 3  | 0.0385  | NA     |\n",
       "| 4  | 0.0812  | NA     |\n",
       "| 5  | 2.2224  | NA     |\n",
       "| 6  | 2.2275  | 0.1356 |\n",
       "| 7  | 5.4423  | 0.0658 |\n",
       "| 8  | 6.3018  | 0.0978 |\n",
       "| 9  | 6.8525  | 0.1439 |\n",
       "| 10 | 6.916   | 0.227  |\n",
       "| 11 | 7.2457  | 0.2987 |\n",
       "| 12 | 7.2936  | 0.399  |\n",
       "| 13 | 7.4024  | 0.4939 |\n",
       "| 14 | 7.6262  | 0.5722 |\n",
       "| 15 | 7.7805  | 0.6503 |\n",
       "| 16 | 8.5439  | 0.6639 |\n",
       "| 17 | 12.3336 | 0.4193 |\n",
       "| 18 | 13.1582 | 0.4357 |\n",
       "| 19 | 13.3495 | 0.4992 |\n",
       "| 20 | 13.3495 | 0.5753 |\n",
       "| 21 | 14.1432 | 0.588  |\n",
       "| 22 | 15.3135 | 0.5729 |\n",
       "| 23 | 15.3821 | 0.6356 |\n",
       "| 24 | 15.5182 | 0.6891 |\n",
       "| 25 | 15.6845 | 0.736  |\n",
       "| 26 | 15.7256 | 0.7849 |\n",
       "\n"
      ],
      "text/plain": [
       "      lag Estadistico Q p-value\n",
       " [1,] 1   0.0008        NA     \n",
       " [2,] 2   0.032         NA     \n",
       " [3,] 3   0.0385        NA     \n",
       " [4,] 4   0.0812        NA     \n",
       " [5,] 5   2.2224        NA     \n",
       " [6,] 6   2.2275        0.1356 \n",
       " [7,] 7   5.4423        0.0658 \n",
       " [8,] 8   6.3018        0.0978 \n",
       " [9,] 9   6.8525        0.1439 \n",
       "[10,] 10  6.916         0.227  \n",
       "[11,] 11  7.2457        0.2987 \n",
       "[12,] 12  7.2936        0.399  \n",
       "[13,] 13  7.4024        0.4939 \n",
       "[14,] 14  7.6262        0.5722 \n",
       "[15,] 15  7.7805        0.6503 \n",
       "[16,] 16  8.5439        0.6639 \n",
       "[17,] 17  12.3336       0.4193 \n",
       "[18,] 18  13.1582       0.4357 \n",
       "[19,] 19  13.3495       0.4992 \n",
       "[20,] 20  13.3495       0.5753 \n",
       "[21,] 21  14.1432       0.588  \n",
       "[22,] 22  15.3135       0.5729 \n",
       "[23,] 23  15.3821       0.6356 \n",
       "[24,] 24  15.5182       0.6891 \n",
       "[25,] 25  15.6845       0.736  \n",
       "[26,] 26  15.7256       0.7849 "
      ]
     },
     "metadata": {},
     "output_type": "display_data"
    }
   ],
   "source": [
    "p_tasa_chi <- 4\n",
    "d_tasa_chi <- 0\n",
    "q_tasa_chi <- 0\n",
    "P_tasa_chi <- 0\n",
    "D_tasa_chi <- 1\n",
    "Q_tasa_chi <- 1\n",
    "\n",
    "model_tasa_chi <- Arima( # Sobrescribe la variable original\n",
    "  dl_tasa_chi_train,\n",
    "  order = c(p_tasa_chi, d_tasa_chi, q_tasa_chi),\n",
    "  seasonal = list(order = c(P_tasa_chi, D_tasa_chi, Q_tasa_chi), period = 12),\n",
    "  method = \"ML\" # Usar Máxima Verosimilitud (o CSS-ML si ML falla)\n",
    ")\n",
    "\n",
    "summary(model_tasa_chi)\n",
    "\n",
    "corr_res(\n",
    "  model_tasa_chi,\n",
    "  lags = 26,\n",
    "  p_q = p_tasa_chi + q_tasa_chi + P_tasa_chi + Q_tasa_chi\n",
    ")\n",
    "\n"
   ]
  },
  {
   "cell_type": "markdown",
   "metadata": {},
   "source": [
    "# 4 Pronosticos de Diferencias Logaritmicas"
   ]
  },
  {
   "cell_type": "code",
   "execution_count": 137,
   "metadata": {
    "vscode": {
     "languageId": "r"
    }
   },
   "outputs": [],
   "source": [
    "source(\"plot_forecast_comparison.R\")\n"
   ]
  },
  {
   "cell_type": "markdown",
   "metadata": {},
   "source": [
    "## Argentina"
   ]
  },
  {
   "cell_type": "markdown",
   "metadata": {},
   "source": [
    "### 4.1 Proyeccion EMAE - Argentina"
   ]
  },
  {
   "cell_type": "code",
   "execution_count": 138,
   "metadata": {
    "vscode": {
     "languageId": "r"
    }
   },
   "outputs": [
    {
     "data": {
      "image/png": "[encoded data removed]",
      "text/plain": [
       "plot without title"
      ]
     },
     "metadata": {
      "image/png": {
       "height": 420,
       "width": 420
      }
     },
     "output_type": "display_data"
    }
   ],
   "source": [
    "# 2. Definir parámetros para el gráfico\n",
    "h_forecast_emae <- 12 # Horizonte ya definido\n",
    "model_to_plot_emae <- model_emae_arg # Modelo ARIMA ajustado (forzado)\n",
    "original_ts_emae <- dl_emae\n",
    "title_emae <- \"Dif. Log. EMAE Argentina\"\n",
    "start_plot_emae <- 2022 # Año desde donde mostrar histórico\n",
    "ylabel_emae <- \"Diferencia Logarítmica\" # Etiqueta eje Y\n",
    "\n",
    "# 3. Llamar a la función para generar el objeto ggplot\n",
    "plot_emae_comparison <- plot_forecast_vs_actual(\n",
    "  model = model_to_plot_emae,\n",
    "  original_ts = original_ts_emae,\n",
    "  h = h_forecast_emae,\n",
    "  series_title = title_emae,\n",
    "  start_year_plot = start_plot_emae,\n",
    "  ylab_text = ylabel_emae,\n",
    "  show_pi = FALSE # No mostrar Intervalos de Predicción por ahora\n",
    ")\n",
    "\n",
    "# 4. Mostrar el gráfico generado\n",
    "print(plot_emae_comparison)\n"
   ]
  },
  {
   "cell_type": "markdown",
   "metadata": {},
   "source": [
    "### 4.2 Proyeccion IPC - Argentina"
   ]
  },
  {
   "cell_type": "code",
   "execution_count": 139,
   "metadata": {
    "vscode": {
     "languageId": "r"
    }
   },
   "outputs": [
    {
     "data": {
      "image/png": "[encoded data removed]",
      "text/plain": [
       "plot without title"
      ]
     },
     "metadata": {
      "image/png": {
       "height": 420,
       "width": 420
      }
     },
     "output_type": "display_data"
    }
   ],
   "source": [
    "h_forecast_ipc <- 12 # Horizonte\n",
    "model_to_plot_ipc <- model_ipc_arg # Modelo ARIMA ajustado (forzado o auto.arima)\n",
    "original_ts_ipc <- dl_ipc_arg # Serie original completa (diferencias log)\n",
    "title_ipc <- \"Dif. Log. IPC Argentina\" # Título para el gráfico\n",
    "start_plot_ipc <- 2022 # Año desde donde mostrar histórico\n",
    "ylabel_ipc <- \"Diferencia Logarítmica\" # Etiqueta eje Y\n",
    "\n",
    "plot_ipc_comparison <- plot_forecast_vs_actual(\n",
    "  model = model_to_plot_ipc,\n",
    "  original_ts = original_ts_ipc,\n",
    "  h = h_forecast_ipc,\n",
    "  series_title = title_ipc,\n",
    "  start_year_plot = start_plot_ipc,\n",
    "  ylab_text = ylabel_ipc,\n",
    "  show_pi = FALSE # No mostrar Intervalos de Predicción\n",
    ")\n",
    "\n",
    "# 4. Mostrar el gráfico generado\n",
    "print(plot_ipc_comparison)\n"
   ]
  },
  {
   "cell_type": "markdown",
   "metadata": {},
   "source": [
    "### 4.3 Proyeccion Agregado Monetario M2 - Argentina"
   ]
  },
  {
   "cell_type": "code",
   "execution_count": 140,
   "metadata": {
    "vscode": {
     "languageId": "r"
    }
   },
   "outputs": [
    {
     "data": {
      "image/png": "[encoded data removed]",
      "text/plain": [
       "plot without title"
      ]
     },
     "metadata": {
      "image/png": {
       "height": 420,
       "width": 420
      }
     },
     "output_type": "display_data"
    }
   ],
   "source": [
    "# 2. Definir parámetros específicos para el gráfico del M2\n",
    "h_forecast_m2 <- 12 # Horizonte\n",
    "model_to_plot_m2 <- model_m2_arg # Modelo ARIMA ajustado\n",
    "original_ts_m2 <- dl_m2_arg # Serie original completa (diferencias log)\n",
    "title_m2 <- \"Dif. Log. M2 Argentina\" # Título para el gráfico\n",
    "start_plot_m2 <- 2022 # Año desde donde mostrar histórico\n",
    "ylabel_m2 <- \"Diferencia Logarítmica\" # Etiqueta eje Y\n",
    "\n",
    "# 3. Llamar a la función para generar el objeto ggplot\n",
    "plot_m2_comparison <- plot_forecast_vs_actual(\n",
    "  model = model_to_plot_m2,\n",
    "  original_ts = original_ts_m2,\n",
    "  h = h_forecast_m2,\n",
    "  series_title = title_m2,\n",
    "  start_year_plot = start_plot_m2,\n",
    "  ylab_text = ylabel_m2,\n",
    "  show_pi = FALSE # No mostrar Intervalos de Predicción\n",
    ")\n",
    "\n",
    "# 4. Mostrar el gráfico generado\n",
    "print(plot_m2_comparison)\n"
   ]
  },
  {
   "cell_type": "markdown",
   "metadata": {},
   "source": [
    "### 4.4 Proyeccion Tasa de interes - Argentina"
   ]
  },
  {
   "cell_type": "code",
   "execution_count": 141,
   "metadata": {
    "vscode": {
     "languageId": "r"
    }
   },
   "outputs": [
    {
     "data": {
      "image/png": "[encoded data removed]",
      "text/plain": [
       "plot without title"
      ]
     },
     "metadata": {
      "image/png": {
       "height": 420,
       "width": 420
      }
     },
     "output_type": "display_data"
    }
   ],
   "source": [
    "h_forecast_tasa <- 12 # Horizonte\n",
    "model_to_plot_tasa <- model_tasa_arg # Modelo ARIMA ajustado (forzado o auto.arima)\n",
    "original_ts_tasa <- dl_tasa_arg # Serie original completa (diferencias log)\n",
    "title_tasa <- \"Dif. Log. TASA Argentina\" # Título para el gráfico\n",
    "start_plot_tasa <- 2022 # Año desde donde mostrar histórico\n",
    "ylabel_tasa <- \"Diferencia Logarítmica\" # Etiqueta eje Y\n",
    "\n",
    "plot_tasa_comparison <- plot_forecast_vs_actual(\n",
    "  model = model_to_plot_tasa,\n",
    "  original_ts = original_ts_tasa,\n",
    "  h = h_forecast_tasa,\n",
    "  series_title = title_tasa,\n",
    "  start_year_plot = start_plot_tasa,\n",
    "  ylab_text = ylabel_tasa,\n",
    "  show_pi = FALSE # No mostrar Intervalos de Predicción\n",
    ")\n",
    "\n",
    "# 4. Mostrar el gráfico generado\n",
    "print(plot_tasa_comparison)"
   ]
  },
  {
   "cell_type": "markdown",
   "metadata": {},
   "source": [
    "## Chile"
   ]
  },
  {
   "cell_type": "markdown",
   "metadata": {},
   "source": [
    "### 4.5 Proyeccion IMACEC - Chile"
   ]
  },
  {
   "cell_type": "code",
   "execution_count": 142,
   "metadata": {
    "vscode": {
     "languageId": "r"
    }
   },
   "outputs": [
    {
     "data": {
      "image/png": "[encoded data removed]",
      "text/plain": [
       "plot without title"
      ]
     },
     "metadata": {
      "image/png": {
       "height": 420,
       "width": 420
      }
     },
     "output_type": "display_data"
    }
   ],
   "source": [
    "# Modelo ARIMA simplificado sin regresores externos\n",
    "h_forecast_imacec <- 12\n",
    "model_to_plot_imacec <- model_imacec_chi\n",
    "original_ts_imacec <- dl_imacec\n",
    "title_imacec <- \"Dif. Log. IMACEC Chile\"\n",
    "start_plot_imacec <- 2022\n",
    "ylabel_imacec <- \"Diferencia Logarítmica\"\n",
    "\n",
    "# Utilizar la función modular directamente sin complicaciones\n",
    "plot_imacec_comparison <- plot_forecast_vs_actual(\n",
    "  model           = model_to_plot_imacec,\n",
    "  original_ts     = original_ts_imacec,\n",
    "  h               = h_forecast_imacec,\n",
    "  series_title    = title_imacec,\n",
    "  start_year_plot = start_plot_imacec,\n",
    "  ylab_text       = ylabel_imacec,\n",
    "  show_pi         = FALSE\n",
    ")\n",
    "\n",
    "# Mostrar el gráfico\n",
    "print(plot_imacec_comparison)\n"
   ]
  },
  {
   "cell_type": "markdown",
   "metadata": {},
   "source": [
    "### 4.6 Proyeccion IPC - Chile"
   ]
  },
  {
   "cell_type": "code",
   "execution_count": 143,
   "metadata": {
    "vscode": {
     "languageId": "r"
    }
   },
   "outputs": [
    {
     "data": {
      "image/png": "[encoded data removed]",
      "text/plain": [
       "plot without title"
      ]
     },
     "metadata": {
      "image/png": {
       "height": 420,
       "width": 420
      }
     },
     "output_type": "display_data"
    }
   ],
   "source": [
    "# --- Graficar Pronóstico IPC Chile con modelo ARIMA vs Real usando función modular ---\n",
    "\n",
    "# 2. Definir parámetros para el gráfico del IPC Chile\n",
    "h_forecast_ipc_chi <- 12                      # Horizonte\n",
    "model_to_plot_ipc_chi <- model_ipc_chi        # Usar el nuevo modelo ARIMA\n",
    "original_ts_ipc_chi <- dl_ipc_chi             # Serie original completa (diferencias log)\n",
    "title_ipc_chi <- \"Dif. Log. IPC Chile (ARIMA)\"  # Actualizar título\n",
    "start_plot_ipc_chi <- 2022                    # Año desde donde mostrar histórico\n",
    "ylabel_ipc_chi <- \"Diferencia Logarítmica\"    # Etiqueta eje Y\n",
    "\n",
    "# 3. Llamar a la función para generar el objeto ggplot\n",
    "# No necesitamos xreg ya que el nuevo modelo no usa regresores externos\n",
    "plot_ipc_chi_comparison <- plot_forecast_vs_actual(\n",
    "  model = model_to_plot_ipc_chi,\n",
    "  original_ts = original_ts_ipc_chi,\n",
    "  h = h_forecast_ipc_chi,\n",
    "  series_title = title_ipc_chi,\n",
    "  start_year_plot = start_plot_ipc_chi,\n",
    "  ylab_text = ylabel_ipc_chi,\n",
    "  show_pi = FALSE  # No mostrar Intervalos de Predicción\n",
    ")\n",
    "\n",
    "# 4. Mostrar el gráfico generado\n",
    "print(plot_ipc_chi_comparison)"
   ]
  },
  {
   "cell_type": "markdown",
   "metadata": {},
   "source": [
    "### 4.6 Proyeccion Agregado Monetario M2 - Chile"
   ]
  },
  {
   "cell_type": "code",
   "execution_count": 144,
   "metadata": {
    "vscode": {
     "languageId": "r"
    }
   },
   "outputs": [
    {
     "data": {
      "image/png": "[encoded data removed]",
      "text/plain": [
       "plot without title"
      ]
     },
     "metadata": {
      "image/png": {
       "height": 420,
       "width": 420
      }
     },
     "output_type": "display_data"
    }
   ],
   "source": [
    "# --- Graficar Pronóstico M2 Chile vs Real usando función modular ---\n",
    "\n",
    "# 1. Cargar la función desde el script R (si no se ha hecho antes)\n",
    "# source(\"plot_forecast_comparison.R\")\n",
    "\n",
    "# 2. Definir parámetros específicos para el gráfico del M2 Chile\n",
    "h_forecast_m2_chi <- 12 # Horizonte (asumido)\n",
    "model_to_plot_m2_chi <- model_m2_chi # Modelo ARIMA ajustado\n",
    "original_ts_m2_chi <- dl_m2_chi # Serie original completa (diferencias log)\n",
    "title_m2_chi <- \"Dif. Log. M2 Chile\" # Título para el gráfico\n",
    "start_plot_m2_chi <- 2022 # Año desde donde mostrar histórico\n",
    "ylabel_m2_chi <- \"Diferencia Logarítmica\" # Etiqueta eje Y\n",
    "\n",
    "# 3. Llamar a la función para generar el objeto ggplot\n",
    "plot_m2_chi_comparison <- plot_forecast_vs_actual(\n",
    "  model = model_to_plot_m2_chi,\n",
    "  original_ts = original_ts_m2_chi,\n",
    "  h = h_forecast_m2_chi,\n",
    "  series_title = title_m2_chi,\n",
    "  start_year_plot = start_plot_m2_chi,\n",
    "  ylab_text = ylabel_m2_chi,\n",
    "  show_pi = FALSE # No mostrar Intervalos de Predicción\n",
    ")\n",
    "\n",
    "# 4. Mostrar el gráfico generado\n",
    "print(plot_m2_chi_comparison)\n",
    "\n",
    "# 5. (Opcional) Guardar el gráfico con dimensiones y resolución específicas\n",
    "# DESCOMENTA para guardar la imagen.\n",
    "# dir.create(\"graficos\", showWarnings = FALSE)\n",
    "# ggsave(\n",
    "#   filename = \"graficos/pronostico_m2_chi_comparacion.png\", # Nombre de archivo\n",
    "#   plot = plot_m2_chi_comparison,\n",
    "#   width = 10,  # Ancho\n",
    "#   height = 6,  # Alto\n",
    "#   dpi = 300    # Resolución\n",
    "# )\n",
    "# print(\"Gráfico guardado en graficos/pronostico_m2_chi_comparacion.png\")\n"
   ]
  },
  {
   "cell_type": "markdown",
   "metadata": {},
   "source": [
    "### 4.7 Proyeccion Diferencia Logaritmica de Tasa de Interes - Chile"
   ]
  },
  {
   "cell_type": "code",
   "execution_count": 145,
   "metadata": {
    "vscode": {
     "languageId": "r"
    }
   },
   "outputs": [
    {
     "data": {
      "image/png": "[encoded data removed]",
      "text/plain": [
       "plot without title"
      ]
     },
     "metadata": {
      "image/png": {
       "height": 420,
       "width": 420
      }
     },
     "output_type": "display_data"
    }
   ],
   "source": [
    "# --- Graficar Pronóstico TASA Chile vs Real usando función modular ---\n",
    "\n",
    "# 1. Cargar la función desde el script R (si no se ha hecho antes)\n",
    "# source(\"plot_forecast_comparison.R\")\n",
    "\n",
    "# 2. Definir parámetros específicos para el gráfico de la TASA Chile\n",
    "h_forecast_tasa_chi <- 12 # Horizonte\n",
    "model_to_plot_tasa_chi <- model_tasa_chi # Modelo ARIMA ajustado (forzado o auto.arima)\n",
    "original_ts_tasa_chi <- dl_tasa_chi # Serie original completa (diferencias log)\n",
    "title_tasa_chi <- \"Dif. Log. TASA Chile\" # Título para el gráfico\n",
    "start_plot_tasa_chi <- 2022 # Año desde donde mostrar histórico\n",
    "ylabel_tasa_chi <- \"Diferencia Logarítmica\" # Etiqueta eje Y\n",
    "\n",
    "# 3. Llamar a la función para generar el objeto ggplot\n",
    "# Se usa el modelo actual 'model_tasa_chi'. No se pasa xreg.\n",
    "plot_tasa_chi_comparison <- plot_forecast_vs_actual(\n",
    "  model = model_to_plot_tasa_chi,\n",
    "  original_ts = original_ts_tasa_chi,\n",
    "  h = h_forecast_tasa_chi,\n",
    "  series_title = title_tasa_chi,\n",
    "  start_year_plot = start_plot_tasa_chi,\n",
    "  ylab_text = ylabel_tasa_chi,\n",
    "  show_pi = FALSE # No mostrar Intervalos de Predicción\n",
    ")\n",
    "\n",
    "# 4. Mostrar el gráfico generado\n",
    "print(plot_tasa_chi_comparison)\n",
    "\n",
    "# 5. (Opcional) Guardar el gráfico con dimensiones y resolución específicas\n",
    "# DESCOMENTA para guardar la imagen.\n",
    "# dir.create(\"graficos\", showWarnings = FALSE)\n",
    "# ggsave(\n",
    "#   filename = \"graficos/pronostico_tasa_chi_comparacion.png\", # Nombre de archivo\n",
    "#   plot = plot_tasa_chi_comparison,\n",
    "#   width = 10,  # Ancho\n",
    "#   height = 6,  # Alto\n",
    "#   dpi = 300    # Resolución\n",
    "# )\n",
    "# print(\"Gráfico guardado en graficos/pronostico_tasa_chi_comparacion.png\")\n"
   ]
  },
  {
   "cell_type": "markdown",
   "metadata": {},
   "source": [
    "# 5 - Comparacion y evaluacion de proyecciones"
   ]
  },
  {
   "cell_type": "code",
   "execution_count": 146,
   "metadata": {
    "vscode": {
     "languageId": "r"
    }
   },
   "outputs": [],
   "source": [
    "# Cargar eval_pron.R\n",
    "source(\"eval_pron.R\")\n"
   ]
  },
  {
   "cell_type": "code",
   "execution_count": 147,
   "metadata": {
    "vscode": {
     "languageId": "r"
    }
   },
   "outputs": [],
   "source": [
    "# --- Retransformación con corrección de Jensen (con manejo de longitudes) ---\n",
    "retransform_diflog <- function(fc, last_level) {\n",
    "  # Convertir a valor escalar (número)\n",
    "  last_log_value <- as.numeric(log(last_level))\n",
    "  cum_log <- cumsum(fc$mean)\n",
    "\n",
    "  # Crear vector de resultados\n",
    "  h <- length(cum_log)\n",
    "  forecast_levels <- numeric(h)\n",
    "\n",
    "  # Cálculo manual para cada horizonte\n",
    "  for (i in 1:h) {\n",
    "    # Con o sin corrección de Jensen según disponibilidad\n",
    "    if (!is.null(fc$se) && is.numeric(fc$se)) {\n",
    "      sigma2 <- (fc$se[i])^2\n",
    "      forecast_levels[i] <- exp(last_log_value + cum_log[i] + 0.5 * sigma2)\n",
    "    } else {\n",
    "      # Sin corrección de Jensen\n",
    "      forecast_levels[i] <- exp(last_log_value + cum_log[i])\n",
    "    }\n",
    "  }\n",
    "\n",
    "  # Convertir a objeto ts con la misma frecuencia y fecha de inicio que el pronóstico\n",
    "  start_fc <- start(fc$mean)\n",
    "  freq_fc <- frequency(fc$mean)\n",
    "  return(ts(forecast_levels, start = start_fc, frequency = freq_fc))\n",
    "}\n"
   ]
  },
  {
   "cell_type": "markdown",
   "metadata": {},
   "source": [
    "## 5.1 Comparacion y evaluacion de modelos argentinos"
   ]
  },
  {
   "cell_type": "code",
   "execution_count": 148,
   "metadata": {
    "vscode": {
     "languageId": "r"
    }
   },
   "outputs": [
    {
     "name": "stdout",
     "output_type": "stream",
     "text": [
      "Procesando ARG: EMAE Arg \n",
      "Evaluación ARG completada para: EMAE Arg \n",
      "\n",
      "Procesando ARG: IPC Arg \n",
      "Evaluación ARG completada para: IPC Arg \n",
      "\n",
      "Procesando ARG: M2 Arg \n",
      "Evaluación ARG completada para: M2 Arg \n",
      "\n",
      "Procesando ARG: TASA Arg \n",
      "Evaluación ARG completada para: TASA Arg \n",
      "\n",
      "[1] \"--- Tabla Evaluación ARGENTINA (Niveles 2023) ---\"\n",
      "             EMAE Arg   IPC Arg          M2 Arg TASA Arg\n",
      "RMSE           3.1958 7873.3844 5732754227.2541  25.8595\n",
      "MAE            2.5997 5704.4467 3936500541.1410  21.0132\n",
      "MAPE           1.7793   20.5973         16.5435  18.9541\n",
      "U_Theil        0.0108    0.1915          0.1608   0.1443\n",
      "U_sesgo        0.2278    0.5249          0.4715   0.6603\n",
      "U_varianza     0.0571    0.4533          0.5089   0.3301\n",
      "U_covarianza   0.7151    0.0218          0.0196   0.0096\n"
     ]
    }
   ],
   "source": [
    "# --- Evaluación de Pronósticos ARGENTINA en Niveles (2023) ---\n",
    "\n",
    "# 2. Definir horizonte y período de evaluación (común)\n",
    "h_eval <- 12\n",
    "start_eval <- c(2023, 1)\n",
    "end_eval <- c(2023, 12)\n",
    "\n",
    "# 3. Lista para almacenar los resultados de evaluación de Argentina\n",
    "results_list_arg <- list()\n",
    "\n",
    "# --- Procesamiento y Evaluación Series ARGENTINAS ---\n",
    "\n",
    "# Configuración solo para Argentina\n",
    "series_config_arg <- list(\n",
    "  list(name = \"EMAE Arg\", model = model_emae_arg, original_ts = ts_emae, xreg = NULL),\n",
    "  list(name = \"IPC Arg\", model = model_ipc_arg, original_ts = ts_ipc_arg, xreg = NULL),\n",
    "  list(name = \"M2 Arg\", model = model_m2_arg, original_ts = ts_m2_arg, xreg = NULL),\n",
    "  list(name = \"TASA Arg\", model = model_tasa_arg, original_ts = ts_tasa_arg, xreg = NULL)\n",
    ")\n",
    "\n",
    "# Bucle para series argentinas\n",
    "for (cfg in series_config_arg) {\n",
    "  cat(\"Procesando ARG:\", cfg$name, \"\\n\")\n",
    "\n",
    "  # Generar pronóstico de diferencias logarítmicas\n",
    "  fc_diflog <- tryCatch(\n",
    "    {\n",
    "      forecast(cfg$model, h = h_eval) # No se necesita xreg para Arg\n",
    "    },\n",
    "    error = function(e) {\n",
    "      warning(paste(\"Error al pronosticar para\", cfg$name, \":\", e$message))\n",
    "      return(NULL)\n",
    "    }\n",
    "  )\n",
    "  if (is.null(fc_diflog)) next\n",
    "\n",
    "  # Obtener último valor observado de 2022 para retransformación\n",
    "  last_obs_2022 <- tail(window(cfg$original_ts, end = c(2022, 12)), 1)\n",
    "\n",
    "  # Retransformar a niveles usando la función común\n",
    "  fc_levels <- retransform_diflog(fc_diflog, last_obs_2022)\n",
    "\n",
    "  # Obtener valores reales en niveles\n",
    "  actual_levels <- window(cfg$original_ts, start = start_eval, end = end_eval)\n",
    "\n",
    "  # Preparar vectores y validar longitudes\n",
    "  Y_P <- as.vector(fc_levels)\n",
    "  Y_A <- as.vector(actual_levels)\n",
    "  if (length(Y_A) == 0) {\n",
    "    warning(paste(\"No hay datos reales para\", cfg$name))\n",
    "    next\n",
    "  }\n",
    "  min_len <- min(length(Y_P), length(Y_A))\n",
    "  if (min_len < h_eval) {\n",
    "    warning(paste(\"Datos incompletos en\", cfg$name))\n",
    "  }\n",
    "  Y_P <- Y_P[1:min_len]\n",
    "  Y_A <- Y_A[1:min_len]\n",
    "\n",
    "  # Evaluar\n",
    "  evaluation_metrics <- tryCatch(\n",
    "    {\n",
    "      Eval_Pron(Y_P = Y_P, Y_A = Y_A, Nombre = cfg$name)\n",
    "    },\n",
    "    error = function(e) {\n",
    "      warning(paste(\"Error en Eval_Pron para\", cfg$name, \":\", e$message))\n",
    "      return(NULL)\n",
    "    }\n",
    "  )\n",
    "  if (is.null(evaluation_metrics)) next\n",
    "\n",
    "  results_list_arg[[cfg$name]] <- evaluation_metrics\n",
    "  cat(\"Evaluación ARG completada para:\", cfg$name, \"\\n\\n\")\n",
    "}\n",
    "\n",
    "# Consolidar y mostrar resultados de Argentina\n",
    "if (length(results_list_arg) > 0) {\n",
    "  final_results_table_arg <- do.call(cbind, results_list_arg)\n",
    "  print(\"--- Tabla Evaluación ARGENTINA (Niveles 2023) ---\")\n",
    "  print(round(final_results_table_arg, 4))\n",
    "} else {\n",
    "  print(\"No se generaron resultados para Argentina.\")\n",
    "}\n"
   ]
  },
  {
   "cell_type": "markdown",
   "metadata": {},
   "source": [
    "## 5.2 Comparacion y evaluacion de modelos chilenos\n"
   ]
  },
  {
   "cell_type": "code",
   "execution_count": 149,
   "metadata": {
    "vscode": {
     "languageId": "r"
    }
   },
   "outputs": [
    {
     "name": "stdout",
     "output_type": "stream",
     "text": [
      "Procesando Evaluación para: IMACEC Chi ...\n",
      " -> Evaluación completada.\n",
      "Procesando Evaluación para: IPC Chi ...\n"
     ]
    },
    {
     "name": "stderr",
     "output_type": "stream",
     "text": [
      "Warning message in forecast.forecast_ARIMA(cfg$model, h = h_eval, xreg = xreg_future):\n",
      "\"xreg not required by this model, ignoring the provided regressors\"\n"
     ]
    },
    {
     "name": "stdout",
     "output_type": "stream",
     "text": [
      " -> Evaluación completada.\n",
      "Procesando Evaluación para: M2 Chi ...\n",
      " -> Evaluación completada.\n",
      "Procesando Evaluación para: TASA Chi ...\n",
      " -> Evaluación completada.\n",
      "\n",
      "--- Tabla Evaluación CHILE (Niveles 2023) ---\n",
      "             IMACEC Chi IPC Chi    M2 Chi TASA Chi\n",
      "RMSE             1.4311  3.7765 4697.1157   1.7707\n",
      "MAE              1.0686  3.1432 3652.0657   1.1843\n",
      "MAPE             0.9858  3.1330    2.0335   8.7087\n",
      "U_Theil          0.0066  0.0186    0.0130   0.0567\n",
      "U_sesgo          0.0868  0.6879    0.5504   0.3112\n",
      "U_varianza       0.2070  0.2942    0.3404   0.2945\n",
      "U_covarianza     0.7061  0.0179    0.1092   0.3943\n"
     ]
    }
   ],
   "source": [
    "# -----------------------------------------------------------------\n",
    "# Evaluación de Pronósticos CHILE en Niveles (2023)\n",
    "library(forecast)\n",
    "library(lubridate)\n",
    "\n",
    "if (!exists(\"Eval_Pron\")) stop(\"Función Eval_Pron no encontrada.\")\n",
    "\n",
    "results_list_chi <- list()\n",
    "if (!exists(\"h_eval\")) h_eval <- 12\n",
    "if (!exists(\"start_eval\")) start_eval <- c(2023, 1)\n",
    "if (!exists(\"end_eval\")) end_eval <- c(2023, 12)\n",
    "\n",
    "series_config_chi <- list(\n",
    "  list(name = \"IMACEC Chi\", model = model_imacec_chi, original_ts = ts_imacec, needs_xreg_future = FALSE),\n",
    "  list(name = \"IPC Chi\", model = model_ipc_chi, original_ts = ts_ipc_chi, needs_xreg_future = TRUE),\n",
    "  list(name = \"M2 Chi\", model = model_m2_chi, original_ts = ts_m2_chi, needs_xreg_future = FALSE),\n",
    "  list(name = \"TASA Chi\", model = model_tasa_chi, original_ts = ts_tasa_chi, needs_xreg_future = FALSE)\n",
    ")\n",
    "\n",
    "for (cfg in series_config_chi) {\n",
    "  cat(\"Procesando Evaluación para:\", cfg$name, \"...\\n\")\n",
    "  xreg_future <- NULL\n",
    "  if (cfg$needs_xreg_future && cfg$name == \"IPC Chi\") {\n",
    "    future_ts <- ts(1:h_eval, start = start_eval, frequency = 12)\n",
    "    future_mes <- factor(cycle(future_ts), levels = 1:12)\n",
    "    xreg_future <- model.matrix(~future_mes)[, -1]\n",
    "  }\n",
    "\n",
    "  fc_diflog <- tryCatch(\n",
    "    {\n",
    "      if (cfg$needs_xreg_future) {\n",
    "        forecast(cfg$model, h = h_eval, xreg = xreg_future)\n",
    "      } else {\n",
    "        forecast(cfg$model, h = h_eval)\n",
    "      }\n",
    "    },\n",
    "    error = function(e) {\n",
    "      warning(e$message)\n",
    "      return(NULL)\n",
    "    }\n",
    "  )\n",
    "  if (is.null(fc_diflog)) next\n",
    "\n",
    "  last_obs_2022 <- tail(window(cfg$original_ts, end = c(2022, 12)), 1)\n",
    "  fc_levels <- retransform_diflog(fc_diflog, last_obs_2022)\n",
    "\n",
    "  actual_levels <- window(cfg$original_ts, start = start_eval, end = end_eval)\n",
    "  Y_P <- as.vector(fc_levels)\n",
    "  Y_A <- as.vector(actual_levels)\n",
    "\n",
    "  min_len <- min(length(Y_P), length(Y_A))\n",
    "  if (min_len < h_eval) warning(paste(cfg$name, \": horizonte reducido a\", min_len))\n",
    "  Y_P <- Y_P[1:min_len]\n",
    "  Y_A <- Y_A[1:min_len]\n",
    "\n",
    "  eval_metrics <- tryCatch(\n",
    "    {\n",
    "      Eval_Pron(Y_P = Y_P, Y_A = Y_A, Nombre = cfg$name)\n",
    "    },\n",
    "    error = function(e) {\n",
    "      warning(e$message)\n",
    "      return(NULL)\n",
    "    }\n",
    "  )\n",
    "  if (is.null(eval_metrics)) next\n",
    "\n",
    "  results_list_chi[[cfg$name]] <- eval_metrics\n",
    "  cat(\" -> Evaluación completada.\\n\")\n",
    "}\n",
    "\n",
    "if (length(results_list_chi) > 0) {\n",
    "  tabla_chi <- do.call(cbind, results_list_chi)\n",
    "  cat(\"\\n--- Tabla Evaluación CHILE (Niveles 2023) ---\\n\")\n",
    "  print(round(tabla_chi, 4))\n",
    "} else {\n",
    "  cat(\"No se generaron resultados de evaluación para Chile.\\n\")\n",
    "}\n"
   ]
  },
  {
   "cell_type": "markdown",
   "metadata": {},
   "source": [
    "# 6. Comparación con Suavizado Exponencial (ETS) sin Tendencia"
   ]
  },
  {
   "cell_type": "markdown",
   "metadata": {},
   "source": [
    "## 6.1 Comparacion ETS Argentina"
   ]
  },
  {
   "cell_type": "code",
   "execution_count": 150,
   "metadata": {
    "vscode": {
     "languageId": "r"
    }
   },
   "outputs": [
    {
     "name": "stdout",
     "output_type": "stream",
     "text": [
      "--- Iniciando Proceso ETS (trend='N') para ARGENTINA ---\n",
      "Procesando ETS para: EMAE Arg \n"
     ]
    },
    {
     "name": "stderr",
     "output_type": "stream",
     "text": [
      "Warning message in value[[3L]](cond):\n",
      "\"Error al ajustar ETS para EMAE Arg : No model able to be fitted\"\n"
     ]
    },
    {
     "name": "stdout",
     "output_type": "stream",
     "text": [
      "  AJUSTE ETS FALLÓ para EMAE Arg - No se puede continuar.\n",
      "\n",
      "Procesando ETS para: IPC Arg \n"
     ]
    },
    {
     "name": "stderr",
     "output_type": "stream",
     "text": [
      "Warning message in value[[3L]](cond):\n",
      "\"Error al ajustar ETS para IPC Arg : No model able to be fitted\"\n"
     ]
    },
    {
     "name": "stdout",
     "output_type": "stream",
     "text": [
      "  AJUSTE ETS FALLÓ para IPC Arg - No se puede continuar.\n",
      "\n",
      "Procesando ETS para: M2 Arg \n"
     ]
    },
    {
     "name": "stderr",
     "output_type": "stream",
     "text": [
      "Warning message in value[[3L]](cond):\n",
      "\"Error al ajustar ETS para M2 Arg : No model able to be fitted\"\n"
     ]
    },
    {
     "name": "stdout",
     "output_type": "stream",
     "text": [
      "  AJUSTE ETS FALLÓ para M2 Arg - No se puede continuar.\n",
      "\n",
      "Procesando ETS para: TASA Arg \n"
     ]
    },
    {
     "name": "stderr",
     "output_type": "stream",
     "text": [
      "Warning message in value[[3L]](cond):\n",
      "\"Error al ajustar ETS para TASA Arg : No model able to be fitted\"\n"
     ]
    },
    {
     "name": "stdout",
     "output_type": "stream",
     "text": [
      "  AJUSTE ETS FALLÓ para TASA Arg - No se puede continuar.\n",
      "\n",
      "--- Proceso ETS para ARGENTINA Finalizado ---\n",
      "\n",
      "[1] \"No se generaron resultados de evaluación ETS válidos para Argentina.\"\n"
     ]
    }
   ],
   "source": [
    "# --- Ajuste, Pronóstico y Evaluación ARGENTINA con ETS (Sin Tendencia) ---\n",
    "\n",
    "# 1. Cargar paquetes y funciones necesarias (si no están cargados)\n",
    "# library(forecast)\n",
    "# source(\"eval_pron.R\") # Asegurarse que Eval_Pron esté disponible\n",
    "\n",
    "# 2. Definir períodos y horizonte\n",
    "end_train_ets <- c(2022, 12)\n",
    "start_eval_ets <- c(2023, 1)\n",
    "end_eval_ets <- c(2023, 12)\n",
    "h_ets <- 12\n",
    "\n",
    "# 3. Lista para almacenar resultados de evaluación ETS para Argentina\n",
    "results_list_ets_arg <- list()\n",
    "\n",
    "# 4. Configuración de las series ARGENTINAS (usando las series originales en NIVELES)\n",
    "series_config_ets_arg <- list(\n",
    "  list(name = \"EMAE Arg\", original_ts = ts_emae),\n",
    "  list(name = \"IPC Arg\", original_ts = ts_ipc_arg),\n",
    "  list(name = \"M2 Arg\", original_ts = ts_m2_arg),\n",
    "  list(name = \"TASA Arg\", original_ts = ts_tasa_arg)\n",
    ")\n",
    "\n",
    "# --- Bucle para Ajuste, Pronóstico y Evaluación ETS (Solo Argentina) ---\n",
    "cat(\"--- Iniciando Proceso ETS (trend='N') para ARGENTINA ---\\n\")\n",
    "for (cfg in series_config_ets_arg) {\n",
    "  cat(\"Procesando ETS para:\", cfg$name, \"\\n\")\n",
    "\n",
    "  # Extraer datos de entrenamiento (NIVELES)\n",
    "  training_ts <- window(cfg$original_ts, end = end_train_ets)\n",
    "\n",
    "  # Validar si hay datos suficientes\n",
    "  if (length(training_ts) < 2 * frequency(training_ts)) {\n",
    "    warning(paste(\"Datos insuficientes para ETS en\", cfg$name, \". Saltando.\"))\n",
    "    next\n",
    "  }\n",
    "\n",
    "  # Ajustar modelo ETS (Sin Tendencia, Error/Seasonality automáticos)\n",
    "  ets_model <- tryCatch(\n",
    "    {\n",
    "      ets(training_ts, trend = \"N\", allow.multiplicative.trend = FALSE)\n",
    "    },\n",
    "    error = function(e) {\n",
    "      warning(paste(\"Error al ajustar ETS para\", cfg$name, \":\", e$message))\n",
    "      return(NULL)\n",
    "    }\n",
    "  )\n",
    "\n",
    "  if (is.null(ets_model)) {\n",
    "    cat(\"  AJUSTE ETS FALLÓ para\", cfg$name, \"- No se puede continuar.\\n\\n\")\n",
    "    next\n",
    "  }\n",
    "\n",
    "  cat(\"  Modelo ETS ajustado:\", ets_model$method, \"\\n\")\n",
    "\n",
    "  # Generar pronóstico ETS\n",
    "  ets_forecast <- tryCatch(\n",
    "    {\n",
    "      forecast(ets_model, h = h_ets)\n",
    "    },\n",
    "    error = function(e) {\n",
    "      warning(paste(\"Error al pronosticar ETS para\", cfg$name, \":\", e$message))\n",
    "      return(NULL)\n",
    "    }\n",
    "  )\n",
    "\n",
    "  if (is.null(ets_forecast)) next\n",
    "\n",
    "  # Obtener pronóstico medio (Y_P) y valores reales (Y_A)\n",
    "  Y_P_ets <- as.vector(ets_forecast$mean)\n",
    "  actual_levels_eval <- window(cfg$original_ts, start = start_eval_ets, end = end_eval_ets)\n",
    "  Y_A_ets <- as.vector(actual_levels_eval)\n",
    "\n",
    "  # Validar longitudes\n",
    "  if (length(Y_A_ets) == 0) {\n",
    "    warning(paste(\"No hay datos reales 2023 para\", cfg$name))\n",
    "    next\n",
    "  }\n",
    "  min_len_ets <- min(length(Y_P_ets), length(Y_A_ets))\n",
    "  if (min_len_ets < h_ets) {\n",
    "    warning(paste(\"Datos incompletos ETS en\", cfg$name))\n",
    "  }\n",
    "  Y_P_ets <- Y_P_ets[1:min_len_ets]\n",
    "  Y_A_ets <- Y_A_ets[1:min_len_ets]\n",
    "\n",
    "  # Evaluar usando Eval_Pron\n",
    "  evaluation_metrics_ets <- tryCatch(\n",
    "    {\n",
    "      Eval_Pron(Y_P = Y_P_ets, Y_A = Y_A_ets, Nombre = paste(cfg$name, \"(ETS)\"))\n",
    "    },\n",
    "    error = function(e) {\n",
    "      warning(paste(\"Error en Eval_Pron para ETS\", cfg$name, \":\", e$message))\n",
    "      return(NULL)\n",
    "    }\n",
    "  )\n",
    "\n",
    "  if (is.null(evaluation_metrics_ets)) next\n",
    "\n",
    "  # Guardar resultados\n",
    "  results_list_ets_arg[[cfg$name]] <- evaluation_metrics_ets\n",
    "\n",
    "  cat(\"  Evaluación ETS completada para:\", cfg$name, \"\\n\\n\")\n",
    "}\n",
    "cat(\"--- Proceso ETS para ARGENTINA Finalizado ---\\n\\n\")\n",
    "\n",
    "# 5. Consolidar y mostrar resultados ETS de Argentina\n",
    "if (length(results_list_ets_arg) > 0) {\n",
    "  final_results_table_ets_arg <- do.call(cbind, results_list_ets_arg)\n",
    "  print(\"--- Tabla Resumen Evaluación Pronósticos ETS ARGENTINA (trend='N') (Niveles 2023) ---\")\n",
    "  # Renombrar columna si solo queda una\n",
    "  if (ncol(final_results_table_ets_arg) == 1 && length(results_list_ets_arg) == 1) {\n",
    "    colnames(final_results_table_ets_arg) <- names(results_list_ets_arg)\n",
    "  }\n",
    "  print(round(final_results_table_ets_arg, 4))\n",
    "} else {\n",
    "  print(\"No se generaron resultados de evaluación ETS válidos para Argentina.\")\n",
    "}\n"
   ]
  }
 ],
 "metadata": {
  "kernelspec": {
   "display_name": "R (System)",
   "language": "R",
   "name": "r_system"
  },
  "language_info": {
   "codemirror_mode": "r",
   "file_extension": ".r",
   "mimetype": "text/x-r-source",
   "name": "R",
   "pygments_lexer": "r",
   "version": "4.4.3"
  }
 },
 "nbformat": 4,
 "nbformat_minor": 2
}
